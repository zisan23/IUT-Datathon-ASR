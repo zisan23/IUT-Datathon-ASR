{
 "cells": [
  {
   "cell_type": "markdown",
   "id": "e2a3ff73",
   "metadata": {
    "papermill": {
     "duration": 0.004646,
     "end_time": "2023-10-14T19:56:48.136116",
     "exception": false,
     "start_time": "2023-10-14T19:56:48.131470",
     "status": "completed"
    },
    "tags": []
   },
   "source": [
    "## Import"
   ]
  },
  {
   "cell_type": "code",
   "execution_count": 1,
   "id": "bce29bfd",
   "metadata": {
    "_kg_hide-output": true,
    "execution": {
     "iopub.execute_input": "2023-10-14T19:56:48.146689Z",
     "iopub.status.busy": "2023-10-14T19:56:48.145620Z",
     "iopub.status.idle": "2023-10-14T19:57:51.709012Z",
     "shell.execute_reply": "2023-10-14T19:57:51.707906Z"
    },
    "papermill": {
     "duration": 63.570929,
     "end_time": "2023-10-14T19:57:51.711182",
     "exception": false,
     "start_time": "2023-10-14T19:56:48.140253",
     "status": "completed"
    },
    "tags": []
   },
   "outputs": [
    {
     "name": "stdout",
     "output_type": "stream",
     "text": [
      "jiwer/\r\n",
      "jiwer/jiwer-2.3.0-py3-none-any.whl\r\n",
      "jiwer/python-Levenshtein-0.12.2.tar.gz\r\n",
      "jiwer/setuptools-65.3.0-py3-none-any.whl\r\n",
      "Looking in links: ./\r\n",
      "Processing ./jiwer/jiwer-2.3.0-py3-none-any.whl\r\n",
      "INFO: pip is looking at multiple versions of jiwer to determine which version is compatible with other requirements. This could take a while.\r\n",
      "\u001b[31mERROR: Could not find a version that satisfies the requirement python-Levenshtein==0.12.2 (from jiwer) (from versions: none)\u001b[0m\u001b[31m\r\n",
      "\u001b[0m\u001b[31mERROR: No matching distribution found for python-Levenshtein==0.12.2\u001b[0m\u001b[31m\r\n",
      "\u001b[0mnormalizer/\r\n",
      "normalizer/bnunicodenormalizer-0.0.24.tar.gz\r\n",
      "Looking in links: ./\r\n",
      "Processing ./normalizer/bnunicodenormalizer-0.0.24.tar.gz\r\n",
      "  Preparing metadata (setup.py) ... \u001b[?25l-\b \bdone\r\n",
      "\u001b[?25hBuilding wheels for collected packages: bnunicodenormalizer\r\n",
      "  Building wheel for bnunicodenormalizer (setup.py) ... \u001b[?25l-\b \b\\\b \bdone\r\n",
      "\u001b[?25h  Created wheel for bnunicodenormalizer: filename=bnunicodenormalizer-0.0.24-py3-none-any.whl size=17628 sha256=ddfd5218084aadec7054172e8b4d70c3799f10fc0a5f03be155aaa7028aa5522\r\n",
      "  Stored in directory: /root/.cache/pip/wheels/78/d7/75/6986dc3616718f950b80e3bd79a796ef618eaef6cd800e7909\r\n",
      "Successfully built bnunicodenormalizer\r\n",
      "Installing collected packages: bnunicodenormalizer\r\n",
      "Successfully installed bnunicodenormalizer-0.0.24\r\n",
      "pyctcdecode/\r\n",
      "pyctcdecode/hypothesis-6.54.4-py3-none-any.whl\r\n",
      "pyctcdecode/sortedcontainers-2.4.0-py2.py3-none-any.whl\r\n",
      "pyctcdecode/exceptiongroup-1.0.0rc9-py3-none-any.whl\r\n",
      "pyctcdecode/pyctcdecode-0.4.0-py2.py3-none-any.whl\r\n",
      "pyctcdecode/numpy-1.21.6-cp37-cp37m-manylinux_2_12_x86_64.manylinux2010_x86_64.whl\r\n",
      "pyctcdecode/attrs-22.1.0-py2.py3-none-any.whl\r\n",
      "pyctcdecode/pygtrie-2.5.0.tar.gz\r\n",
      "Looking in links: ./\r\n",
      "Processing ./pyctcdecode/attrs-22.1.0-py2.py3-none-any.whl\r\n",
      "Installing collected packages: attrs\r\n",
      "  Attempting uninstall: attrs\r\n",
      "    Found existing installation: attrs 23.1.0\r\n",
      "    Uninstalling attrs-23.1.0:\r\n",
      "      Successfully uninstalled attrs-23.1.0\r\n",
      "Successfully installed attrs-22.1.0\r\n",
      "Looking in links: ./\r\n",
      "Processing ./pyctcdecode/exceptiongroup-1.0.0rc9-py3-none-any.whl\r\n",
      "Installing collected packages: exceptiongroup\r\n",
      "  Attempting uninstall: exceptiongroup\r\n",
      "    Found existing installation: exceptiongroup 1.1.1\r\n",
      "    Uninstalling exceptiongroup-1.1.1:\r\n",
      "      Successfully uninstalled exceptiongroup-1.1.1\r\n",
      "Successfully installed exceptiongroup-1.0.0rc9\r\n",
      "Looking in links: ./\r\n",
      "Processing ./pyctcdecode/hypothesis-6.54.4-py3-none-any.whl\r\n",
      "Installing collected packages: hypothesis\r\n",
      "Successfully installed hypothesis-6.54.4\r\n",
      "Looking in links: ./\r\n",
      "\u001b[31mERROR: numpy-1.21.6-cp37-cp37m-manylinux_2_12_x86_64.manylinux2010_x86_64.whl is not a supported wheel on this platform.\u001b[0m\u001b[31m\r\n",
      "\u001b[0mLooking in links: ./\r\n",
      "Processing ./pyctcdecode/pygtrie-2.5.0.tar.gz\r\n",
      "  Preparing metadata (setup.py) ... \u001b[?25l-\b \bdone\r\n",
      "\u001b[?25hBuilding wheels for collected packages: pygtrie\r\n",
      "  Building wheel for pygtrie (setup.py) ... \u001b[?25l-\b \b\\\b \bdone\r\n",
      "\u001b[?25h  Created wheel for pygtrie: filename=pygtrie-2.5.0-py3-none-any.whl size=20945 sha256=7757e5002338d2733722586bd19862d38a3591d66cd898d6ad0d04e841392296\r\n",
      "  Stored in directory: /root/.cache/pip/wheels/78/28/09/b62c97a3e77102645c7ecc78c97580ad57090b1eee5438d6ac\r\n",
      "Successfully built pygtrie\r\n",
      "Installing collected packages: pygtrie\r\n",
      "Successfully installed pygtrie-2.5.0\r\n",
      "Looking in links: ./\r\n",
      "Processing ./pyctcdecode/sortedcontainers-2.4.0-py2.py3-none-any.whl\r\n",
      "sortedcontainers is already installed with the same version as the provided wheel. Use --force-reinstall to force an installation of the wheel.\r\n",
      "Looking in links: ./\r\n",
      "Processing ./pyctcdecode/pyctcdecode-0.4.0-py2.py3-none-any.whl\r\n",
      "Installing collected packages: pyctcdecode\r\n",
      "Successfully installed pyctcdecode-0.4.0\r\n",
      "Processing ./pypi-kenlm-0.1.20220713\r\n",
      "  Preparing metadata (setup.py) ... \u001b[?25l-\b \b\\\b \bdone\r\n",
      "\u001b[?25hBuilding wheels for collected packages: pypi-kenlm\r\n",
      "  Building wheel for pypi-kenlm (setup.py) ... \u001b[?25l-\b \b\\\b \b|\b \b/\b \b-\b \b\\\b \b|\b \b/\b \b-\b \b\\\b \b|\b \b/\b \b-\b \b\\\b \b|\b \b/\b \b-\b \b\\\b \b|\b \b/\b \b-\b \b\\\b \b|\b \b/\b \b-\b \b\\\b \b|\b \b/\b \b-\b \b\\\b \b|\b \b/\b \b-\b \b\\\b \b|\b \b/\b \b-\b \b\\\b \b|\b \b/\b \bdone\r\n",
      "\u001b[?25h  Created wheel for pypi-kenlm: filename=pypi_kenlm-0.1.20220713-cp310-cp310-linux_x86_64.whl size=333721 sha256=5c0507be1b90a44490dcc1aca94d924ee2d6b9cd454085781dbc8b05eb81d132\r\n",
      "  Stored in directory: /root/.cache/pip/wheels/0e/45/26/cbb23f7e2930534fb903b1b0f6d9ef3df74b87592c32690953\r\n",
      "Successfully built pypi-kenlm\r\n",
      "Installing collected packages: pypi-kenlm\r\n",
      "Successfully installed pypi-kenlm-0.1.20220713\r\n"
     ]
    }
   ],
   "source": [
    "!cp -r ../input/python-packages2 ./\n",
    "\n",
    "!tar xvfz ./python-packages2/jiwer.tgz\n",
    "!pip install ./jiwer/jiwer-2.3.0-py3-none-any.whl -f ./ --no-index\n",
    "!tar xvfz ./python-packages2/normalizer.tgz\n",
    "!pip install ./normalizer/bnunicodenormalizer-0.0.24.tar.gz -f ./ --no-index\n",
    "!tar xvfz ./python-packages2/pyctcdecode.tgz\n",
    "!pip install ./pyctcdecode/attrs-22.1.0-py2.py3-none-any.whl -f ./ --no-index --no-deps\n",
    "!pip install ./pyctcdecode/exceptiongroup-1.0.0rc9-py3-none-any.whl -f ./ --no-index --no-deps\n",
    "!pip install ./pyctcdecode/hypothesis-6.54.4-py3-none-any.whl -f ./ --no-index --no-deps\n",
    "!pip install ./pyctcdecode/numpy-1.21.6-cp37-cp37m-manylinux_2_12_x86_64.manylinux2010_x86_64.whl -f ./ --no-index --no-deps\n",
    "!pip install ./pyctcdecode/pygtrie-2.5.0.tar.gz -f ./ --no-index --no-deps\n",
    "!pip install ./pyctcdecode/sortedcontainers-2.4.0-py2.py3-none-any.whl -f ./ --no-index --no-deps\n",
    "!pip install ./pyctcdecode/pyctcdecode-0.4.0-py2.py3-none-any.whl -f ./ --no-index --no-deps\n",
    "\n",
    "# !tar xvfz ./python-packages2/pypikenlm.tgz\n",
    "# !pip install ./pypikenlm/pypi-kenlm-0.1.20220713.tar.gz -f ./ --no-index --no-deps\n",
    "\n",
    "!cp -r /kaggle/input/pypi-kenlm/pypi-kenlm-0.1.20220713 ./\n",
    "!pip install ./pypi-kenlm-0.1.20220713 --no-index --no-deps"
   ]
  },
  {
   "cell_type": "code",
   "execution_count": 2,
   "id": "7f054808",
   "metadata": {
    "execution": {
     "iopub.execute_input": "2023-10-14T19:57:51.728223Z",
     "iopub.status.busy": "2023-10-14T19:57:51.727931Z",
     "iopub.status.idle": "2023-10-14T19:57:53.648133Z",
     "shell.execute_reply": "2023-10-14T19:57:53.646880Z"
    },
    "papermill": {
     "duration": 1.931144,
     "end_time": "2023-10-14T19:57:53.650332",
     "exception": false,
     "start_time": "2023-10-14T19:57:51.719188",
     "status": "completed"
    },
    "tags": []
   },
   "outputs": [
    {
     "name": "stdout",
     "output_type": "stream",
     "text": [
      "rm: cannot remove 'pypikenlm': No such file or directory\r\n"
     ]
    }
   ],
   "source": [
    "!rm -r python-packages2 jiwer normalizer pyctcdecode pypikenlm\n",
    "!rm -r pypi-kenlm-0.1.20220713"
   ]
  },
  {
   "cell_type": "code",
   "execution_count": 3,
   "id": "dff96524",
   "metadata": {
    "_cell_guid": "b1076dfc-b9ad-4769-8c92-a6c4dae69d19",
    "_uuid": "8f2839f25d086af736a60e9eeb907d3b93b6e0e5",
    "execution": {
     "iopub.execute_input": "2023-10-14T19:57:53.667467Z",
     "iopub.status.busy": "2023-10-14T19:57:53.666705Z",
     "iopub.status.idle": "2023-10-14T19:58:04.931919Z",
     "shell.execute_reply": "2023-10-14T19:58:04.931018Z"
    },
    "papermill": {
     "duration": 11.27589,
     "end_time": "2023-10-14T19:58:04.933957",
     "exception": false,
     "start_time": "2023-10-14T19:57:53.658067",
     "status": "completed"
    },
    "tags": []
   },
   "outputs": [
    {
     "name": "stderr",
     "output_type": "stream",
     "text": [
      "/opt/conda/lib/python3.10/site-packages/scipy/__init__.py:146: UserWarning: A NumPy version >=1.16.5 and <1.23.0 is required for this version of SciPy (detected version 1.23.5\n",
      "  warnings.warn(f\"A NumPy version >={np_minversion} and <{np_maxversion}\"\n",
      "/opt/conda/lib/python3.10/site-packages/tensorflow_io/python/ops/__init__.py:98: UserWarning: unable to load libtensorflow_io_plugins.so: unable to open file: libtensorflow_io_plugins.so, from paths: ['/opt/conda/lib/python3.10/site-packages/tensorflow_io/python/ops/libtensorflow_io_plugins.so']\n",
      "caused by: ['/opt/conda/lib/python3.10/site-packages/tensorflow_io/python/ops/libtensorflow_io_plugins.so: undefined symbol: _ZN3tsl6StatusC1EN10tensorflow5error4CodeESt17basic_string_viewIcSt11char_traitsIcEENS_14SourceLocationE']\n",
      "  warnings.warn(f\"unable to load libtensorflow_io_plugins.so: {e}\")\n",
      "/opt/conda/lib/python3.10/site-packages/tensorflow_io/python/ops/__init__.py:104: UserWarning: file system plugins are not loaded: unable to open file: libtensorflow_io.so, from paths: ['/opt/conda/lib/python3.10/site-packages/tensorflow_io/python/ops/libtensorflow_io.so']\n",
      "caused by: ['/opt/conda/lib/python3.10/site-packages/tensorflow_io/python/ops/libtensorflow_io.so: undefined symbol: _ZTVN10tensorflow13GcsFileSystemE']\n",
      "  warnings.warn(f\"file system plugins are not loaded: {e}\")\n"
     ]
    }
   ],
   "source": [
    "import typing as tp\n",
    "from pathlib import Path\n",
    "from functools import partial\n",
    "from dataclasses import dataclass, field\n",
    "\n",
    "import pandas as pd\n",
    "import pyctcdecode\n",
    "import numpy as np\n",
    "from tqdm.notebook import tqdm\n",
    "\n",
    "import librosa\n",
    "\n",
    "import pyctcdecode\n",
    "import kenlm\n",
    "import torch\n",
    "from transformers import Wav2Vec2ForCTC, Wav2Vec2Processor # , Wav2Vec2ProcessorWithLM\n",
    "from bnunicodenormalizer import Normalizer"
   ]
  },
  {
   "cell_type": "code",
   "execution_count": 4,
   "id": "74344441",
   "metadata": {
    "execution": {
     "iopub.execute_input": "2023-10-14T19:58:04.950287Z",
     "iopub.status.busy": "2023-10-14T19:58:04.950036Z",
     "iopub.status.idle": "2023-10-14T19:58:04.955027Z",
     "shell.execute_reply": "2023-10-14T19:58:04.954085Z"
    },
    "papermill": {
     "duration": 0.015019,
     "end_time": "2023-10-14T19:58:04.956739",
     "exception": false,
     "start_time": "2023-10-14T19:58:04.941720",
     "status": "completed"
    },
    "tags": []
   },
   "outputs": [],
   "source": [
    "ROOT = Path.cwd().parent\n",
    "INPUT = ROOT / \"input\"\n",
    "DATA = INPUT / \"bengaliai-speech\"\n",
    "TRAIN = DATA / \"train_mp3s\"\n",
    "TEST = DATA / \"test_mp3s\"\n",
    "\n",
    "SAMPLING_RATE = 16_000\n",
    "MODEL_PATH = \"/kaggle/input/facebook-1b-finetuned/best-hf-facebook-1b-funtune-stage3\"\n",
    "BEAM_WIDTH = 1024\n",
    "\n",
    "\n",
    "\n",
    "\n",
    "# LM_PATH = Path(\"/kaggle/input/indiccorp-v1-v2-mix-lm-model\")\n",
    "LM_PATH = INPUT / \"kenlm-custum-lm-model/mix_7gram_lm_model\"\n",
    "UNIGRAMS = LM_PATH/ \"unigrams.txt\"\n",
    "BINARY = LM_PATH/ \"7gram.bin\"\n",
    "CUSTUM_MODEL = \"/kaggle/input/facebook-1b-finetuned/latest_hf_facebook_1b_fintune_stage_3_0921_dropout_0_8_noise_prob\"\n",
    "# CUSTUM_MODEL = \"/kaggle/input/wav2vec-1b-v3/latest_hf_1013_12w_iters_stage3\""
   ]
  },
  {
   "cell_type": "code",
   "execution_count": 5,
   "id": "2867aa3d",
   "metadata": {
    "execution": {
     "iopub.execute_input": "2023-10-14T19:58:04.973143Z",
     "iopub.status.busy": "2023-10-14T19:58:04.972617Z",
     "iopub.status.idle": "2023-10-14T19:58:09.466659Z",
     "shell.execute_reply": "2023-10-14T19:58:09.465625Z"
    },
    "papermill": {
     "duration": 4.504629,
     "end_time": "2023-10-14T19:58:09.468954",
     "exception": false,
     "start_time": "2023-10-14T19:58:04.964325",
     "status": "completed"
    },
    "tags": []
   },
   "outputs": [],
   "source": [
    "with open(str(UNIGRAMS)) as f:\n",
    "    unigrams = f.readlines()\n",
    "\n",
    "unigrams = [_.strip() for _ in unigrams if _.strip()]"
   ]
  },
  {
   "cell_type": "code",
   "execution_count": 6,
   "id": "25252cd3",
   "metadata": {
    "execution": {
     "iopub.execute_input": "2023-10-14T19:58:09.485622Z",
     "iopub.status.busy": "2023-10-14T19:58:09.485335Z",
     "iopub.status.idle": "2023-10-14T19:58:09.491635Z",
     "shell.execute_reply": "2023-10-14T19:58:09.490706Z"
    },
    "papermill": {
     "duration": 0.016427,
     "end_time": "2023-10-14T19:58:09.493320",
     "exception": false,
     "start_time": "2023-10-14T19:58:09.476893",
     "status": "completed"
    },
    "tags": []
   },
   "outputs": [
    {
     "data": {
      "text/plain": [
       "6832852"
      ]
     },
     "execution_count": 6,
     "metadata": {},
     "output_type": "execute_result"
    }
   ],
   "source": [
    "len(unigrams)"
   ]
  },
  {
   "cell_type": "markdown",
   "id": "a93dee21",
   "metadata": {
    "papermill": {
     "duration": 0.007353,
     "end_time": "2023-10-14T19:58:09.507912",
     "exception": false,
     "start_time": "2023-10-14T19:58:09.500559",
     "status": "completed"
    },
    "tags": []
   },
   "source": [
    "### load model, processor, decoder"
   ]
  },
  {
   "cell_type": "code",
   "execution_count": 7,
   "id": "abe76eec",
   "metadata": {
    "execution": {
     "iopub.execute_input": "2023-10-14T19:58:09.524113Z",
     "iopub.status.busy": "2023-10-14T19:58:09.523582Z",
     "iopub.status.idle": "2023-10-14T19:58:59.812253Z",
     "shell.execute_reply": "2023-10-14T19:58:59.805302Z"
    },
    "papermill": {
     "duration": 50.318011,
     "end_time": "2023-10-14T19:58:59.833245",
     "exception": false,
     "start_time": "2023-10-14T19:58:09.515234",
     "status": "completed"
    },
    "tags": []
   },
   "outputs": [],
   "source": [
    "model = Wav2Vec2ForCTC.from_pretrained(CUSTUM_MODEL, torch_dtype=torch.float16)\n",
    "processor = Wav2Vec2Processor.from_pretrained(MODEL_PATH)"
   ]
  },
  {
   "cell_type": "code",
   "execution_count": 8,
   "id": "c194f14f",
   "metadata": {
    "execution": {
     "iopub.execute_input": "2023-10-14T19:58:59.967253Z",
     "iopub.status.busy": "2023-10-14T19:58:59.965401Z",
     "iopub.status.idle": "2023-10-14T20:03:07.438773Z",
     "shell.execute_reply": "2023-10-14T20:03:07.434689Z"
    },
    "papermill": {
     "duration": 247.546151,
     "end_time": "2023-10-14T20:03:07.444915",
     "exception": false,
     "start_time": "2023-10-14T19:58:59.898764",
     "status": "completed"
    },
    "tags": []
   },
   "outputs": [],
   "source": [
    "vocab_dict = processor.tokenizer.get_vocab()\n",
    "vocab_dict = vocab_dict[\"ben\"]\n",
    "vocab_dict['<s>'] = 64\n",
    "vocab_dict['</s>'] =  65\n",
    "sorted_vocab_dict = {k: v for k, v in sorted(vocab_dict.items(), key=lambda item: item[1])}\n",
    "\n",
    "decoder = pyctcdecode.build_ctcdecoder(\n",
    "    list(sorted_vocab_dict.keys()),\n",
    "    str(BINARY),\n",
    "    unigrams=unigrams,\n",
    "    alpha=0.375,\n",
    "    beta=0.0625\n",
    ")"
   ]
  },
  {
   "cell_type": "markdown",
   "id": "22306e13",
   "metadata": {
    "papermill": {
     "duration": 0.008904,
     "end_time": "2023-10-14T20:03:07.463591",
     "exception": false,
     "start_time": "2023-10-14T20:03:07.454687",
     "status": "completed"
    },
    "tags": []
   },
   "source": [
    "## prepare dataloader"
   ]
  },
  {
   "cell_type": "code",
   "execution_count": 9,
   "id": "ecb123a4",
   "metadata": {
    "execution": {
     "iopub.execute_input": "2023-10-14T20:03:07.482078Z",
     "iopub.status.busy": "2023-10-14T20:03:07.481606Z",
     "iopub.status.idle": "2023-10-14T20:03:07.488204Z",
     "shell.execute_reply": "2023-10-14T20:03:07.487182Z"
    },
    "papermill": {
     "duration": 0.017312,
     "end_time": "2023-10-14T20:03:07.489821",
     "exception": false,
     "start_time": "2023-10-14T20:03:07.472509",
     "status": "completed"
    },
    "tags": []
   },
   "outputs": [],
   "source": [
    "class BengaliSRTestDataset(torch.utils.data.Dataset):\n",
    "    \n",
    "    def __init__(\n",
    "        self,\n",
    "        audio_paths: list[str],\n",
    "        sampling_rate: int\n",
    "    ):\n",
    "        self.audio_paths = audio_paths\n",
    "        self.sampling_rate = sampling_rate\n",
    "        \n",
    "    def __len__(self,):\n",
    "        return len(self.audio_paths)\n",
    "    \n",
    "    def __getitem__(self, index: int):\n",
    "        audio_path = self.audio_paths[index]\n",
    "        sr = self.sampling_rate\n",
    "        w = librosa.load(audio_path, sr=sr)[0]\n",
    "#         w = np.trim_zeros(w, \"fb\")\n",
    "        return w"
   ]
  },
  {
   "cell_type": "code",
   "execution_count": 10,
   "id": "38cbc8b3",
   "metadata": {
    "execution": {
     "iopub.execute_input": "2023-10-14T20:03:07.506547Z",
     "iopub.status.busy": "2023-10-14T20:03:07.506120Z",
     "iopub.status.idle": "2023-10-14T20:03:07.570130Z",
     "shell.execute_reply": "2023-10-14T20:03:07.568695Z"
    },
    "papermill": {
     "duration": 0.075117,
     "end_time": "2023-10-14T20:03:07.572656",
     "exception": false,
     "start_time": "2023-10-14T20:03:07.497539",
     "status": "completed"
    },
    "tags": []
   },
   "outputs": [
    {
     "name": "stdout",
     "output_type": "stream",
     "text": [
      "             id                                           sentence\n",
      "0  0f3dac00655e  এছাড়াও নিউজিল্যান্ড এ ক্রিকেট দলের হয়েও খেলছ...\n",
      "1  a9395e01ad21  এছাড়াও নিউজিল্যান্ড এ ক্রিকেট দলের হয়েও খেলছ...\n",
      "2  bf36ea8b718d  এছাড়াও নিউজিল্যান্ড এ ক্রিকেট দলের হয়েও খেলছ...\n"
     ]
    }
   ],
   "source": [
    "test = pd.read_csv(DATA / \"sample_submission.csv\", dtype={\"id\": str})\n",
    "print(test.head())"
   ]
  },
  {
   "cell_type": "code",
   "execution_count": 11,
   "id": "20cff2f5",
   "metadata": {
    "execution": {
     "iopub.execute_input": "2023-10-14T20:03:07.591344Z",
     "iopub.status.busy": "2023-10-14T20:03:07.590501Z",
     "iopub.status.idle": "2023-10-14T20:03:07.595378Z",
     "shell.execute_reply": "2023-10-14T20:03:07.594528Z"
    },
    "papermill": {
     "duration": 0.014879,
     "end_time": "2023-10-14T20:03:07.597048",
     "exception": false,
     "start_time": "2023-10-14T20:03:07.582169",
     "status": "completed"
    },
    "tags": []
   },
   "outputs": [],
   "source": [
    "test_audio_paths = [str(TEST / f\"{aid}.mp3\") for aid in test[\"id\"].values]"
   ]
  },
  {
   "cell_type": "code",
   "execution_count": 12,
   "id": "c351999f",
   "metadata": {
    "execution": {
     "iopub.execute_input": "2023-10-14T20:03:07.613764Z",
     "iopub.status.busy": "2023-10-14T20:03:07.613023Z",
     "iopub.status.idle": "2023-10-14T20:03:07.623422Z",
     "shell.execute_reply": "2023-10-14T20:03:07.622399Z"
    },
    "papermill": {
     "duration": 0.020757,
     "end_time": "2023-10-14T20:03:07.625214",
     "exception": false,
     "start_time": "2023-10-14T20:03:07.604457",
     "status": "completed"
    },
    "tags": []
   },
   "outputs": [],
   "source": [
    "test_dataset = BengaliSRTestDataset(\n",
    "    test_audio_paths, SAMPLING_RATE\n",
    ")\n",
    "\n",
    "collate_func = partial(\n",
    "    processor.feature_extractor,\n",
    "    # processor_with_lm.feature_extractor,\n",
    "    return_tensors=\"pt\", sampling_rate=SAMPLING_RATE,\n",
    "    padding=True,\n",
    ")\n",
    "\n",
    "test_loader = torch.utils.data.DataLoader(\n",
    "    test_dataset, batch_size=1, shuffle=False,\n",
    "    num_workers=1, collate_fn=collate_func, drop_last=False,\n",
    "    pin_memory=True,\n",
    ")"
   ]
  },
  {
   "cell_type": "markdown",
   "id": "8addb9c9",
   "metadata": {
    "papermill": {
     "duration": 0.007458,
     "end_time": "2023-10-14T20:03:07.640185",
     "exception": false,
     "start_time": "2023-10-14T20:03:07.632727",
     "status": "completed"
    },
    "tags": []
   },
   "source": [
    "## Inference"
   ]
  },
  {
   "cell_type": "code",
   "execution_count": 13,
   "id": "1764ceff",
   "metadata": {
    "execution": {
     "iopub.execute_input": "2023-10-14T20:03:07.656702Z",
     "iopub.status.busy": "2023-10-14T20:03:07.655955Z",
     "iopub.status.idle": "2023-10-14T20:03:07.879577Z",
     "shell.execute_reply": "2023-10-14T20:03:07.878548Z"
    },
    "papermill": {
     "duration": 0.233652,
     "end_time": "2023-10-14T20:03:07.881542",
     "exception": false,
     "start_time": "2023-10-14T20:03:07.647890",
     "status": "completed"
    },
    "tags": []
   },
   "outputs": [
    {
     "name": "stdout",
     "output_type": "stream",
     "text": [
      "cuda\n"
     ]
    }
   ],
   "source": [
    "if not torch.cuda.is_available():\n",
    "    device = torch.device(\"cpu\")\n",
    "else:\n",
    "    device = torch.device(\"cuda\")\n",
    "print(device)"
   ]
  },
  {
   "cell_type": "code",
   "execution_count": 14,
   "id": "aba4f726",
   "metadata": {
    "execution": {
     "iopub.execute_input": "2023-10-14T20:03:07.898798Z",
     "iopub.status.busy": "2023-10-14T20:03:07.898253Z",
     "iopub.status.idle": "2023-10-14T20:03:14.789896Z",
     "shell.execute_reply": "2023-10-14T20:03:14.788886Z"
    },
    "papermill": {
     "duration": 6.903241,
     "end_time": "2023-10-14T20:03:14.793097",
     "exception": false,
     "start_time": "2023-10-14T20:03:07.889856",
     "status": "completed"
    },
    "tags": []
   },
   "outputs": [],
   "source": [
    "model = model.to(device)\n",
    "model = model.eval()"
   ]
  },
  {
   "cell_type": "code",
   "execution_count": 15,
   "id": "5a7ef349",
   "metadata": {
    "execution": {
     "iopub.execute_input": "2023-10-14T20:03:14.821859Z",
     "iopub.status.busy": "2023-10-14T20:03:14.821493Z",
     "iopub.status.idle": "2023-10-14T20:03:28.389900Z",
     "shell.execute_reply": "2023-10-14T20:03:28.388807Z"
    },
    "papermill": {
     "duration": 13.584911,
     "end_time": "2023-10-14T20:03:28.392144",
     "exception": false,
     "start_time": "2023-10-14T20:03:14.807233",
     "status": "completed"
    },
    "tags": []
   },
   "outputs": [
    {
     "data": {
      "application/vnd.jupyter.widget-view+json": {
       "model_id": "26a1837a14304a6da3a3b7e4a6accdbc",
       "version_major": 2,
       "version_minor": 0
      },
      "text/plain": [
       "  0%|          | 0/3 [00:00<?, ?it/s]"
      ]
     },
     "metadata": {},
     "output_type": "display_data"
    }
   ],
   "source": [
    "for batch in tqdm(test_loader):\n",
    "    x = batch[\"input_values\"]\n",
    "    x = x.to(device).half()\n",
    "    attn_mask = batch[\"attention_mask\"]\n",
    "    attn_mask = attn_mask.to(device)\n",
    "    with torch.no_grad():\n",
    "        y = model(input_values=x, attention_mask=attn_mask).logits\n",
    "    y = y.detach().cpu().numpy()\n",
    "    break"
   ]
  },
  {
   "cell_type": "code",
   "execution_count": 16,
   "id": "f3366cfd",
   "metadata": {
    "execution": {
     "iopub.execute_input": "2023-10-14T20:03:28.410549Z",
     "iopub.status.busy": "2023-10-14T20:03:28.409606Z",
     "iopub.status.idle": "2023-10-14T20:03:33.663105Z",
     "shell.execute_reply": "2023-10-14T20:03:33.661918Z"
    },
    "papermill": {
     "duration": 5.264367,
     "end_time": "2023-10-14T20:03:33.665245",
     "exception": false,
     "start_time": "2023-10-14T20:03:28.400878",
     "status": "completed"
    },
    "tags": []
   },
   "outputs": [
    {
     "data": {
      "application/vnd.jupyter.widget-view+json": {
       "model_id": "d48701b092674dbf98daf490c4a946fe",
       "version_major": 2,
       "version_minor": 0
      },
      "text/plain": [
       "  0%|          | 0/3 [00:00<?, ?it/s]"
      ]
     },
     "metadata": {},
     "output_type": "display_data"
    }
   ],
   "source": [
    "pred_sentence_list = []\n",
    "\n",
    "for batch in tqdm(test_loader):\n",
    "    x = batch[\"input_values\"]\n",
    "    x = x.to(device).half()\n",
    "    attn_mask = batch[\"attention_mask\"]\n",
    "    attn_mask = attn_mask.to(device)\n",
    "    with torch.no_grad():\n",
    "        y = model(input_values=x, attention_mask=attn_mask).logits\n",
    "    y = y.detach().cpu().numpy()\n",
    "    attn_mask = attn_mask.sum(dim=1).cpu().numpy()\n",
    "    for l, n in zip(y, attn_mask):\n",
    "        valid_nums = int(n)\n",
    "        beam = decoder.decode_beams(l[:valid_nums], beam_width=BEAM_WIDTH)\n",
    "        s = beam[0][0]\n",
    "        pred_sentence_list.append(s)"
   ]
  },
  {
   "cell_type": "markdown",
   "id": "bc58b036",
   "metadata": {
    "papermill": {
     "duration": 0.009026,
     "end_time": "2023-10-14T20:03:33.682815",
     "exception": false,
     "start_time": "2023-10-14T20:03:33.673789",
     "status": "completed"
    },
    "tags": []
   },
   "source": [
    "## Make Submission"
   ]
  },
  {
   "cell_type": "code",
   "execution_count": 17,
   "id": "1bc0188e",
   "metadata": {
    "execution": {
     "iopub.execute_input": "2023-10-14T20:03:33.700898Z",
     "iopub.status.busy": "2023-10-14T20:03:33.700197Z",
     "iopub.status.idle": "2023-10-14T20:03:33.707331Z",
     "shell.execute_reply": "2023-10-14T20:03:33.706448Z"
    },
    "papermill": {
     "duration": 0.018031,
     "end_time": "2023-10-14T20:03:33.709038",
     "exception": false,
     "start_time": "2023-10-14T20:03:33.691007",
     "status": "completed"
    },
    "tags": []
   },
   "outputs": [],
   "source": [
    "bnorm = Normalizer()\n",
    "\n",
    "def postprocess(sentence):\n",
    "    period_set = set([\".\", \"?\", \"!\", \"।\"])\n",
    "    _words = [bnorm(word)['normalized']  for word in sentence.split()]\n",
    "    sentence = \" \".join([word for word in _words if word is not None])\n",
    "    try:\n",
    "        if sentence[-1] not in period_set:\n",
    "            sentence+=\"।\"\n",
    "    except:\n",
    "        # print(sentence)\n",
    "        sentence = \"।\"\n",
    "    return sentence"
   ]
  },
  {
   "cell_type": "code",
   "execution_count": 18,
   "id": "3cb14ec1",
   "metadata": {
    "execution": {
     "iopub.execute_input": "2023-10-14T20:03:33.726244Z",
     "iopub.status.busy": "2023-10-14T20:03:33.725741Z",
     "iopub.status.idle": "2023-10-14T20:03:33.754973Z",
     "shell.execute_reply": "2023-10-14T20:03:33.754122Z"
    },
    "papermill": {
     "duration": 0.03964,
     "end_time": "2023-10-14T20:03:33.756825",
     "exception": false,
     "start_time": "2023-10-14T20:03:33.717185",
     "status": "completed"
    },
    "tags": []
   },
   "outputs": [
    {
     "data": {
      "application/vnd.jupyter.widget-view+json": {
       "model_id": "2625f82380e14e10b059761b56df83d2",
       "version_major": 2,
       "version_minor": 0
      },
      "text/plain": [
       "  0%|          | 0/3 [00:00<?, ?it/s]"
      ]
     },
     "metadata": {},
     "output_type": "display_data"
    }
   ],
   "source": [
    "pp_pred_sentence_list = [\n",
    "    postprocess(s) for s in tqdm(pred_sentence_list)]"
   ]
  },
  {
   "cell_type": "code",
   "execution_count": 19,
   "id": "d4d1e0b1",
   "metadata": {
    "execution": {
     "iopub.execute_input": "2023-10-14T20:03:33.773617Z",
     "iopub.status.busy": "2023-10-14T20:03:33.773111Z",
     "iopub.status.idle": "2023-10-14T20:03:33.790525Z",
     "shell.execute_reply": "2023-10-14T20:03:33.789374Z"
    },
    "papermill": {
     "duration": 0.027826,
     "end_time": "2023-10-14T20:03:33.792459",
     "exception": false,
     "start_time": "2023-10-14T20:03:33.764633",
     "status": "completed"
    },
    "tags": []
   },
   "outputs": [
    {
     "name": "stdout",
     "output_type": "stream",
     "text": [
      "             id                                           sentence\n",
      "0  0f3dac00655e                          একটু বয়স হলে একটি বিদেশি।\n",
      "1  a9395e01ad21  কী কারণে তুমি এতাবৎ কাল পর্যন্ত এই দারুণ দৈবদু...\n",
      "2  bf36ea8b718d  এ কারণে সরকার নির্ধারিত হারে পরিবহনজনিত ক্ষতি ...\n"
     ]
    }
   ],
   "source": [
    "test[\"sentence\"] = pp_pred_sentence_list\n",
    "\n",
    "test.to_csv(\"submission.csv\", index=False)\n",
    "\n",
    "print(test.head())"
   ]
  },
  {
   "cell_type": "markdown",
   "id": "be9b8d17",
   "metadata": {
    "papermill": {
     "duration": 0.007668,
     "end_time": "2023-10-14T20:03:33.808361",
     "exception": false,
     "start_time": "2023-10-14T20:03:33.800693",
     "status": "completed"
    },
    "tags": []
   },
   "source": [
    "## EOF"
   ]
  },
  {
   "cell_type": "code",
   "execution_count": 20,
   "id": "febf6be8",
   "metadata": {
    "execution": {
     "iopub.execute_input": "2023-10-14T20:03:33.825739Z",
     "iopub.status.busy": "2023-10-14T20:03:33.825479Z",
     "iopub.status.idle": "2023-10-14T20:03:33.829694Z",
     "shell.execute_reply": "2023-10-14T20:03:33.828895Z"
    },
    "papermill": {
     "duration": 0.014755,
     "end_time": "2023-10-14T20:03:33.831420",
     "exception": false,
     "start_time": "2023-10-14T20:03:33.816665",
     "status": "completed"
    },
    "tags": []
   },
   "outputs": [
    {
     "name": "stdout",
     "output_type": "stream",
     "text": [
      "['একটু বয়স হলে একটি বিদেশি।', 'কী কারণে তুমি এতাবৎ কাল পর্যন্ত এই দারুণ দৈবদুর্বিপাকে পতিত ছিলে বল।', 'এ কারণে সরকার নির্ধারিত হারে পরিবহনজনিত ক্ষতি অনুমোদন করে।']\n"
     ]
    }
   ],
   "source": [
    "print(pp_pred_sentence_list)"
   ]
  }
 ],
 "metadata": {
  "kernelspec": {
   "display_name": "Python 3",
   "language": "python",
   "name": "python3"
  },
  "language_info": {
   "codemirror_mode": {
    "name": "ipython",
    "version": 3
   },
   "file_extension": ".py",
   "mimetype": "text/x-python",
   "name": "python",
   "nbconvert_exporter": "python",
   "pygments_lexer": "ipython3",
   "version": "3.10.12"
  },
  "papermill": {
   "default_parameters": {},
   "duration": 416.892998,
   "end_time": "2023-10-14T20:03:37.472621",
   "environment_variables": {},
   "exception": null,
   "input_path": "__notebook__.ipynb",
   "output_path": "__notebook__.ipynb",
   "parameters": {},
   "start_time": "2023-10-14T19:56:40.579623",
   "version": "2.4.0"
  },
  "widgets": {
   "application/vnd.jupyter.widget-state+json": {
    "state": {
     "16e38f1eb3ff470dbba4e554c9ea87e4": {
      "model_module": "@jupyter-widgets/base",
      "model_module_version": "1.2.0",
      "model_name": "LayoutModel",
      "state": {
       "_model_module": "@jupyter-widgets/base",
       "_model_module_version": "1.2.0",
       "_model_name": "LayoutModel",
       "_view_count": null,
       "_view_module": "@jupyter-widgets/base",
       "_view_module_version": "1.2.0",
       "_view_name": "LayoutView",
       "align_content": null,
       "align_items": null,
       "align_self": null,
       "border": null,
       "bottom": null,
       "display": null,
       "flex": null,
       "flex_flow": null,
       "grid_area": null,
       "grid_auto_columns": null,
       "grid_auto_flow": null,
       "grid_auto_rows": null,
       "grid_column": null,
       "grid_gap": null,
       "grid_row": null,
       "grid_template_areas": null,
       "grid_template_columns": null,
       "grid_template_rows": null,
       "height": null,
       "justify_content": null,
       "justify_items": null,
       "left": null,
       "margin": null,
       "max_height": null,
       "max_width": null,
       "min_height": null,
       "min_width": null,
       "object_fit": null,
       "object_position": null,
       "order": null,
       "overflow": null,
       "overflow_x": null,
       "overflow_y": null,
       "padding": null,
       "right": null,
       "top": null,
       "visibility": null,
       "width": null
      }
     },
     "2625f82380e14e10b059761b56df83d2": {
      "model_module": "@jupyter-widgets/controls",
      "model_module_version": "1.5.0",
      "model_name": "HBoxModel",
      "state": {
       "_dom_classes": [],
       "_model_module": "@jupyter-widgets/controls",
       "_model_module_version": "1.5.0",
       "_model_name": "HBoxModel",
       "_view_count": null,
       "_view_module": "@jupyter-widgets/controls",
       "_view_module_version": "1.5.0",
       "_view_name": "HBoxView",
       "box_style": "",
       "children": [
        "IPY_MODEL_48c967a3993648baa74087ba23c1c7b1",
        "IPY_MODEL_bb69e34f14c64c4f8067636d862e9e1a",
        "IPY_MODEL_68f2b6cef25740479447fb204670c956"
       ],
       "layout": "IPY_MODEL_6e120ba1bc014132b115633d4d22cfaa"
      }
     },
     "26a1837a14304a6da3a3b7e4a6accdbc": {
      "model_module": "@jupyter-widgets/controls",
      "model_module_version": "1.5.0",
      "model_name": "HBoxModel",
      "state": {
       "_dom_classes": [],
       "_model_module": "@jupyter-widgets/controls",
       "_model_module_version": "1.5.0",
       "_model_name": "HBoxModel",
       "_view_count": null,
       "_view_module": "@jupyter-widgets/controls",
       "_view_module_version": "1.5.0",
       "_view_name": "HBoxView",
       "box_style": "",
       "children": [
        "IPY_MODEL_8f34fc45a3e04e67ac9c31e1c8dd70f1",
        "IPY_MODEL_569cf0df3da7494cac2da981b065e336",
        "IPY_MODEL_37ff20ba09f6429c829814c5d05275dc"
       ],
       "layout": "IPY_MODEL_a11b6d18ff174861afadc70bb551e460"
      }
     },
     "2b3cd3338edb486097bf2af5defc95a9": {
      "model_module": "@jupyter-widgets/controls",
      "model_module_version": "1.5.0",
      "model_name": "DescriptionStyleModel",
      "state": {
       "_model_module": "@jupyter-widgets/controls",
       "_model_module_version": "1.5.0",
       "_model_name": "DescriptionStyleModel",
       "_view_count": null,
       "_view_module": "@jupyter-widgets/base",
       "_view_module_version": "1.2.0",
       "_view_name": "StyleView",
       "description_width": ""
      }
     },
     "2cede4ecb799473599a555a2581cdafb": {
      "model_module": "@jupyter-widgets/controls",
      "model_module_version": "1.5.0",
      "model_name": "HTMLModel",
      "state": {
       "_dom_classes": [],
       "_model_module": "@jupyter-widgets/controls",
       "_model_module_version": "1.5.0",
       "_model_name": "HTMLModel",
       "_view_count": null,
       "_view_module": "@jupyter-widgets/controls",
       "_view_module_version": "1.5.0",
       "_view_name": "HTMLView",
       "description": "",
       "description_tooltip": null,
       "layout": "IPY_MODEL_7f25e92ce29941f7b1f9fec86c60db72",
       "placeholder": "​",
       "style": "IPY_MODEL_b975f37ae7c8416d99d307eeba80c1d7",
       "value": " 3/3 [00:05&lt;00:00,  1.43s/it]"
      }
     },
     "3058befbd6cd47e782b8886d6664efe4": {
      "model_module": "@jupyter-widgets/controls",
      "model_module_version": "1.5.0",
      "model_name": "ProgressStyleModel",
      "state": {
       "_model_module": "@jupyter-widgets/controls",
       "_model_module_version": "1.5.0",
       "_model_name": "ProgressStyleModel",
       "_view_count": null,
       "_view_module": "@jupyter-widgets/base",
       "_view_module_version": "1.2.0",
       "_view_name": "StyleView",
       "bar_color": null,
       "description_width": ""
      }
     },
     "37ff20ba09f6429c829814c5d05275dc": {
      "model_module": "@jupyter-widgets/controls",
      "model_module_version": "1.5.0",
      "model_name": "HTMLModel",
      "state": {
       "_dom_classes": [],
       "_model_module": "@jupyter-widgets/controls",
       "_model_module_version": "1.5.0",
       "_model_name": "HTMLModel",
       "_view_count": null,
       "_view_module": "@jupyter-widgets/controls",
       "_view_module_version": "1.5.0",
       "_view_name": "HTMLView",
       "description": "",
       "description_tooltip": null,
       "layout": "IPY_MODEL_c9279769c59341708c659f79f01feeae",
       "placeholder": "​",
       "style": "IPY_MODEL_f093786600b9450c893d52b77a0a2f14",
       "value": " 0/3 [00:13&lt;?, ?it/s]"
      }
     },
     "3ce1f4d6012943f4ba8e465f7802c7b2": {
      "model_module": "@jupyter-widgets/base",
      "model_module_version": "1.2.0",
      "model_name": "LayoutModel",
      "state": {
       "_model_module": "@jupyter-widgets/base",
       "_model_module_version": "1.2.0",
       "_model_name": "LayoutModel",
       "_view_count": null,
       "_view_module": "@jupyter-widgets/base",
       "_view_module_version": "1.2.0",
       "_view_name": "LayoutView",
       "align_content": null,
       "align_items": null,
       "align_self": null,
       "border": null,
       "bottom": null,
       "display": null,
       "flex": null,
       "flex_flow": null,
       "grid_area": null,
       "grid_auto_columns": null,
       "grid_auto_flow": null,
       "grid_auto_rows": null,
       "grid_column": null,
       "grid_gap": null,
       "grid_row": null,
       "grid_template_areas": null,
       "grid_template_columns": null,
       "grid_template_rows": null,
       "height": null,
       "justify_content": null,
       "justify_items": null,
       "left": null,
       "margin": null,
       "max_height": null,
       "max_width": null,
       "min_height": null,
       "min_width": null,
       "object_fit": null,
       "object_position": null,
       "order": null,
       "overflow": null,
       "overflow_x": null,
       "overflow_y": null,
       "padding": null,
       "right": null,
       "top": null,
       "visibility": null,
       "width": null
      }
     },
     "410ddf25350543e9b2168070077d45f8": {
      "model_module": "@jupyter-widgets/base",
      "model_module_version": "1.2.0",
      "model_name": "LayoutModel",
      "state": {
       "_model_module": "@jupyter-widgets/base",
       "_model_module_version": "1.2.0",
       "_model_name": "LayoutModel",
       "_view_count": null,
       "_view_module": "@jupyter-widgets/base",
       "_view_module_version": "1.2.0",
       "_view_name": "LayoutView",
       "align_content": null,
       "align_items": null,
       "align_self": null,
       "border": null,
       "bottom": null,
       "display": null,
       "flex": null,
       "flex_flow": null,
       "grid_area": null,
       "grid_auto_columns": null,
       "grid_auto_flow": null,
       "grid_auto_rows": null,
       "grid_column": null,
       "grid_gap": null,
       "grid_row": null,
       "grid_template_areas": null,
       "grid_template_columns": null,
       "grid_template_rows": null,
       "height": null,
       "justify_content": null,
       "justify_items": null,
       "left": null,
       "margin": null,
       "max_height": null,
       "max_width": null,
       "min_height": null,
       "min_width": null,
       "object_fit": null,
       "object_position": null,
       "order": null,
       "overflow": null,
       "overflow_x": null,
       "overflow_y": null,
       "padding": null,
       "right": null,
       "top": null,
       "visibility": null,
       "width": null
      }
     },
     "4464a372947d49ed8a50e78ba888f06e": {
      "model_module": "@jupyter-widgets/base",
      "model_module_version": "1.2.0",
      "model_name": "LayoutModel",
      "state": {
       "_model_module": "@jupyter-widgets/base",
       "_model_module_version": "1.2.0",
       "_model_name": "LayoutModel",
       "_view_count": null,
       "_view_module": "@jupyter-widgets/base",
       "_view_module_version": "1.2.0",
       "_view_name": "LayoutView",
       "align_content": null,
       "align_items": null,
       "align_self": null,
       "border": null,
       "bottom": null,
       "display": null,
       "flex": null,
       "flex_flow": null,
       "grid_area": null,
       "grid_auto_columns": null,
       "grid_auto_flow": null,
       "grid_auto_rows": null,
       "grid_column": null,
       "grid_gap": null,
       "grid_row": null,
       "grid_template_areas": null,
       "grid_template_columns": null,
       "grid_template_rows": null,
       "height": null,
       "justify_content": null,
       "justify_items": null,
       "left": null,
       "margin": null,
       "max_height": null,
       "max_width": null,
       "min_height": null,
       "min_width": null,
       "object_fit": null,
       "object_position": null,
       "order": null,
       "overflow": null,
       "overflow_x": null,
       "overflow_y": null,
       "padding": null,
       "right": null,
       "top": null,
       "visibility": null,
       "width": null
      }
     },
     "48c967a3993648baa74087ba23c1c7b1": {
      "model_module": "@jupyter-widgets/controls",
      "model_module_version": "1.5.0",
      "model_name": "HTMLModel",
      "state": {
       "_dom_classes": [],
       "_model_module": "@jupyter-widgets/controls",
       "_model_module_version": "1.5.0",
       "_model_name": "HTMLModel",
       "_view_count": null,
       "_view_module": "@jupyter-widgets/controls",
       "_view_module_version": "1.5.0",
       "_view_name": "HTMLView",
       "description": "",
       "description_tooltip": null,
       "layout": "IPY_MODEL_ddefeb808d2648bda088275f916d3b0f",
       "placeholder": "​",
       "style": "IPY_MODEL_c526f8d77bd14635822386c21a35839d",
       "value": "100%"
      }
     },
     "4cf432b1df374e909d7ec57313915b74": {
      "model_module": "@jupyter-widgets/controls",
      "model_module_version": "1.5.0",
      "model_name": "DescriptionStyleModel",
      "state": {
       "_model_module": "@jupyter-widgets/controls",
       "_model_module_version": "1.5.0",
       "_model_name": "DescriptionStyleModel",
       "_view_count": null,
       "_view_module": "@jupyter-widgets/base",
       "_view_module_version": "1.2.0",
       "_view_name": "StyleView",
       "description_width": ""
      }
     },
     "569cf0df3da7494cac2da981b065e336": {
      "model_module": "@jupyter-widgets/controls",
      "model_module_version": "1.5.0",
      "model_name": "FloatProgressModel",
      "state": {
       "_dom_classes": [],
       "_model_module": "@jupyter-widgets/controls",
       "_model_module_version": "1.5.0",
       "_model_name": "FloatProgressModel",
       "_view_count": null,
       "_view_module": "@jupyter-widgets/controls",
       "_view_module_version": "1.5.0",
       "_view_name": "ProgressView",
       "bar_style": "danger",
       "description": "",
       "description_tooltip": null,
       "layout": "IPY_MODEL_c3690f80360d42be874106114947554d",
       "max": 3.0,
       "min": 0.0,
       "orientation": "horizontal",
       "style": "IPY_MODEL_8c83fae3b6724db981ebab37c21b3beb",
       "value": 0.0
      }
     },
     "68f2b6cef25740479447fb204670c956": {
      "model_module": "@jupyter-widgets/controls",
      "model_module_version": "1.5.0",
      "model_name": "HTMLModel",
      "state": {
       "_dom_classes": [],
       "_model_module": "@jupyter-widgets/controls",
       "_model_module_version": "1.5.0",
       "_model_name": "HTMLModel",
       "_view_count": null,
       "_view_module": "@jupyter-widgets/controls",
       "_view_module_version": "1.5.0",
       "_view_name": "HTMLView",
       "description": "",
       "description_tooltip": null,
       "layout": "IPY_MODEL_410ddf25350543e9b2168070077d45f8",
       "placeholder": "​",
       "style": "IPY_MODEL_d2cd2207dbd5405485a2e8a69a92b15a",
       "value": " 3/3 [00:00&lt;00:00, 124.07it/s]"
      }
     },
     "6e120ba1bc014132b115633d4d22cfaa": {
      "model_module": "@jupyter-widgets/base",
      "model_module_version": "1.2.0",
      "model_name": "LayoutModel",
      "state": {
       "_model_module": "@jupyter-widgets/base",
       "_model_module_version": "1.2.0",
       "_model_name": "LayoutModel",
       "_view_count": null,
       "_view_module": "@jupyter-widgets/base",
       "_view_module_version": "1.2.0",
       "_view_name": "LayoutView",
       "align_content": null,
       "align_items": null,
       "align_self": null,
       "border": null,
       "bottom": null,
       "display": null,
       "flex": null,
       "flex_flow": null,
       "grid_area": null,
       "grid_auto_columns": null,
       "grid_auto_flow": null,
       "grid_auto_rows": null,
       "grid_column": null,
       "grid_gap": null,
       "grid_row": null,
       "grid_template_areas": null,
       "grid_template_columns": null,
       "grid_template_rows": null,
       "height": null,
       "justify_content": null,
       "justify_items": null,
       "left": null,
       "margin": null,
       "max_height": null,
       "max_width": null,
       "min_height": null,
       "min_width": null,
       "object_fit": null,
       "object_position": null,
       "order": null,
       "overflow": null,
       "overflow_x": null,
       "overflow_y": null,
       "padding": null,
       "right": null,
       "top": null,
       "visibility": null,
       "width": null
      }
     },
     "74fdf26d9d4d44fc957bde59fa008902": {
      "model_module": "@jupyter-widgets/controls",
      "model_module_version": "1.5.0",
      "model_name": "ProgressStyleModel",
      "state": {
       "_model_module": "@jupyter-widgets/controls",
       "_model_module_version": "1.5.0",
       "_model_name": "ProgressStyleModel",
       "_view_count": null,
       "_view_module": "@jupyter-widgets/base",
       "_view_module_version": "1.2.0",
       "_view_name": "StyleView",
       "bar_color": null,
       "description_width": ""
      }
     },
     "7f25e92ce29941f7b1f9fec86c60db72": {
      "model_module": "@jupyter-widgets/base",
      "model_module_version": "1.2.0",
      "model_name": "LayoutModel",
      "state": {
       "_model_module": "@jupyter-widgets/base",
       "_model_module_version": "1.2.0",
       "_model_name": "LayoutModel",
       "_view_count": null,
       "_view_module": "@jupyter-widgets/base",
       "_view_module_version": "1.2.0",
       "_view_name": "LayoutView",
       "align_content": null,
       "align_items": null,
       "align_self": null,
       "border": null,
       "bottom": null,
       "display": null,
       "flex": null,
       "flex_flow": null,
       "grid_area": null,
       "grid_auto_columns": null,
       "grid_auto_flow": null,
       "grid_auto_rows": null,
       "grid_column": null,
       "grid_gap": null,
       "grid_row": null,
       "grid_template_areas": null,
       "grid_template_columns": null,
       "grid_template_rows": null,
       "height": null,
       "justify_content": null,
       "justify_items": null,
       "left": null,
       "margin": null,
       "max_height": null,
       "max_width": null,
       "min_height": null,
       "min_width": null,
       "object_fit": null,
       "object_position": null,
       "order": null,
       "overflow": null,
       "overflow_x": null,
       "overflow_y": null,
       "padding": null,
       "right": null,
       "top": null,
       "visibility": null,
       "width": null
      }
     },
     "850c71101c354e03b60c3efcc50975d7": {
      "model_module": "@jupyter-widgets/controls",
      "model_module_version": "1.5.0",
      "model_name": "FloatProgressModel",
      "state": {
       "_dom_classes": [],
       "_model_module": "@jupyter-widgets/controls",
       "_model_module_version": "1.5.0",
       "_model_name": "FloatProgressModel",
       "_view_count": null,
       "_view_module": "@jupyter-widgets/controls",
       "_view_module_version": "1.5.0",
       "_view_name": "ProgressView",
       "bar_style": "success",
       "description": "",
       "description_tooltip": null,
       "layout": "IPY_MODEL_16e38f1eb3ff470dbba4e554c9ea87e4",
       "max": 3.0,
       "min": 0.0,
       "orientation": "horizontal",
       "style": "IPY_MODEL_3058befbd6cd47e782b8886d6664efe4",
       "value": 3.0
      }
     },
     "8c83fae3b6724db981ebab37c21b3beb": {
      "model_module": "@jupyter-widgets/controls",
      "model_module_version": "1.5.0",
      "model_name": "ProgressStyleModel",
      "state": {
       "_model_module": "@jupyter-widgets/controls",
       "_model_module_version": "1.5.0",
       "_model_name": "ProgressStyleModel",
       "_view_count": null,
       "_view_module": "@jupyter-widgets/base",
       "_view_module_version": "1.2.0",
       "_view_name": "StyleView",
       "bar_color": null,
       "description_width": ""
      }
     },
     "8f34fc45a3e04e67ac9c31e1c8dd70f1": {
      "model_module": "@jupyter-widgets/controls",
      "model_module_version": "1.5.0",
      "model_name": "HTMLModel",
      "state": {
       "_dom_classes": [],
       "_model_module": "@jupyter-widgets/controls",
       "_model_module_version": "1.5.0",
       "_model_name": "HTMLModel",
       "_view_count": null,
       "_view_module": "@jupyter-widgets/controls",
       "_view_module_version": "1.5.0",
       "_view_name": "HTMLView",
       "description": "",
       "description_tooltip": null,
       "layout": "IPY_MODEL_3ce1f4d6012943f4ba8e465f7802c7b2",
       "placeholder": "​",
       "style": "IPY_MODEL_2b3cd3338edb486097bf2af5defc95a9",
       "value": "  0%"
      }
     },
     "a11b6d18ff174861afadc70bb551e460": {
      "model_module": "@jupyter-widgets/base",
      "model_module_version": "1.2.0",
      "model_name": "LayoutModel",
      "state": {
       "_model_module": "@jupyter-widgets/base",
       "_model_module_version": "1.2.0",
       "_model_name": "LayoutModel",
       "_view_count": null,
       "_view_module": "@jupyter-widgets/base",
       "_view_module_version": "1.2.0",
       "_view_name": "LayoutView",
       "align_content": null,
       "align_items": null,
       "align_self": null,
       "border": null,
       "bottom": null,
       "display": null,
       "flex": null,
       "flex_flow": null,
       "grid_area": null,
       "grid_auto_columns": null,
       "grid_auto_flow": null,
       "grid_auto_rows": null,
       "grid_column": null,
       "grid_gap": null,
       "grid_row": null,
       "grid_template_areas": null,
       "grid_template_columns": null,
       "grid_template_rows": null,
       "height": null,
       "justify_content": null,
       "justify_items": null,
       "left": null,
       "margin": null,
       "max_height": null,
       "max_width": null,
       "min_height": null,
       "min_width": null,
       "object_fit": null,
       "object_position": null,
       "order": null,
       "overflow": null,
       "overflow_x": null,
       "overflow_y": null,
       "padding": null,
       "right": null,
       "top": null,
       "visibility": null,
       "width": null
      }
     },
     "b0ab6b58dc5844e28bafed1e9979cf62": {
      "model_module": "@jupyter-widgets/base",
      "model_module_version": "1.2.0",
      "model_name": "LayoutModel",
      "state": {
       "_model_module": "@jupyter-widgets/base",
       "_model_module_version": "1.2.0",
       "_model_name": "LayoutModel",
       "_view_count": null,
       "_view_module": "@jupyter-widgets/base",
       "_view_module_version": "1.2.0",
       "_view_name": "LayoutView",
       "align_content": null,
       "align_items": null,
       "align_self": null,
       "border": null,
       "bottom": null,
       "display": null,
       "flex": null,
       "flex_flow": null,
       "grid_area": null,
       "grid_auto_columns": null,
       "grid_auto_flow": null,
       "grid_auto_rows": null,
       "grid_column": null,
       "grid_gap": null,
       "grid_row": null,
       "grid_template_areas": null,
       "grid_template_columns": null,
       "grid_template_rows": null,
       "height": null,
       "justify_content": null,
       "justify_items": null,
       "left": null,
       "margin": null,
       "max_height": null,
       "max_width": null,
       "min_height": null,
       "min_width": null,
       "object_fit": null,
       "object_position": null,
       "order": null,
       "overflow": null,
       "overflow_x": null,
       "overflow_y": null,
       "padding": null,
       "right": null,
       "top": null,
       "visibility": null,
       "width": null
      }
     },
     "b975f37ae7c8416d99d307eeba80c1d7": {
      "model_module": "@jupyter-widgets/controls",
      "model_module_version": "1.5.0",
      "model_name": "DescriptionStyleModel",
      "state": {
       "_model_module": "@jupyter-widgets/controls",
       "_model_module_version": "1.5.0",
       "_model_name": "DescriptionStyleModel",
       "_view_count": null,
       "_view_module": "@jupyter-widgets/base",
       "_view_module_version": "1.2.0",
       "_view_name": "StyleView",
       "description_width": ""
      }
     },
     "bb69e34f14c64c4f8067636d862e9e1a": {
      "model_module": "@jupyter-widgets/controls",
      "model_module_version": "1.5.0",
      "model_name": "FloatProgressModel",
      "state": {
       "_dom_classes": [],
       "_model_module": "@jupyter-widgets/controls",
       "_model_module_version": "1.5.0",
       "_model_name": "FloatProgressModel",
       "_view_count": null,
       "_view_module": "@jupyter-widgets/controls",
       "_view_module_version": "1.5.0",
       "_view_name": "ProgressView",
       "bar_style": "success",
       "description": "",
       "description_tooltip": null,
       "layout": "IPY_MODEL_4464a372947d49ed8a50e78ba888f06e",
       "max": 3.0,
       "min": 0.0,
       "orientation": "horizontal",
       "style": "IPY_MODEL_74fdf26d9d4d44fc957bde59fa008902",
       "value": 3.0
      }
     },
     "c3690f80360d42be874106114947554d": {
      "model_module": "@jupyter-widgets/base",
      "model_module_version": "1.2.0",
      "model_name": "LayoutModel",
      "state": {
       "_model_module": "@jupyter-widgets/base",
       "_model_module_version": "1.2.0",
       "_model_name": "LayoutModel",
       "_view_count": null,
       "_view_module": "@jupyter-widgets/base",
       "_view_module_version": "1.2.0",
       "_view_name": "LayoutView",
       "align_content": null,
       "align_items": null,
       "align_self": null,
       "border": null,
       "bottom": null,
       "display": null,
       "flex": null,
       "flex_flow": null,
       "grid_area": null,
       "grid_auto_columns": null,
       "grid_auto_flow": null,
       "grid_auto_rows": null,
       "grid_column": null,
       "grid_gap": null,
       "grid_row": null,
       "grid_template_areas": null,
       "grid_template_columns": null,
       "grid_template_rows": null,
       "height": null,
       "justify_content": null,
       "justify_items": null,
       "left": null,
       "margin": null,
       "max_height": null,
       "max_width": null,
       "min_height": null,
       "min_width": null,
       "object_fit": null,
       "object_position": null,
       "order": null,
       "overflow": null,
       "overflow_x": null,
       "overflow_y": null,
       "padding": null,
       "right": null,
       "top": null,
       "visibility": null,
       "width": null
      }
     },
     "c526f8d77bd14635822386c21a35839d": {
      "model_module": "@jupyter-widgets/controls",
      "model_module_version": "1.5.0",
      "model_name": "DescriptionStyleModel",
      "state": {
       "_model_module": "@jupyter-widgets/controls",
       "_model_module_version": "1.5.0",
       "_model_name": "DescriptionStyleModel",
       "_view_count": null,
       "_view_module": "@jupyter-widgets/base",
       "_view_module_version": "1.2.0",
       "_view_name": "StyleView",
       "description_width": ""
      }
     },
     "c7585b917e234082a9960c7c2ba3f6d6": {
      "model_module": "@jupyter-widgets/base",
      "model_module_version": "1.2.0",
      "model_name": "LayoutModel",
      "state": {
       "_model_module": "@jupyter-widgets/base",
       "_model_module_version": "1.2.0",
       "_model_name": "LayoutModel",
       "_view_count": null,
       "_view_module": "@jupyter-widgets/base",
       "_view_module_version": "1.2.0",
       "_view_name": "LayoutView",
       "align_content": null,
       "align_items": null,
       "align_self": null,
       "border": null,
       "bottom": null,
       "display": null,
       "flex": null,
       "flex_flow": null,
       "grid_area": null,
       "grid_auto_columns": null,
       "grid_auto_flow": null,
       "grid_auto_rows": null,
       "grid_column": null,
       "grid_gap": null,
       "grid_row": null,
       "grid_template_areas": null,
       "grid_template_columns": null,
       "grid_template_rows": null,
       "height": null,
       "justify_content": null,
       "justify_items": null,
       "left": null,
       "margin": null,
       "max_height": null,
       "max_width": null,
       "min_height": null,
       "min_width": null,
       "object_fit": null,
       "object_position": null,
       "order": null,
       "overflow": null,
       "overflow_x": null,
       "overflow_y": null,
       "padding": null,
       "right": null,
       "top": null,
       "visibility": null,
       "width": null
      }
     },
     "c9279769c59341708c659f79f01feeae": {
      "model_module": "@jupyter-widgets/base",
      "model_module_version": "1.2.0",
      "model_name": "LayoutModel",
      "state": {
       "_model_module": "@jupyter-widgets/base",
       "_model_module_version": "1.2.0",
       "_model_name": "LayoutModel",
       "_view_count": null,
       "_view_module": "@jupyter-widgets/base",
       "_view_module_version": "1.2.0",
       "_view_name": "LayoutView",
       "align_content": null,
       "align_items": null,
       "align_self": null,
       "border": null,
       "bottom": null,
       "display": null,
       "flex": null,
       "flex_flow": null,
       "grid_area": null,
       "grid_auto_columns": null,
       "grid_auto_flow": null,
       "grid_auto_rows": null,
       "grid_column": null,
       "grid_gap": null,
       "grid_row": null,
       "grid_template_areas": null,
       "grid_template_columns": null,
       "grid_template_rows": null,
       "height": null,
       "justify_content": null,
       "justify_items": null,
       "left": null,
       "margin": null,
       "max_height": null,
       "max_width": null,
       "min_height": null,
       "min_width": null,
       "object_fit": null,
       "object_position": null,
       "order": null,
       "overflow": null,
       "overflow_x": null,
       "overflow_y": null,
       "padding": null,
       "right": null,
       "top": null,
       "visibility": null,
       "width": null
      }
     },
     "d2cd2207dbd5405485a2e8a69a92b15a": {
      "model_module": "@jupyter-widgets/controls",
      "model_module_version": "1.5.0",
      "model_name": "DescriptionStyleModel",
      "state": {
       "_model_module": "@jupyter-widgets/controls",
       "_model_module_version": "1.5.0",
       "_model_name": "DescriptionStyleModel",
       "_view_count": null,
       "_view_module": "@jupyter-widgets/base",
       "_view_module_version": "1.2.0",
       "_view_name": "StyleView",
       "description_width": ""
      }
     },
     "d48701b092674dbf98daf490c4a946fe": {
      "model_module": "@jupyter-widgets/controls",
      "model_module_version": "1.5.0",
      "model_name": "HBoxModel",
      "state": {
       "_dom_classes": [],
       "_model_module": "@jupyter-widgets/controls",
       "_model_module_version": "1.5.0",
       "_model_name": "HBoxModel",
       "_view_count": null,
       "_view_module": "@jupyter-widgets/controls",
       "_view_module_version": "1.5.0",
       "_view_name": "HBoxView",
       "box_style": "",
       "children": [
        "IPY_MODEL_d88afe12a6ab4563b266422ea43ccaf1",
        "IPY_MODEL_850c71101c354e03b60c3efcc50975d7",
        "IPY_MODEL_2cede4ecb799473599a555a2581cdafb"
       ],
       "layout": "IPY_MODEL_c7585b917e234082a9960c7c2ba3f6d6"
      }
     },
     "d88afe12a6ab4563b266422ea43ccaf1": {
      "model_module": "@jupyter-widgets/controls",
      "model_module_version": "1.5.0",
      "model_name": "HTMLModel",
      "state": {
       "_dom_classes": [],
       "_model_module": "@jupyter-widgets/controls",
       "_model_module_version": "1.5.0",
       "_model_name": "HTMLModel",
       "_view_count": null,
       "_view_module": "@jupyter-widgets/controls",
       "_view_module_version": "1.5.0",
       "_view_name": "HTMLView",
       "description": "",
       "description_tooltip": null,
       "layout": "IPY_MODEL_b0ab6b58dc5844e28bafed1e9979cf62",
       "placeholder": "​",
       "style": "IPY_MODEL_4cf432b1df374e909d7ec57313915b74",
       "value": "100%"
      }
     },
     "ddefeb808d2648bda088275f916d3b0f": {
      "model_module": "@jupyter-widgets/base",
      "model_module_version": "1.2.0",
      "model_name": "LayoutModel",
      "state": {
       "_model_module": "@jupyter-widgets/base",
       "_model_module_version": "1.2.0",
       "_model_name": "LayoutModel",
       "_view_count": null,
       "_view_module": "@jupyter-widgets/base",
       "_view_module_version": "1.2.0",
       "_view_name": "LayoutView",
       "align_content": null,
       "align_items": null,
       "align_self": null,
       "border": null,
       "bottom": null,
       "display": null,
       "flex": null,
       "flex_flow": null,
       "grid_area": null,
       "grid_auto_columns": null,
       "grid_auto_flow": null,
       "grid_auto_rows": null,
       "grid_column": null,
       "grid_gap": null,
       "grid_row": null,
       "grid_template_areas": null,
       "grid_template_columns": null,
       "grid_template_rows": null,
       "height": null,
       "justify_content": null,
       "justify_items": null,
       "left": null,
       "margin": null,
       "max_height": null,
       "max_width": null,
       "min_height": null,
       "min_width": null,
       "object_fit": null,
       "object_position": null,
       "order": null,
       "overflow": null,
       "overflow_x": null,
       "overflow_y": null,
       "padding": null,
       "right": null,
       "top": null,
       "visibility": null,
       "width": null
      }
     },
     "f093786600b9450c893d52b77a0a2f14": {
      "model_module": "@jupyter-widgets/controls",
      "model_module_version": "1.5.0",
      "model_name": "DescriptionStyleModel",
      "state": {
       "_model_module": "@jupyter-widgets/controls",
       "_model_module_version": "1.5.0",
       "_model_name": "DescriptionStyleModel",
       "_view_count": null,
       "_view_module": "@jupyter-widgets/base",
       "_view_module_version": "1.2.0",
       "_view_name": "StyleView",
       "description_width": ""
      }
     }
    },
    "version_major": 2,
    "version_minor": 0
   }
  }
 },
 "nbformat": 4,
 "nbformat_minor": 5
}
