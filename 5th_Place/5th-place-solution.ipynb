{
 "cells": [
  {
   "cell_type": "code",
   "execution_count": 1,
   "id": "c48c30a9",
   "metadata": {
    "_cell_guid": "b1076dfc-b9ad-4769-8c92-a6c4dae69d19",
    "_uuid": "8f2839f25d086af736a60e9eeb907d3b93b6e0e5",
    "collapsed": true,
    "execution": {
     "iopub.execute_input": "2023-10-21T09:32:03.182956Z",
     "iopub.status.busy": "2023-10-21T09:32:03.182642Z",
     "iopub.status.idle": "2023-10-21T09:35:54.353870Z",
     "shell.execute_reply": "2023-10-21T09:35:54.352862Z"
    },
    "jupyter": {
     "outputs_hidden": true
    },
    "papermill": {
     "duration": 231.185657,
     "end_time": "2023-10-21T09:35:54.356350",
     "exception": false,
     "start_time": "2023-10-21T09:32:03.170693",
     "status": "completed"
    },
    "tags": []
   },
   "outputs": [
    {
     "name": "stdout",
     "output_type": "stream",
     "text": [
      "jiwer/\r\n",
      "jiwer/jiwer-2.3.0-py3-none-any.whl\r\n",
      "jiwer/python-Levenshtein-0.12.2.tar.gz\r\n",
      "jiwer/setuptools-65.3.0-py3-none-any.whl\r\n",
      "Looking in links: ./\r\n",
      "Processing ./jiwer/jiwer-2.3.0-py3-none-any.whl\r\n",
      "INFO: pip is looking at multiple versions of jiwer to determine which version is compatible with other requirements. This could take a while.\r\n",
      "\u001b[31mERROR: Could not find a version that satisfies the requirement python-Levenshtein==0.12.2 (from jiwer) (from versions: none)\u001b[0m\u001b[31m\r\n",
      "\u001b[0m\u001b[31mERROR: No matching distribution found for python-Levenshtein==0.12.2\u001b[0m\u001b[31m\r\n",
      "\u001b[0mnormalizer/\r\n",
      "normalizer/bnunicodenormalizer-0.0.24.tar.gz\r\n",
      "Looking in links: ./\r\n",
      "Processing ./normalizer/bnunicodenormalizer-0.0.24.tar.gz\r\n",
      "  Preparing metadata (setup.py) ... \u001b[?25ldone\r\n",
      "\u001b[?25hBuilding wheels for collected packages: bnunicodenormalizer\r\n",
      "  Building wheel for bnunicodenormalizer (setup.py) ... \u001b[?25l-\b \bdone\r\n",
      "\u001b[?25h  Created wheel for bnunicodenormalizer: filename=bnunicodenormalizer-0.0.24-py3-none-any.whl size=17609 sha256=26c58e2a93a6e93d0886bca9a5a7c2495205ea014546c98adb05a70561c2d20f\r\n",
      "  Stored in directory: /root/.cache/pip/wheels/78/d7/75/6986dc3616718f950b80e3bd79a796ef618eaef6cd800e7909\r\n",
      "Successfully built bnunicodenormalizer\r\n",
      "Installing collected packages: bnunicodenormalizer\r\n",
      "Successfully installed bnunicodenormalizer-0.0.24\r\n",
      "pyctcdecode/\r\n",
      "pyctcdecode/hypothesis-6.54.4-py3-none-any.whl\r\n",
      "pyctcdecode/sortedcontainers-2.4.0-py2.py3-none-any.whl\r\n",
      "pyctcdecode/exceptiongroup-1.0.0rc9-py3-none-any.whl\r\n",
      "pyctcdecode/pyctcdecode-0.4.0-py2.py3-none-any.whl\r\n",
      "pyctcdecode/numpy-1.21.6-cp37-cp37m-manylinux_2_12_x86_64.manylinux2010_x86_64.whl\r\n",
      "pyctcdecode/attrs-22.1.0-py2.py3-none-any.whl\r\n",
      "pyctcdecode/pygtrie-2.5.0.tar.gz\r\n",
      "Looking in links: ./\r\n",
      "Processing ./pyctcdecode/attrs-22.1.0-py2.py3-none-any.whl\r\n",
      "Installing collected packages: attrs\r\n",
      "  Attempting uninstall: attrs\r\n",
      "    Found existing installation: attrs 23.1.0\r\n",
      "    Uninstalling attrs-23.1.0:\r\n",
      "      Successfully uninstalled attrs-23.1.0\r\n",
      "Successfully installed attrs-22.1.0\r\n",
      "Looking in links: ./\r\n",
      "Processing ./pyctcdecode/exceptiongroup-1.0.0rc9-py3-none-any.whl\r\n",
      "Installing collected packages: exceptiongroup\r\n",
      "  Attempting uninstall: exceptiongroup\r\n",
      "    Found existing installation: exceptiongroup 1.1.1\r\n",
      "    Uninstalling exceptiongroup-1.1.1:\r\n",
      "      Successfully uninstalled exceptiongroup-1.1.1\r\n",
      "Successfully installed exceptiongroup-1.0.0rc9\r\n",
      "Looking in links: ./\r\n",
      "Processing ./pyctcdecode/hypothesis-6.54.4-py3-none-any.whl\r\n",
      "Installing collected packages: hypothesis\r\n",
      "Successfully installed hypothesis-6.54.4\r\n",
      "Looking in links: ./\r\n",
      "\u001b[31mERROR: numpy-1.21.6-cp37-cp37m-manylinux_2_12_x86_64.manylinux2010_x86_64.whl is not a supported wheel on this platform.\u001b[0m\u001b[31m\r\n",
      "\u001b[0mLooking in links: ./\r\n",
      "Processing ./pyctcdecode/pygtrie-2.5.0.tar.gz\r\n",
      "  Preparing metadata (setup.py) ... \u001b[?25l-\b \bdone\r\n",
      "\u001b[?25hBuilding wheels for collected packages: pygtrie\r\n",
      "  Building wheel for pygtrie (setup.py) ... \u001b[?25l-\b \b\\\b \bdone\r\n",
      "\u001b[?25h  Created wheel for pygtrie: filename=pygtrie-2.5.0-py3-none-any.whl size=20942 sha256=d6e0d80c1d0eea9b9106be3b873eb458cc9ba28b4bc6dc0de63e031928826261\r\n",
      "  Stored in directory: /root/.cache/pip/wheels/78/28/09/b62c97a3e77102645c7ecc78c97580ad57090b1eee5438d6ac\r\n",
      "Successfully built pygtrie\r\n",
      "Installing collected packages: pygtrie\r\n",
      "Successfully installed pygtrie-2.5.0\r\n",
      "Looking in links: ./\r\n",
      "Processing ./pyctcdecode/sortedcontainers-2.4.0-py2.py3-none-any.whl\r\n",
      "sortedcontainers is already installed with the same version as the provided wheel. Use --force-reinstall to force an installation of the wheel.\r\n",
      "Looking in links: ./\r\n",
      "Processing ./pyctcdecode/pyctcdecode-0.4.0-py2.py3-none-any.whl\r\n",
      "Installing collected packages: pyctcdecode\r\n",
      "Successfully installed pyctcdecode-0.4.0\r\n",
      "pypikenlm/\r\n",
      "pypikenlm/pypi-kenlm-0.1.20220713.tar.gz\r\n",
      "Looking in links: ./\r\n",
      "Processing ./pypikenlm/pypi-kenlm-0.1.20220713.tar.gz\r\n",
      "  Preparing metadata (setup.py) ... \u001b[?25ldone\r\n",
      "\u001b[?25hBuilding wheels for collected packages: pypi-kenlm\r\n",
      "  Building wheel for pypi-kenlm (setup.py) ... \u001b[?25l-\b \b\\\b \bdone\r\n",
      "\u001b[?25h  Created wheel for pypi-kenlm: filename=pypi_kenlm-0.1.20220713-cp310-cp310-linux_x86_64.whl size=333233 sha256=6fd514ed04aa856c0faba294d8e7ca5043fa9b39a653959592f6217b779bbf92\r\n",
      "  Stored in directory: /root/.cache/pip/wheels/1e/7a/db/27645fac296d5d5ba5c461b1af834eebc0ba4643290dbc5476\r\n",
      "Successfully built pypi-kenlm\r\n",
      "Installing collected packages: pypi-kenlm\r\n",
      "Successfully installed pypi-kenlm-0.1.20220713\r\n",
      "Looking in links: ../input/install-notebook\r\n",
      "Processing /kaggle/input/install-notebook/indic_nlp_library-0.92-py3-none-any.whl (from -r ../input/install-notebook/requirements.txt (line 1))\r\n",
      "Processing /kaggle/input/install-notebook/nemo_toolkit-1.20.0-py3-none-any.whl (from -r ../input/install-notebook/requirements.txt (line 2))\r\n",
      "Processing /kaggle/input/install-notebook/punctuators-0.0.5-py3-none-any.whl (from -r ../input/install-notebook/requirements.txt (line 3))\r\n",
      "Processing /kaggle/input/install-notebook/sphinx_argparse-0.4.0-py3-none-any.whl (from indic-nlp-library->-r ../input/install-notebook/requirements.txt (line 1))\r\n",
      "Requirement already satisfied: sphinx-rtd-theme in /opt/conda/lib/python3.10/site-packages (from indic-nlp-library->-r ../input/install-notebook/requirements.txt (line 1)) (0.2.4)\r\n",
      "Processing /kaggle/input/install-notebook/Morfessor-2.0.6-py3-none-any.whl (from indic-nlp-library->-r ../input/install-notebook/requirements.txt (line 1))\r\n",
      "Requirement already satisfied: pandas in /opt/conda/lib/python3.10/site-packages (from indic-nlp-library->-r ../input/install-notebook/requirements.txt (line 1)) (2.0.2)\r\n",
      "Requirement already satisfied: numpy in /opt/conda/lib/python3.10/site-packages (from indic-nlp-library->-r ../input/install-notebook/requirements.txt (line 1)) (1.23.5)\r\n",
      "Requirement already satisfied: huggingface-hub in /opt/conda/lib/python3.10/site-packages (from nemo_toolkit[all]->-r ../input/install-notebook/requirements.txt (line 2)) (0.16.4)\r\n",
      "Requirement already satisfied: numba in /opt/conda/lib/python3.10/site-packages (from nemo_toolkit[all]->-r ../input/install-notebook/requirements.txt (line 2)) (0.57.1)\r\n",
      "Requirement already satisfied: onnx>=1.7.0 in /opt/conda/lib/python3.10/site-packages (from nemo_toolkit[all]->-r ../input/install-notebook/requirements.txt (line 2)) (1.14.1)\r\n",
      "Requirement already satisfied: python-dateutil in /opt/conda/lib/python3.10/site-packages (from nemo_toolkit[all]->-r ../input/install-notebook/requirements.txt (line 2)) (2.8.2)\r\n",
      "Requirement already satisfied: ruamel.yaml in /opt/conda/lib/python3.10/site-packages (from nemo_toolkit[all]->-r ../input/install-notebook/requirements.txt (line 2)) (0.17.32)\r\n",
      "Requirement already satisfied: scikit-learn in /opt/conda/lib/python3.10/site-packages (from nemo_toolkit[all]->-r ../input/install-notebook/requirements.txt (line 2)) (1.2.2)\r\n",
      "Processing /kaggle/input/install-notebook/setuptools-65.5.1-py3-none-any.whl (from nemo_toolkit[all]->-r ../input/install-notebook/requirements.txt (line 2))\r\n",
      "Requirement already satisfied: tensorboard in /opt/conda/lib/python3.10/site-packages (from nemo_toolkit[all]->-r ../input/install-notebook/requirements.txt (line 2)) (2.12.3)\r\n",
      "Requirement already satisfied: text-unidecode in /opt/conda/lib/python3.10/site-packages (from nemo_toolkit[all]->-r ../input/install-notebook/requirements.txt (line 2)) (1.3)\r\n",
      "Requirement already satisfied: torch in /opt/conda/lib/python3.10/site-packages (from nemo_toolkit[all]->-r ../input/install-notebook/requirements.txt (line 2)) (2.0.0)\r\n",
      "Requirement already satisfied: tqdm>=4.41.0 in /opt/conda/lib/python3.10/site-packages (from nemo_toolkit[all]->-r ../input/install-notebook/requirements.txt (line 2)) (4.66.1)\r\n",
      "Processing /kaggle/input/install-notebook/wget-3.2.zip (from nemo_toolkit[all]->-r ../input/install-notebook/requirements.txt (line 2))\r\n",
      "  Preparing metadata (setup.py) ... \u001b[?25ldone\r\n",
      "\u001b[?25hRequirement already satisfied: wrapt in /opt/conda/lib/python3.10/site-packages (from nemo_toolkit[all]->-r ../input/install-notebook/requirements.txt (line 2)) (1.14.1)\r\n",
      "Processing /kaggle/input/install-notebook/black-19.10b0-py36-none-any.whl (from nemo_toolkit[all]->-r ../input/install-notebook/requirements.txt (line 2))\r\n",
      "Processing /kaggle/input/install-notebook/click-8.0.2-py3-none-any.whl (from nemo_toolkit[all]->-r ../input/install-notebook/requirements.txt (line 2))\r\n",
      "Requirement already satisfied: isort<6.0.0,>5.1.0 in /opt/conda/lib/python3.10/site-packages (from nemo_toolkit[all]->-r ../input/install-notebook/requirements.txt (line 2)) (5.12.0)\r\n",
      "Processing /kaggle/input/install-notebook/parameterized-0.9.0-py2.py3-none-any.whl (from nemo_toolkit[all]->-r ../input/install-notebook/requirements.txt (line 2))\r\n",
      "Requirement already satisfied: pytest in /opt/conda/lib/python3.10/site-packages (from nemo_toolkit[all]->-r ../input/install-notebook/requirements.txt (line 2)) (7.4.1)\r\n",
      "Processing /kaggle/input/install-notebook/pytest_runner-6.0.0-py3-none-any.whl (from nemo_toolkit[all]->-r ../input/install-notebook/requirements.txt (line 2))\r\n",
      "Processing /kaggle/input/install-notebook/sphinx-7.2.5-py3-none-any.whl (from nemo_toolkit[all]->-r ../input/install-notebook/requirements.txt (line 2))\r\n",
      "Processing /kaggle/input/install-notebook/sphinxcontrib_bibtex-2.5.0-py3-none-any.whl (from nemo_toolkit[all]->-r ../input/install-notebook/requirements.txt (line 2))\r\n",
      "Requirement already satisfied: wandb in /opt/conda/lib/python3.10/site-packages (from nemo_toolkit[all]->-r ../input/install-notebook/requirements.txt (line 2)) (0.15.9)\r\n",
      "Processing /kaggle/input/install-notebook/hydra_core-1.2.0-py3-none-any.whl (from nemo_toolkit[all]->-r ../input/install-notebook/requirements.txt (line 2))\r\n",
      "Processing /kaggle/input/install-notebook/omegaconf-2.2.3-py3-none-any.whl (from nemo_toolkit[all]->-r ../input/install-notebook/requirements.txt (line 2))\r\n",
      "Processing /kaggle/input/install-notebook/pytorch_lightning-1.9.4-py3-none-any.whl (from nemo_toolkit[all]->-r ../input/install-notebook/requirements.txt (line 2))\r\n",
      "Requirement already satisfied: torchmetrics>=0.11.0 in /opt/conda/lib/python3.10/site-packages (from nemo_toolkit[all]->-r ../input/install-notebook/requirements.txt (line 2)) (1.1.1)\r\n",
      "Requirement already satisfied: transformers>=4.0.1 in /opt/conda/lib/python3.10/site-packages (from nemo_toolkit[all]->-r ../input/install-notebook/requirements.txt (line 2)) (4.33.0)\r\n",
      "Processing /kaggle/input/install-notebook/webdataset-0.1.62-py3-none-any.whl (from nemo_toolkit[all]->-r ../input/install-notebook/requirements.txt (line 2))\r\n",
      "Processing /kaggle/input/install-notebook/inflect-7.0.0-py3-none-any.whl (from nemo_toolkit[all]->-r ../input/install-notebook/requirements.txt (line 2))\r\n",
      "Requirement already satisfied: pydantic<2 in /opt/conda/lib/python3.10/site-packages (from nemo_toolkit[all]->-r ../input/install-notebook/requirements.txt (line 2)) (1.10.9)\r\n",
      "Processing /kaggle/input/install-notebook/sacremoses-0.0.53.tar.gz (from nemo_toolkit[all]->-r ../input/install-notebook/requirements.txt (line 2))\r\n",
      "  Preparing metadata (setup.py) ... \u001b[?25ldone\r\n",
      "\u001b[?25hRequirement already satisfied: sentencepiece<1.0.0 in /opt/conda/lib/python3.10/site-packages (from nemo_toolkit[all]->-r ../input/install-notebook/requirements.txt (line 2)) (0.1.99)\r\n",
      "Processing /kaggle/input/install-notebook/youtokentome-1.0.6.tar.gz (from nemo_toolkit[all]->-r ../input/install-notebook/requirements.txt (line 2))\r\n",
      "  Preparing metadata (setup.py) ... \u001b[?25l-\b \b\\\b \bdone\r\n",
      "\u001b[?25hProcessing /kaggle/input/install-notebook/braceexpand-0.1.7-py2.py3-none-any.whl (from nemo_toolkit[all]->-r ../input/install-notebook/requirements.txt (line 2))\r\n",
      "Processing /kaggle/input/install-notebook/editdistance-0.6.2-cp310-cp310-manylinux_2_17_x86_64.manylinux2014_x86_64.whl (from nemo_toolkit[all]->-r ../input/install-notebook/requirements.txt (line 2))\r\n",
      "Processing /kaggle/input/install-notebook/g2p_en-2.1.0-py3-none-any.whl (from nemo_toolkit[all]->-r ../input/install-notebook/requirements.txt (line 2))\r\n",
      "Requirement already satisfied: ipywidgets in /opt/conda/lib/python3.10/site-packages (from nemo_toolkit[all]->-r ../input/install-notebook/requirements.txt (line 2)) (7.7.1)\r\n",
      "Processing /kaggle/input/install-notebook/jiwer-2.5.2-py3-none-any.whl (from nemo_toolkit[all]->-r ../input/install-notebook/requirements.txt (line 2))\r\n",
      "Processing /kaggle/input/install-notebook/kaldi-python-io-1.2.2.tar.gz (from nemo_toolkit[all]->-r ../input/install-notebook/requirements.txt (line 2))\r\n",
      "  Preparing metadata (setup.py) ... \u001b[?25ldone\r\n",
      "\u001b[?25hProcessing /kaggle/input/install-notebook/kaldiio-2.18.0-py3-none-any.whl (from nemo_toolkit[all]->-r ../input/install-notebook/requirements.txt (line 2))\r\n",
      "Requirement already satisfied: librosa>=0.9.0 in /opt/conda/lib/python3.10/site-packages (from nemo_toolkit[all]->-r ../input/install-notebook/requirements.txt (line 2)) (0.10.1)\r\n",
      "Requirement already satisfied: marshmallow in /opt/conda/lib/python3.10/site-packages (from nemo_toolkit[all]->-r ../input/install-notebook/requirements.txt (line 2)) (3.20.1)\r\n",
      "Requirement already satisfied: matplotlib in /opt/conda/lib/python3.10/site-packages (from nemo_toolkit[all]->-r ../input/install-notebook/requirements.txt (line 2)) (3.7.2)\r\n",
      "Requirement already satisfied: packaging in /opt/conda/lib/python3.10/site-packages (from nemo_toolkit[all]->-r ../input/install-notebook/requirements.txt (line 2)) (21.3)\r\n",
      "Processing /kaggle/input/install-notebook/pyannote.core-5.0.0-py3-none-any.whl (from nemo_toolkit[all]->-r ../input/install-notebook/requirements.txt (line 2))\r\n",
      "Processing /kaggle/input/install-notebook/pyannote.metrics-3.2.1-py3-none-any.whl (from nemo_toolkit[all]->-r ../input/install-notebook/requirements.txt (line 2))\r\n",
      "Requirement already satisfied: pydub in /opt/conda/lib/python3.10/site-packages (from nemo_toolkit[all]->-r ../input/install-notebook/requirements.txt (line 2)) (0.25.1)\r\n",
      "Requirement already satisfied: scipy>=0.14 in /opt/conda/lib/python3.10/site-packages (from nemo_toolkit[all]->-r ../input/install-notebook/requirements.txt (line 2)) (1.11.2)\r\n",
      "Requirement already satisfied: soundfile in /opt/conda/lib/python3.10/site-packages (from nemo_toolkit[all]->-r ../input/install-notebook/requirements.txt (line 2)) (0.12.1)\r\n",
      "Processing /kaggle/input/install-notebook/sox-1.4.1-py2.py3-none-any.whl (from nemo_toolkit[all]->-r ../input/install-notebook/requirements.txt (line 2))\r\n",
      "Processing /kaggle/input/install-notebook/texterrors-0.4.4-cp310-cp310-manylinux_2_17_x86_64.manylinux2014_x86_64.whl (from nemo_toolkit[all]->-r ../input/install-notebook/requirements.txt (line 2))\r\n",
      "Requirement already satisfied: boto3 in /opt/conda/lib/python3.10/site-packages (from nemo_toolkit[all]->-r ../input/install-notebook/requirements.txt (line 2)) (1.26.100)\r\n",
      "Processing /kaggle/input/install-notebook/einops-0.6.1-py3-none-any.whl (from nemo_toolkit[all]->-r ../input/install-notebook/requirements.txt (line 2))\r\n",
      "Processing /kaggle/input/install-notebook/faiss_cpu-1.7.4-cp310-cp310-manylinux_2_17_x86_64.manylinux2014_x86_64.whl (from nemo_toolkit[all]->-r ../input/install-notebook/requirements.txt (line 2))\r\n",
      "Requirement already satisfied: fasttext in /opt/conda/lib/python3.10/site-packages (from nemo_toolkit[all]->-r ../input/install-notebook/requirements.txt (line 2)) (0.9.2)\r\n",
      "Processing /kaggle/input/install-notebook/Flask_RESTful-0.3.10-py2.py3-none-any.whl (from nemo_toolkit[all]->-r ../input/install-notebook/requirements.txt (line 2))\r\n",
      "Processing /kaggle/input/install-notebook/ftfy-6.1.1-py3-none-any.whl (from nemo_toolkit[all]->-r ../input/install-notebook/requirements.txt (line 2))\r\n",
      "Processing /kaggle/input/install-notebook/gdown-4.7.1-py3-none-any.whl (from nemo_toolkit[all]->-r ../input/install-notebook/requirements.txt (line 2))\r\n",
      "Requirement already satisfied: h5py in /opt/conda/lib/python3.10/site-packages (from nemo_toolkit[all]->-r ../input/install-notebook/requirements.txt (line 2)) (3.9.0)\r\n",
      "Processing /kaggle/input/install-notebook/ijson-3.2.3-cp310-cp310-manylinux_2_17_x86_64.manylinux2014_x86_64.whl (from nemo_toolkit[all]->-r ../input/install-notebook/requirements.txt (line 2))\r\n",
      "Requirement already satisfied: jieba in /opt/conda/lib/python3.10/site-packages (from nemo_toolkit[all]->-r ../input/install-notebook/requirements.txt (line 2)) (0.42.1)\r\n",
      "Processing /kaggle/input/install-notebook/markdown2-2.4.10-py2.py3-none-any.whl (from nemo_toolkit[all]->-r ../input/install-notebook/requirements.txt (line 2))\r\n",
      "Processing /kaggle/input/install-notebook/megatron_core-0.2.0-py3-none-any.whl (from nemo_toolkit[all]->-r ../input/install-notebook/requirements.txt (line 2))\r\n",
      "Processing /kaggle/input/install-notebook/nltk-3.8.1-py3-none-any.whl (from nemo_toolkit[all]->-r ../input/install-notebook/requirements.txt (line 2))\r\n",
      "Processing /kaggle/input/install-notebook/OpenCC-1.1.6-cp310-cp310-manylinux1_x86_64.whl (from nemo_toolkit[all]->-r ../input/install-notebook/requirements.txt (line 2))\r\n",
      "Processing /kaggle/input/install-notebook/pangu-4.0.6.1-py3-none-any.whl (from nemo_toolkit[all]->-r ../input/install-notebook/requirements.txt (line 2))\r\n",
      "Requirement already satisfied: rapidfuzz in /opt/conda/lib/python3.10/site-packages (from nemo_toolkit[all]->-r ../input/install-notebook/requirements.txt (line 2)) (3.2.0)\r\n",
      "Processing /kaggle/input/install-notebook/rouge_score-0.1.2.tar.gz (from nemo_toolkit[all]->-r ../input/install-notebook/requirements.txt (line 2))\r\n",
      "  Preparing metadata (setup.py) ... \u001b[?25ldone\r\n",
      "\u001b[?25hProcessing /kaggle/input/install-notebook/sacrebleu-2.3.1-py3-none-any.whl (from nemo_toolkit[all]->-r ../input/install-notebook/requirements.txt (line 2))\r\n",
      "Processing /kaggle/input/install-notebook/sentence-transformers-2.2.2.tar.gz (from nemo_toolkit[all]->-r ../input/install-notebook/requirements.txt (line 2))\r\n",
      "  Preparing metadata (setup.py) ... \u001b[?25l-\b \bdone\r\n",
      "\u001b[?25hProcessing /kaggle/input/install-notebook/attrdict-2.0.1-py2.py3-none-any.whl (from nemo_toolkit[all]->-r ../input/install-notebook/requirements.txt (line 2))\r\n",
      "Requirement already satisfied: kornia in /opt/conda/lib/python3.10/site-packages (from nemo_toolkit[all]->-r ../input/install-notebook/requirements.txt (line 2)) (0.7.0)\r\n",
      "Processing /kaggle/input/install-notebook/nemo_text_processing-0.2.0rc0-py3-none-any.whl (from nemo_toolkit[all]->-r ../input/install-notebook/requirements.txt (line 2))\r\n",
      "Processing /kaggle/input/install-notebook/pypinyin-0.49.0-py2.py3-none-any.whl (from nemo_toolkit[all]->-r ../input/install-notebook/requirements.txt (line 2))\r\n",
      "Processing /kaggle/input/install-notebook/pypinyin_dict-0.6.0-py2.py3-none-any.whl (from nemo_toolkit[all]->-r ../input/install-notebook/requirements.txt (line 2))\r\n",
      "Processing /kaggle/input/install-notebook/progress-1.6.tar.gz (from nemo_toolkit[all]->-r ../input/install-notebook/requirements.txt (line 2))\r\n",
      "  Preparing metadata (setup.py) ... \u001b[?25ldone\r\n",
      "\u001b[?25hRequirement already satisfied: tabulate>=0.8.7 in /opt/conda/lib/python3.10/site-packages (from nemo_toolkit[all]->-r ../input/install-notebook/requirements.txt (line 2)) (0.9.0)\r\n",
      "Processing /kaggle/input/install-notebook/textdistance-4.5.0-py3-none-any.whl (from nemo_toolkit[all]->-r ../input/install-notebook/requirements.txt (line 2))\r\n",
      "Requirement already satisfied: attrs>=18.1.0 in /opt/conda/lib/python3.10/site-packages (from black==19.10b0->nemo_toolkit[all]->-r ../input/install-notebook/requirements.txt (line 2)) (22.1.0)\r\n",
      "Requirement already satisfied: appdirs in /opt/conda/lib/python3.10/site-packages (from black==19.10b0->nemo_toolkit[all]->-r ../input/install-notebook/requirements.txt (line 2)) (1.4.4)\r\n",
      "Requirement already satisfied: toml>=0.9.4 in /opt/conda/lib/python3.10/site-packages (from black==19.10b0->nemo_toolkit[all]->-r ../input/install-notebook/requirements.txt (line 2)) (0.10.2)\r\n",
      "Processing /kaggle/input/install-notebook/typed_ast-1.5.5-cp310-cp310-manylinux_2_17_x86_64.manylinux2014_x86_64.whl (from black==19.10b0->nemo_toolkit[all]->-r ../input/install-notebook/requirements.txt (line 2))\r\n",
      "Requirement already satisfied: regex in /opt/conda/lib/python3.10/site-packages (from black==19.10b0->nemo_toolkit[all]->-r ../input/install-notebook/requirements.txt (line 2)) (2023.6.3)\r\n",
      "Processing /kaggle/input/install-notebook/pathspec-0.11.2-py3-none-any.whl (from black==19.10b0->nemo_toolkit[all]->-r ../input/install-notebook/requirements.txt (line 2))\r\n",
      "Processing /kaggle/input/install-notebook/onnxruntime-1.15.1-cp310-cp310-manylinux_2_17_x86_64.manylinux2014_x86_64.whl (from punctuators->-r ../input/install-notebook/requirements.txt (line 3))\r\n",
      "Processing /kaggle/input/install-notebook/antlr4-python3-runtime-4.9.3.tar.gz (from hydra-core<1.3,>=1.2.0->nemo_toolkit[all]->-r ../input/install-notebook/requirements.txt (line 2))\r\n",
      "  Preparing metadata (setup.py) ... \u001b[?25ldone\r\n",
      "\u001b[?25hProcessing /kaggle/input/install-notebook/rapidfuzz-2.13.7-cp310-cp310-manylinux_2_17_x86_64.manylinux2014_x86_64.whl (from nemo_toolkit[all]->-r ../input/install-notebook/requirements.txt (line 2))\r\n",
      "Requirement already satisfied: audioread>=2.1.9 in /opt/conda/lib/python3.10/site-packages (from librosa>=0.9.0->nemo_toolkit[all]->-r ../input/install-notebook/requirements.txt (line 2)) (3.0.0)\r\n",
      "Requirement already satisfied: joblib>=0.14 in /opt/conda/lib/python3.10/site-packages (from librosa>=0.9.0->nemo_toolkit[all]->-r ../input/install-notebook/requirements.txt (line 2)) (1.3.2)\r\n",
      "Requirement already satisfied: decorator>=4.3.0 in /opt/conda/lib/python3.10/site-packages (from librosa>=0.9.0->nemo_toolkit[all]->-r ../input/install-notebook/requirements.txt (line 2)) (5.1.1)\r\n",
      "Requirement already satisfied: pooch>=1.0 in /opt/conda/lib/python3.10/site-packages (from librosa>=0.9.0->nemo_toolkit[all]->-r ../input/install-notebook/requirements.txt (line 2)) (1.7.0)\r\n",
      "Requirement already satisfied: soxr>=0.3.2 in /opt/conda/lib/python3.10/site-packages (from librosa>=0.9.0->nemo_toolkit[all]->-r ../input/install-notebook/requirements.txt (line 2)) (0.3.6)\r\n",
      "Requirement already satisfied: typing-extensions>=4.1.1 in /opt/conda/lib/python3.10/site-packages (from librosa>=0.9.0->nemo_toolkit[all]->-r ../input/install-notebook/requirements.txt (line 2)) (4.6.3)\r\n",
      "Requirement already satisfied: lazy-loader>=0.1 in /opt/conda/lib/python3.10/site-packages (from librosa>=0.9.0->nemo_toolkit[all]->-r ../input/install-notebook/requirements.txt (line 2)) (0.2)\r\n",
      "Requirement already satisfied: msgpack>=1.0 in /opt/conda/lib/python3.10/site-packages (from librosa>=0.9.0->nemo_toolkit[all]->-r ../input/install-notebook/requirements.txt (line 2)) (1.0.5)\r\n",
      "Requirement already satisfied: contourpy>=1.0.1 in /opt/conda/lib/python3.10/site-packages (from matplotlib->nemo_toolkit[all]->-r ../input/install-notebook/requirements.txt (line 2)) (1.1.0)\r\n",
      "Requirement already satisfied: cycler>=0.10 in /opt/conda/lib/python3.10/site-packages (from matplotlib->nemo_toolkit[all]->-r ../input/install-notebook/requirements.txt (line 2)) (0.11.0)\r\n",
      "Requirement already satisfied: fonttools>=4.22.0 in /opt/conda/lib/python3.10/site-packages (from matplotlib->nemo_toolkit[all]->-r ../input/install-notebook/requirements.txt (line 2)) (4.40.0)\r\n",
      "Requirement already satisfied: kiwisolver>=1.0.1 in /opt/conda/lib/python3.10/site-packages (from matplotlib->nemo_toolkit[all]->-r ../input/install-notebook/requirements.txt (line 2)) (1.4.4)\r\n",
      "Requirement already satisfied: pillow>=6.2.0 in /opt/conda/lib/python3.10/site-packages (from matplotlib->nemo_toolkit[all]->-r ../input/install-notebook/requirements.txt (line 2)) (9.5.0)\r\n",
      "Requirement already satisfied: pyparsing<3.1,>=2.3.1 in /opt/conda/lib/python3.10/site-packages (from matplotlib->nemo_toolkit[all]->-r ../input/install-notebook/requirements.txt (line 2)) (3.0.9)\r\n",
      "Requirement already satisfied: llvmlite<0.41,>=0.40.0dev0 in /opt/conda/lib/python3.10/site-packages (from numba->nemo_toolkit[all]->-r ../input/install-notebook/requirements.txt (line 2)) (0.40.1)\r\n",
      "Requirement already satisfied: PyYAML>=5.1.0 in /opt/conda/lib/python3.10/site-packages (from omegaconf<2.3,>=2.2->nemo_toolkit[all]->-r ../input/install-notebook/requirements.txt (line 2)) (6.0)\r\n",
      "Requirement already satisfied: protobuf>=3.20.2 in /opt/conda/lib/python3.10/site-packages (from onnx>=1.7.0->nemo_toolkit[all]->-r ../input/install-notebook/requirements.txt (line 2)) (3.20.3)\r\n",
      "Requirement already satisfied: six>=1.5 in /opt/conda/lib/python3.10/site-packages (from python-dateutil->nemo_toolkit[all]->-r ../input/install-notebook/requirements.txt (line 2)) (1.16.0)\r\n",
      "Requirement already satisfied: fsspec[http]>2021.06.0 in /opt/conda/lib/python3.10/site-packages (from pytorch-lightning<=1.9.4,>=1.9.0->nemo_toolkit[all]->-r ../input/install-notebook/requirements.txt (line 2)) (2023.9.0)\r\n",
      "Requirement already satisfied: lightning-utilities>=0.6.0.post0 in /opt/conda/lib/python3.10/site-packages (from pytorch-lightning<=1.9.4,>=1.9.0->nemo_toolkit[all]->-r ../input/install-notebook/requirements.txt (line 2)) (0.9.0)\r\n",
      "Requirement already satisfied: threadpoolctl>=2.0.0 in /opt/conda/lib/python3.10/site-packages (from scikit-learn->nemo_toolkit[all]->-r ../input/install-notebook/requirements.txt (line 2)) (3.1.0)\r\n",
      "Requirement already satisfied: cffi>=1.0 in /opt/conda/lib/python3.10/site-packages (from soundfile->nemo_toolkit[all]->-r ../input/install-notebook/requirements.txt (line 2)) (1.15.1)\r\n",
      "Requirement already satisfied: filelock in /opt/conda/lib/python3.10/site-packages (from torch->nemo_toolkit[all]->-r ../input/install-notebook/requirements.txt (line 2)) (3.12.2)\r\n",
      "Requirement already satisfied: sympy in /opt/conda/lib/python3.10/site-packages (from torch->nemo_toolkit[all]->-r ../input/install-notebook/requirements.txt (line 2)) (1.12)\r\n",
      "Requirement already satisfied: networkx in /opt/conda/lib/python3.10/site-packages (from torch->nemo_toolkit[all]->-r ../input/install-notebook/requirements.txt (line 2)) (3.1)\r\n",
      "Requirement already satisfied: jinja2 in /opt/conda/lib/python3.10/site-packages (from torch->nemo_toolkit[all]->-r ../input/install-notebook/requirements.txt (line 2)) (3.1.2)\r\n",
      "Requirement already satisfied: requests in /opt/conda/lib/python3.10/site-packages (from transformers>=4.0.1->nemo_toolkit[all]->-r ../input/install-notebook/requirements.txt (line 2)) (2.31.0)\r\n",
      "Requirement already satisfied: tokenizers!=0.11.3,<0.14,>=0.11.1 in /opt/conda/lib/python3.10/site-packages (from transformers>=4.0.1->nemo_toolkit[all]->-r ../input/install-notebook/requirements.txt (line 2)) (0.13.3)\r\n",
      "Requirement already satisfied: safetensors>=0.3.1 in /opt/conda/lib/python3.10/site-packages (from transformers>=4.0.1->nemo_toolkit[all]->-r ../input/install-notebook/requirements.txt (line 2)) (0.3.3)\r\n",
      "INFO: pip is looking at multiple versions of boto3 to determine which version is compatible with other requirements. This could take a while.\r\n",
      "Processing /kaggle/input/install-notebook/boto3-1.28.40-py3-none-any.whl (from nemo_toolkit[all]->-r ../input/install-notebook/requirements.txt (line 2))\r\n",
      "Processing /kaggle/input/install-notebook/botocore-1.31.40-py3-none-any.whl (from boto3->nemo_toolkit[all]->-r ../input/install-notebook/requirements.txt (line 2))\r\n",
      "Requirement already satisfied: jmespath<2.0.0,>=0.7.1 in /opt/conda/lib/python3.10/site-packages (from boto3->nemo_toolkit[all]->-r ../input/install-notebook/requirements.txt (line 2)) (1.0.1)\r\n",
      "Requirement already satisfied: s3transfer<0.7.0,>=0.6.0 in /opt/conda/lib/python3.10/site-packages (from boto3->nemo_toolkit[all]->-r ../input/install-notebook/requirements.txt (line 2)) (0.6.2)\r\n",
      "Requirement already satisfied: pybind11>=2.2 in /opt/conda/lib/python3.10/site-packages (from fasttext->nemo_toolkit[all]->-r ../input/install-notebook/requirements.txt (line 2)) (2.11.1)\r\n",
      "Processing /kaggle/input/install-notebook/aniso8601-9.0.1-py2.py3-none-any.whl (from flask-restful->nemo_toolkit[all]->-r ../input/install-notebook/requirements.txt (line 2))\r\n",
      "Requirement already satisfied: Flask>=0.8 in /opt/conda/lib/python3.10/site-packages (from flask-restful->nemo_toolkit[all]->-r ../input/install-notebook/requirements.txt (line 2)) (2.3.3)\r\n",
      "Requirement already satisfied: pytz in /opt/conda/lib/python3.10/site-packages (from flask-restful->nemo_toolkit[all]->-r ../input/install-notebook/requirements.txt (line 2)) (2023.3)\r\n",
      "Requirement already satisfied: wcwidth>=0.2.5 in /opt/conda/lib/python3.10/site-packages (from ftfy->nemo_toolkit[all]->-r ../input/install-notebook/requirements.txt (line 2)) (0.2.6)\r\n",
      "Processing /kaggle/input/install-notebook/Distance-0.1.3.tar.gz (from g2p-en->nemo_toolkit[all]->-r ../input/install-notebook/requirements.txt (line 2))\r\n",
      "  Preparing metadata (setup.py) ... \u001b[?25l-\b \bdone\r\n",
      "\u001b[?25hRequirement already satisfied: beautifulsoup4 in /opt/conda/lib/python3.10/site-packages (from gdown->nemo_toolkit[all]->-r ../input/install-notebook/requirements.txt (line 2)) (4.12.2)\r\n",
      "Requirement already satisfied: ipykernel>=4.5.1 in /opt/conda/lib/python3.10/site-packages (from ipywidgets->nemo_toolkit[all]->-r ../input/install-notebook/requirements.txt (line 2)) (6.23.3)\r\n",
      "Requirement already satisfied: ipython-genutils~=0.2.0 in /opt/conda/lib/python3.10/site-packages (from ipywidgets->nemo_toolkit[all]->-r ../input/install-notebook/requirements.txt (line 2)) (0.2.0)\r\n",
      "Requirement already satisfied: traitlets>=4.3.1 in /opt/conda/lib/python3.10/site-packages (from ipywidgets->nemo_toolkit[all]->-r ../input/install-notebook/requirements.txt (line 2)) (5.9.0)\r\n",
      "Requirement already satisfied: widgetsnbextension~=3.6.0 in /opt/conda/lib/python3.10/site-packages (from ipywidgets->nemo_toolkit[all]->-r ../input/install-notebook/requirements.txt (line 2)) (3.6.5)\r\n",
      "Requirement already satisfied: ipython>=4.0.0 in /opt/conda/lib/python3.10/site-packages (from ipywidgets->nemo_toolkit[all]->-r ../input/install-notebook/requirements.txt (line 2)) (8.14.0)\r\n",
      "Requirement already satisfied: jupyterlab-widgets>=1.0.0 in /opt/conda/lib/python3.10/site-packages (from ipywidgets->nemo_toolkit[all]->-r ../input/install-notebook/requirements.txt (line 2)) (3.0.7)\r\n",
      "Processing /kaggle/input/install-notebook/cdifflib-1.2.6.tar.gz (from nemo-text-processing->nemo_toolkit[all]->-r ../input/install-notebook/requirements.txt (line 2))\r\n",
      "  Installing build dependencies ... \u001b[?25l-\b \b\\\b \b|\b \bdone\r\n",
      "\u001b[?25h  Getting requirements to build wheel ... \u001b[?25l-\b \bdone\r\n",
      "\u001b[?25h  Installing backend dependencies ... \u001b[?25l-\b \b\\\b \bdone\r\n",
      "\u001b[?25h  Preparing metadata (pyproject.toml) ... \u001b[?25l-\b \bdone\r\n",
      "\u001b[?25hProcessing /kaggle/input/install-notebook/pynini-2.1.5-cp310-cp310-manylinux_2_17_x86_64.manylinux2014_x86_64.whl (from nemo-text-processing->nemo_toolkit[all]->-r ../input/install-notebook/requirements.txt (line 2))\r\n",
      "Requirement already satisfied: Cython>=0.29 in /opt/conda/lib/python3.10/site-packages (from pynini==2.1.5->nemo-text-processing->nemo_toolkit[all]->-r ../input/install-notebook/requirements.txt (line 2)) (0.29.35)\r\n",
      "Processing /kaggle/input/install-notebook/coloredlogs-15.0.1-py2.py3-none-any.whl (from onnxruntime->punctuators->-r ../input/install-notebook/requirements.txt (line 3))\r\n",
      "Requirement already satisfied: flatbuffers in /opt/conda/lib/python3.10/site-packages (from onnxruntime->punctuators->-r ../input/install-notebook/requirements.txt (line 3)) (23.5.26)\r\n",
      "Requirement already satisfied: tzdata>=2022.1 in /opt/conda/lib/python3.10/site-packages (from pandas->indic-nlp-library->-r ../input/install-notebook/requirements.txt (line 1)) (2023.3)\r\n",
      "Requirement already satisfied: sortedcontainers>=2.0.4 in /opt/conda/lib/python3.10/site-packages (from pyannote.core->nemo_toolkit[all]->-r ../input/install-notebook/requirements.txt (line 2)) (2.4.0)\r\n",
      "Processing /kaggle/input/install-notebook/pyannote.database-5.0.1-py3-none-any.whl (from pyannote.metrics->nemo_toolkit[all]->-r ../input/install-notebook/requirements.txt (line 2))\r\n",
      "Requirement already satisfied: docopt>=0.6.2 in /opt/conda/lib/python3.10/site-packages (from pyannote.metrics->nemo_toolkit[all]->-r ../input/install-notebook/requirements.txt (line 2)) (0.6.2)\r\n",
      "Requirement already satisfied: iniconfig in /opt/conda/lib/python3.10/site-packages (from pytest->nemo_toolkit[all]->-r ../input/install-notebook/requirements.txt (line 2)) (2.0.0)\r\n",
      "Requirement already satisfied: pluggy<2.0,>=0.12 in /opt/conda/lib/python3.10/site-packages (from pytest->nemo_toolkit[all]->-r ../input/install-notebook/requirements.txt (line 2)) (1.0.0)\r\n",
      "Requirement already satisfied: exceptiongroup>=1.0.0rc8 in /opt/conda/lib/python3.10/site-packages (from pytest->nemo_toolkit[all]->-r ../input/install-notebook/requirements.txt (line 2)) (1.0.0rc9)\r\n",
      "Requirement already satisfied: tomli>=1.0.0 in /opt/conda/lib/python3.10/site-packages (from pytest->nemo_toolkit[all]->-r ../input/install-notebook/requirements.txt (line 2)) (2.0.1)\r\n",
      "Requirement already satisfied: absl-py in /opt/conda/lib/python3.10/site-packages (from rouge-score->nemo_toolkit[all]->-r ../input/install-notebook/requirements.txt (line 2)) (1.4.0)\r\n",
      "Requirement already satisfied: ruamel.yaml.clib>=0.2.7 in /opt/conda/lib/python3.10/site-packages (from ruamel.yaml->nemo_toolkit[all]->-r ../input/install-notebook/requirements.txt (line 2)) (0.2.7)\r\n",
      "Processing /kaggle/input/install-notebook/portalocker-2.7.0-py2.py3-none-any.whl (from sacrebleu[ja]->nemo_toolkit[all]->-r ../input/install-notebook/requirements.txt (line 2))\r\n",
      "Requirement already satisfied: colorama in /opt/conda/lib/python3.10/site-packages (from sacrebleu[ja]->nemo_toolkit[all]->-r ../input/install-notebook/requirements.txt (line 2)) (0.4.6)\r\n",
      "Requirement already satisfied: lxml in /opt/conda/lib/python3.10/site-packages (from sacrebleu[ja]->nemo_toolkit[all]->-r ../input/install-notebook/requirements.txt (line 2)) (4.9.3)\r\n",
      "Processing /kaggle/input/install-notebook/mecab_python3-1.0.5-cp310-cp310-manylinux_2_17_x86_64.manylinux2014_x86_64.whl (from sacrebleu[ja]->nemo_toolkit[all]->-r ../input/install-notebook/requirements.txt (line 2))\r\n",
      "Processing /kaggle/input/install-notebook/ipadic-1.0.0.tar.gz (from sacrebleu[ja]->nemo_toolkit[all]->-r ../input/install-notebook/requirements.txt (line 2))\r\n",
      "  Preparing metadata (setup.py) ... \u001b[?25ldone\r\n",
      "\u001b[?25hRequirement already satisfied: torchvision in /opt/conda/lib/python3.10/site-packages (from sentence-transformers->nemo_toolkit[all]->-r ../input/install-notebook/requirements.txt (line 2)) (0.15.1)\r\n",
      "Processing /kaggle/input/install-notebook/sphinxcontrib_applehelp-1.0.7-py3-none-any.whl (from sphinx->nemo_toolkit[all]->-r ../input/install-notebook/requirements.txt (line 2))\r\n",
      "Processing /kaggle/input/install-notebook/sphinxcontrib_devhelp-1.0.5-py3-none-any.whl (from sphinx->nemo_toolkit[all]->-r ../input/install-notebook/requirements.txt (line 2))\r\n",
      "Processing /kaggle/input/install-notebook/sphinxcontrib_jsmath-1.0.1-py2.py3-none-any.whl (from sphinx->nemo_toolkit[all]->-r ../input/install-notebook/requirements.txt (line 2))\r\n",
      "Processing /kaggle/input/install-notebook/sphinxcontrib_htmlhelp-2.0.4-py3-none-any.whl (from sphinx->nemo_toolkit[all]->-r ../input/install-notebook/requirements.txt (line 2))\r\n",
      "Processing /kaggle/input/install-notebook/sphinxcontrib_serializinghtml-1.1.9-py3-none-any.whl (from sphinx->nemo_toolkit[all]->-r ../input/install-notebook/requirements.txt (line 2))\r\n",
      "Processing /kaggle/input/install-notebook/sphinxcontrib_qthelp-1.0.6-py3-none-any.whl (from sphinx->nemo_toolkit[all]->-r ../input/install-notebook/requirements.txt (line 2))\r\n",
      "Requirement already satisfied: Pygments>=2.14 in /opt/conda/lib/python3.10/site-packages (from sphinx->nemo_toolkit[all]->-r ../input/install-notebook/requirements.txt (line 2)) (2.15.1)\r\n",
      "Requirement already satisfied: docutils<0.21,>=0.18.1 in /opt/conda/lib/python3.10/site-packages (from sphinx->nemo_toolkit[all]->-r ../input/install-notebook/requirements.txt (line 2)) (0.20.1)\r\n",
      "Requirement already satisfied: snowballstemmer>=2.0 in /opt/conda/lib/python3.10/site-packages (from sphinx->nemo_toolkit[all]->-r ../input/install-notebook/requirements.txt (line 2)) (2.2.0)\r\n",
      "Requirement already satisfied: babel>=2.9 in /opt/conda/lib/python3.10/site-packages (from sphinx->nemo_toolkit[all]->-r ../input/install-notebook/requirements.txt (line 2)) (2.12.1)\r\n",
      "Processing /kaggle/input/install-notebook/alabaster-0.7.13-py3-none-any.whl (from sphinx->nemo_toolkit[all]->-r ../input/install-notebook/requirements.txt (line 2))\r\n",
      "Processing /kaggle/input/install-notebook/imagesize-1.4.1-py2.py3-none-any.whl (from sphinx->nemo_toolkit[all]->-r ../input/install-notebook/requirements.txt (line 2))\r\n",
      "Processing /kaggle/input/install-notebook/pybtex-0.24.0-py2.py3-none-any.whl (from sphinxcontrib-bibtex->nemo_toolkit[all]->-r ../input/install-notebook/requirements.txt (line 2))\r\n",
      "Processing /kaggle/input/install-notebook/pybtex_docutils-1.0.3-py3-none-any.whl (from sphinxcontrib-bibtex->nemo_toolkit[all]->-r ../input/install-notebook/requirements.txt (line 2))\r\n",
      "Requirement already satisfied: grpcio>=1.48.2 in /opt/conda/lib/python3.10/site-packages (from tensorboard->nemo_toolkit[all]->-r ../input/install-notebook/requirements.txt (line 2)) (1.51.1)\r\n",
      "Requirement already satisfied: google-auth<3,>=1.6.3 in /opt/conda/lib/python3.10/site-packages (from tensorboard->nemo_toolkit[all]->-r ../input/install-notebook/requirements.txt (line 2)) (2.20.0)\r\n",
      "Requirement already satisfied: google-auth-oauthlib<1.1,>=0.5 in /opt/conda/lib/python3.10/site-packages (from tensorboard->nemo_toolkit[all]->-r ../input/install-notebook/requirements.txt (line 2)) (1.0.0)\r\n",
      "Requirement already satisfied: markdown>=2.6.8 in /opt/conda/lib/python3.10/site-packages (from tensorboard->nemo_toolkit[all]->-r ../input/install-notebook/requirements.txt (line 2)) (3.4.3)\r\n",
      "Requirement already satisfied: tensorboard-data-server<0.8.0,>=0.7.0 in /opt/conda/lib/python3.10/site-packages (from tensorboard->nemo_toolkit[all]->-r ../input/install-notebook/requirements.txt (line 2)) (0.7.1)\r\n",
      "Requirement already satisfied: werkzeug>=1.0.1 in /opt/conda/lib/python3.10/site-packages (from tensorboard->nemo_toolkit[all]->-r ../input/install-notebook/requirements.txt (line 2)) (2.3.7)\r\n",
      "Requirement already satisfied: wheel>=0.26 in /opt/conda/lib/python3.10/site-packages (from tensorboard->nemo_toolkit[all]->-r ../input/install-notebook/requirements.txt (line 2)) (0.40.0)\r\n",
      "Processing /kaggle/input/install-notebook/plac-1.3.5-py2.py3-none-any.whl (from texterrors->nemo_toolkit[all]->-r ../input/install-notebook/requirements.txt (line 2))\r\n",
      "Processing /kaggle/input/install-notebook/loguru-0.7.0-py3-none-any.whl (from texterrors->nemo_toolkit[all]->-r ../input/install-notebook/requirements.txt (line 2))\r\n",
      "Requirement already satisfied: termcolor in /opt/conda/lib/python3.10/site-packages (from texterrors->nemo_toolkit[all]->-r ../input/install-notebook/requirements.txt (line 2)) (2.3.0)\r\n",
      "Requirement already satisfied: Levenshtein in /opt/conda/lib/python3.10/site-packages (from texterrors->nemo_toolkit[all]->-r ../input/install-notebook/requirements.txt (line 2)) (0.21.1)\r\n",
      "Requirement already satisfied: GitPython!=3.1.29,>=1.0.0 in /opt/conda/lib/python3.10/site-packages (from wandb->nemo_toolkit[all]->-r ../input/install-notebook/requirements.txt (line 2)) (3.1.31)\r\n",
      "Requirement already satisfied: psutil>=5.0.0 in /opt/conda/lib/python3.10/site-packages (from wandb->nemo_toolkit[all]->-r ../input/install-notebook/requirements.txt (line 2)) (5.9.3)\r\n",
      "Requirement already satisfied: sentry-sdk>=1.0.0 in /opt/conda/lib/python3.10/site-packages (from wandb->nemo_toolkit[all]->-r ../input/install-notebook/requirements.txt (line 2)) (1.30.0)\r\n",
      "Requirement already satisfied: docker-pycreds>=0.4.0 in /opt/conda/lib/python3.10/site-packages (from wandb->nemo_toolkit[all]->-r ../input/install-notebook/requirements.txt (line 2)) (0.4.0)\r\n",
      "Requirement already satisfied: pathtools in /opt/conda/lib/python3.10/site-packages (from wandb->nemo_toolkit[all]->-r ../input/install-notebook/requirements.txt (line 2)) (0.1.2)\r\n",
      "Requirement already satisfied: setproctitle in /opt/conda/lib/python3.10/site-packages (from wandb->nemo_toolkit[all]->-r ../input/install-notebook/requirements.txt (line 2)) (1.3.2)\r\n",
      "Requirement already satisfied: urllib3<1.27,>=1.25.4 in /opt/conda/lib/python3.10/site-packages (from botocore<1.32.0,>=1.31.40->boto3->nemo_toolkit[all]->-r ../input/install-notebook/requirements.txt (line 2)) (1.26.15)\r\n",
      "Requirement already satisfied: pycparser in /opt/conda/lib/python3.10/site-packages (from cffi>=1.0->soundfile->nemo_toolkit[all]->-r ../input/install-notebook/requirements.txt (line 2)) (2.21)\r\n",
      "Requirement already satisfied: itsdangerous>=2.1.2 in /opt/conda/lib/python3.10/site-packages (from Flask>=0.8->flask-restful->nemo_toolkit[all]->-r ../input/install-notebook/requirements.txt (line 2)) (2.1.2)\r\n",
      "INFO: pip is looking at multiple versions of flask to determine which version is compatible with other requirements. This could take a while.\r\n",
      "Processing /kaggle/input/install-notebook/Flask-2.2.5-py3-none-any.whl (from flask-restful->nemo_toolkit[all]->-r ../input/install-notebook/requirements.txt (line 2))\r\n",
      "Requirement already satisfied: aiohttp!=4.0.0a0,!=4.0.0a1 in /opt/conda/lib/python3.10/site-packages (from fsspec[http]>2021.06.0->pytorch-lightning<=1.9.4,>=1.9.0->nemo_toolkit[all]->-r ../input/install-notebook/requirements.txt (line 2)) (3.8.4)\r\n",
      "Requirement already satisfied: gitdb<5,>=4.0.1 in /opt/conda/lib/python3.10/site-packages (from GitPython!=3.1.29,>=1.0.0->wandb->nemo_toolkit[all]->-r ../input/install-notebook/requirements.txt (line 2)) (4.0.10)\r\n",
      "Requirement already satisfied: cachetools<6.0,>=2.0.0 in /opt/conda/lib/python3.10/site-packages (from google-auth<3,>=1.6.3->tensorboard->nemo_toolkit[all]->-r ../input/install-notebook/requirements.txt (line 2)) (4.2.4)\r\n",
      "Requirement already satisfied: pyasn1-modules>=0.2.1 in /opt/conda/lib/python3.10/site-packages (from google-auth<3,>=1.6.3->tensorboard->nemo_toolkit[all]->-r ../input/install-notebook/requirements.txt (line 2)) (0.2.7)\r\n",
      "Requirement already satisfied: rsa<5,>=3.1.4 in /opt/conda/lib/python3.10/site-packages (from google-auth<3,>=1.6.3->tensorboard->nemo_toolkit[all]->-r ../input/install-notebook/requirements.txt (line 2)) (4.9)\r\n",
      "Requirement already satisfied: requests-oauthlib>=0.7.0 in /opt/conda/lib/python3.10/site-packages (from google-auth-oauthlib<1.1,>=0.5->tensorboard->nemo_toolkit[all]->-r ../input/install-notebook/requirements.txt (line 2)) (1.3.1)\r\n",
      "Requirement already satisfied: comm>=0.1.1 in /opt/conda/lib/python3.10/site-packages (from ipykernel>=4.5.1->ipywidgets->nemo_toolkit[all]->-r ../input/install-notebook/requirements.txt (line 2)) (0.1.3)\r\n",
      "Requirement already satisfied: debugpy>=1.6.5 in /opt/conda/lib/python3.10/site-packages (from ipykernel>=4.5.1->ipywidgets->nemo_toolkit[all]->-r ../input/install-notebook/requirements.txt (line 2)) (1.6.7)\r\n",
      "Requirement already satisfied: jupyter-client>=6.1.12 in /opt/conda/lib/python3.10/site-packages (from ipykernel>=4.5.1->ipywidgets->nemo_toolkit[all]->-r ../input/install-notebook/requirements.txt (line 2)) (7.4.9)\r\n",
      "Requirement already satisfied: jupyter-core!=5.0.*,>=4.12 in /opt/conda/lib/python3.10/site-packages (from ipykernel>=4.5.1->ipywidgets->nemo_toolkit[all]->-r ../input/install-notebook/requirements.txt (line 2)) (5.3.1)\r\n",
      "Requirement already satisfied: matplotlib-inline>=0.1 in /opt/conda/lib/python3.10/site-packages (from ipykernel>=4.5.1->ipywidgets->nemo_toolkit[all]->-r ../input/install-notebook/requirements.txt (line 2)) (0.1.6)\r\n",
      "Requirement already satisfied: nest-asyncio in /opt/conda/lib/python3.10/site-packages (from ipykernel>=4.5.1->ipywidgets->nemo_toolkit[all]->-r ../input/install-notebook/requirements.txt (line 2)) (1.5.6)\r\n",
      "Requirement already satisfied: pyzmq>=20 in /opt/conda/lib/python3.10/site-packages (from ipykernel>=4.5.1->ipywidgets->nemo_toolkit[all]->-r ../input/install-notebook/requirements.txt (line 2)) (25.1.0)\r\n",
      "Requirement already satisfied: tornado>=6.1 in /opt/conda/lib/python3.10/site-packages (from ipykernel>=4.5.1->ipywidgets->nemo_toolkit[all]->-r ../input/install-notebook/requirements.txt (line 2)) (6.3.2)\r\n",
      "Requirement already satisfied: backcall in /opt/conda/lib/python3.10/site-packages (from ipython>=4.0.0->ipywidgets->nemo_toolkit[all]->-r ../input/install-notebook/requirements.txt (line 2)) (0.2.0)\r\n",
      "Requirement already satisfied: jedi>=0.16 in /opt/conda/lib/python3.10/site-packages (from ipython>=4.0.0->ipywidgets->nemo_toolkit[all]->-r ../input/install-notebook/requirements.txt (line 2)) (0.18.2)\r\n",
      "Requirement already satisfied: pickleshare in /opt/conda/lib/python3.10/site-packages (from ipython>=4.0.0->ipywidgets->nemo_toolkit[all]->-r ../input/install-notebook/requirements.txt (line 2)) (0.7.5)\r\n",
      "Requirement already satisfied: prompt-toolkit!=3.0.37,<3.1.0,>=3.0.30 in /opt/conda/lib/python3.10/site-packages (from ipython>=4.0.0->ipywidgets->nemo_toolkit[all]->-r ../input/install-notebook/requirements.txt (line 2)) (3.0.38)\r\n",
      "Requirement already satisfied: stack-data in /opt/conda/lib/python3.10/site-packages (from ipython>=4.0.0->ipywidgets->nemo_toolkit[all]->-r ../input/install-notebook/requirements.txt (line 2)) (0.6.2)\r\n",
      "Requirement already satisfied: pexpect>4.3 in /opt/conda/lib/python3.10/site-packages (from ipython>=4.0.0->ipywidgets->nemo_toolkit[all]->-r ../input/install-notebook/requirements.txt (line 2)) (4.8.0)\r\n",
      "Requirement already satisfied: MarkupSafe>=2.0 in /opt/conda/lib/python3.10/site-packages (from jinja2->torch->nemo_toolkit[all]->-r ../input/install-notebook/requirements.txt (line 2)) (2.1.3)\r\n",
      "Requirement already satisfied: platformdirs>=2.5.0 in /opt/conda/lib/python3.10/site-packages (from pooch>=1.0->librosa>=0.9.0->nemo_toolkit[all]->-r ../input/install-notebook/requirements.txt (line 2)) (3.10.0)\r\n",
      "Requirement already satisfied: typer[all]>=0.2.1 in /opt/conda/lib/python3.10/site-packages (from pyannote.database>=4.0.1->pyannote.metrics->nemo_toolkit[all]->-r ../input/install-notebook/requirements.txt (line 2)) (0.9.0)\r\n",
      "Processing /kaggle/input/install-notebook/latexcodec-2.0.1-py2.py3-none-any.whl (from pybtex>=0.24->sphinxcontrib-bibtex->nemo_toolkit[all]->-r ../input/install-notebook/requirements.txt (line 2))\r\n",
      "Requirement already satisfied: charset-normalizer<4,>=2 in /opt/conda/lib/python3.10/site-packages (from requests->transformers>=4.0.1->nemo_toolkit[all]->-r ../input/install-notebook/requirements.txt (line 2)) (3.1.0)\r\n",
      "Requirement already satisfied: idna<4,>=2.5 in /opt/conda/lib/python3.10/site-packages (from requests->transformers>=4.0.1->nemo_toolkit[all]->-r ../input/install-notebook/requirements.txt (line 2)) (3.4)\r\n",
      "Requirement already satisfied: certifi>=2017.4.17 in /opt/conda/lib/python3.10/site-packages (from requests->transformers>=4.0.1->nemo_toolkit[all]->-r ../input/install-notebook/requirements.txt (line 2)) (2023.7.22)\r\n",
      "Requirement already satisfied: mpmath>=0.19 in /opt/conda/lib/python3.10/site-packages (from sympy->torch->nemo_toolkit[all]->-r ../input/install-notebook/requirements.txt (line 2)) (1.3.0)\r\n",
      "Requirement already satisfied: notebook>=4.4.1 in /opt/conda/lib/python3.10/site-packages (from widgetsnbextension~=3.6.0->ipywidgets->nemo_toolkit[all]->-r ../input/install-notebook/requirements.txt (line 2)) (6.5.4)\r\n",
      "Requirement already satisfied: soupsieve>1.2 in /opt/conda/lib/python3.10/site-packages (from beautifulsoup4->gdown->nemo_toolkit[all]->-r ../input/install-notebook/requirements.txt (line 2)) (2.3.2.post1)\r\n",
      "Processing /kaggle/input/install-notebook/humanfriendly-10.0-py2.py3-none-any.whl (from coloredlogs->onnxruntime->punctuators->-r ../input/install-notebook/requirements.txt (line 3))\r\n",
      "Requirement already satisfied: PySocks!=1.5.7,>=1.5.6 in /opt/conda/lib/python3.10/site-packages (from requests->transformers>=4.0.1->nemo_toolkit[all]->-r ../input/install-notebook/requirements.txt (line 2)) (1.7.1)\r\n",
      "Requirement already satisfied: multidict<7.0,>=4.5 in /opt/conda/lib/python3.10/site-packages (from aiohttp!=4.0.0a0,!=4.0.0a1->fsspec[http]>2021.06.0->pytorch-lightning<=1.9.4,>=1.9.0->nemo_toolkit[all]->-r ../input/install-notebook/requirements.txt (line 2)) (6.0.4)\r\n",
      "Requirement already satisfied: async-timeout<5.0,>=4.0.0a3 in /opt/conda/lib/python3.10/site-packages (from aiohttp!=4.0.0a0,!=4.0.0a1->fsspec[http]>2021.06.0->pytorch-lightning<=1.9.4,>=1.9.0->nemo_toolkit[all]->-r ../input/install-notebook/requirements.txt (line 2)) (4.0.2)\r\n",
      "Requirement already satisfied: yarl<2.0,>=1.0 in /opt/conda/lib/python3.10/site-packages (from aiohttp!=4.0.0a0,!=4.0.0a1->fsspec[http]>2021.06.0->pytorch-lightning<=1.9.4,>=1.9.0->nemo_toolkit[all]->-r ../input/install-notebook/requirements.txt (line 2)) (1.9.2)\r\n",
      "Requirement already satisfied: frozenlist>=1.1.1 in /opt/conda/lib/python3.10/site-packages (from aiohttp!=4.0.0a0,!=4.0.0a1->fsspec[http]>2021.06.0->pytorch-lightning<=1.9.4,>=1.9.0->nemo_toolkit[all]->-r ../input/install-notebook/requirements.txt (line 2)) (1.3.3)\r\n",
      "Requirement already satisfied: aiosignal>=1.1.2 in /opt/conda/lib/python3.10/site-packages (from aiohttp!=4.0.0a0,!=4.0.0a1->fsspec[http]>2021.06.0->pytorch-lightning<=1.9.4,>=1.9.0->nemo_toolkit[all]->-r ../input/install-notebook/requirements.txt (line 2)) (1.3.1)\r\n",
      "Requirement already satisfied: smmap<6,>=3.0.1 in /opt/conda/lib/python3.10/site-packages (from gitdb<5,>=4.0.1->GitPython!=3.1.29,>=1.0.0->wandb->nemo_toolkit[all]->-r ../input/install-notebook/requirements.txt (line 2)) (5.0.0)\r\n",
      "Requirement already satisfied: parso<0.9.0,>=0.8.0 in /opt/conda/lib/python3.10/site-packages (from jedi>=0.16->ipython>=4.0.0->ipywidgets->nemo_toolkit[all]->-r ../input/install-notebook/requirements.txt (line 2)) (0.8.3)\r\n",
      "Requirement already satisfied: entrypoints in /opt/conda/lib/python3.10/site-packages (from jupyter-client>=6.1.12->ipykernel>=4.5.1->ipywidgets->nemo_toolkit[all]->-r ../input/install-notebook/requirements.txt (line 2)) (0.4)\r\n",
      "Requirement already satisfied: argon2-cffi in /opt/conda/lib/python3.10/site-packages (from notebook>=4.4.1->widgetsnbextension~=3.6.0->ipywidgets->nemo_toolkit[all]->-r ../input/install-notebook/requirements.txt (line 2)) (21.3.0)\r\n",
      "Requirement already satisfied: nbformat in /opt/conda/lib/python3.10/site-packages (from notebook>=4.4.1->widgetsnbextension~=3.6.0->ipywidgets->nemo_toolkit[all]->-r ../input/install-notebook/requirements.txt (line 2)) (5.9.0)\r\n",
      "Requirement already satisfied: nbconvert>=5 in /opt/conda/lib/python3.10/site-packages (from notebook>=4.4.1->widgetsnbextension~=3.6.0->ipywidgets->nemo_toolkit[all]->-r ../input/install-notebook/requirements.txt (line 2)) (6.4.5)\r\n",
      "Requirement already satisfied: Send2Trash>=1.8.0 in /opt/conda/lib/python3.10/site-packages (from notebook>=4.4.1->widgetsnbextension~=3.6.0->ipywidgets->nemo_toolkit[all]->-r ../input/install-notebook/requirements.txt (line 2)) (1.8.2)\r\n",
      "Requirement already satisfied: terminado>=0.8.3 in /opt/conda/lib/python3.10/site-packages (from notebook>=4.4.1->widgetsnbextension~=3.6.0->ipywidgets->nemo_toolkit[all]->-r ../input/install-notebook/requirements.txt (line 2)) (0.17.1)\r\n",
      "Requirement already satisfied: prometheus-client in /opt/conda/lib/python3.10/site-packages (from notebook>=4.4.1->widgetsnbextension~=3.6.0->ipywidgets->nemo_toolkit[all]->-r ../input/install-notebook/requirements.txt (line 2)) (0.17.0)\r\n",
      "Requirement already satisfied: nbclassic>=0.4.7 in /opt/conda/lib/python3.10/site-packages (from notebook>=4.4.1->widgetsnbextension~=3.6.0->ipywidgets->nemo_toolkit[all]->-r ../input/install-notebook/requirements.txt (line 2)) (1.0.0)\r\n",
      "Requirement already satisfied: ptyprocess>=0.5 in /opt/conda/lib/python3.10/site-packages (from pexpect>4.3->ipython>=4.0.0->ipywidgets->nemo_toolkit[all]->-r ../input/install-notebook/requirements.txt (line 2)) (0.7.0)\r\n",
      "Requirement already satisfied: pyasn1<0.5.0,>=0.4.6 in /opt/conda/lib/python3.10/site-packages (from pyasn1-modules>=0.2.1->google-auth<3,>=1.6.3->tensorboard->nemo_toolkit[all]->-r ../input/install-notebook/requirements.txt (line 2)) (0.4.8)\r\n",
      "Requirement already satisfied: oauthlib>=3.0.0 in /opt/conda/lib/python3.10/site-packages (from requests-oauthlib>=0.7.0->google-auth-oauthlib<1.1,>=0.5->tensorboard->nemo_toolkit[all]->-r ../input/install-notebook/requirements.txt (line 2)) (3.2.2)\r\n",
      "Requirement already satisfied: shellingham<2.0.0,>=1.3.0 in /opt/conda/lib/python3.10/site-packages (from typer[all]>=0.2.1->pyannote.database>=4.0.1->pyannote.metrics->nemo_toolkit[all]->-r ../input/install-notebook/requirements.txt (line 2)) (1.5.3)\r\n",
      "Requirement already satisfied: rich<14.0.0,>=10.11.0 in /opt/conda/lib/python3.10/site-packages (from typer[all]>=0.2.1->pyannote.database>=4.0.1->pyannote.metrics->nemo_toolkit[all]->-r ../input/install-notebook/requirements.txt (line 2)) (13.4.2)\r\n",
      "Requirement already satisfied: executing>=1.2.0 in /opt/conda/lib/python3.10/site-packages (from stack-data->ipython>=4.0.0->ipywidgets->nemo_toolkit[all]->-r ../input/install-notebook/requirements.txt (line 2)) (1.2.0)\r\n",
      "Requirement already satisfied: asttokens>=2.1.0 in /opt/conda/lib/python3.10/site-packages (from stack-data->ipython>=4.0.0->ipywidgets->nemo_toolkit[all]->-r ../input/install-notebook/requirements.txt (line 2)) (2.2.1)\r\n",
      "Requirement already satisfied: pure-eval in /opt/conda/lib/python3.10/site-packages (from stack-data->ipython>=4.0.0->ipywidgets->nemo_toolkit[all]->-r ../input/install-notebook/requirements.txt (line 2)) (0.2.2)\r\n",
      "Requirement already satisfied: jupyter-server>=1.8 in /opt/conda/lib/python3.10/site-packages (from nbclassic>=0.4.7->notebook>=4.4.1->widgetsnbextension~=3.6.0->ipywidgets->nemo_toolkit[all]->-r ../input/install-notebook/requirements.txt (line 2)) (2.6.0)\r\n",
      "Requirement already satisfied: notebook-shim>=0.2.3 in /opt/conda/lib/python3.10/site-packages (from nbclassic>=0.4.7->notebook>=4.4.1->widgetsnbextension~=3.6.0->ipywidgets->nemo_toolkit[all]->-r ../input/install-notebook/requirements.txt (line 2)) (0.2.3)\r\n",
      "Requirement already satisfied: mistune<2,>=0.8.1 in /opt/conda/lib/python3.10/site-packages (from nbconvert>=5->notebook>=4.4.1->widgetsnbextension~=3.6.0->ipywidgets->nemo_toolkit[all]->-r ../input/install-notebook/requirements.txt (line 2)) (0.8.4)\r\n",
      "Requirement already satisfied: jupyterlab-pygments in /opt/conda/lib/python3.10/site-packages (from nbconvert>=5->notebook>=4.4.1->widgetsnbextension~=3.6.0->ipywidgets->nemo_toolkit[all]->-r ../input/install-notebook/requirements.txt (line 2)) (0.2.2)\r\n",
      "Requirement already satisfied: bleach in /opt/conda/lib/python3.10/site-packages (from nbconvert>=5->notebook>=4.4.1->widgetsnbextension~=3.6.0->ipywidgets->nemo_toolkit[all]->-r ../input/install-notebook/requirements.txt (line 2)) (6.0.0)\r\n",
      "Requirement already satisfied: pandocfilters>=1.4.1 in /opt/conda/lib/python3.10/site-packages (from nbconvert>=5->notebook>=4.4.1->widgetsnbextension~=3.6.0->ipywidgets->nemo_toolkit[all]->-r ../input/install-notebook/requirements.txt (line 2)) (1.5.0)\r\n",
      "Requirement already satisfied: testpath in /opt/conda/lib/python3.10/site-packages (from nbconvert>=5->notebook>=4.4.1->widgetsnbextension~=3.6.0->ipywidgets->nemo_toolkit[all]->-r ../input/install-notebook/requirements.txt (line 2)) (0.6.0)\r\n",
      "Requirement already satisfied: defusedxml in /opt/conda/lib/python3.10/site-packages (from nbconvert>=5->notebook>=4.4.1->widgetsnbextension~=3.6.0->ipywidgets->nemo_toolkit[all]->-r ../input/install-notebook/requirements.txt (line 2)) (0.7.1)\r\n",
      "Requirement already satisfied: nbclient<0.6.0,>=0.5.0 in /opt/conda/lib/python3.10/site-packages (from nbconvert>=5->notebook>=4.4.1->widgetsnbextension~=3.6.0->ipywidgets->nemo_toolkit[all]->-r ../input/install-notebook/requirements.txt (line 2)) (0.5.13)\r\n",
      "Requirement already satisfied: fastjsonschema in /opt/conda/lib/python3.10/site-packages (from nbformat->notebook>=4.4.1->widgetsnbextension~=3.6.0->ipywidgets->nemo_toolkit[all]->-r ../input/install-notebook/requirements.txt (line 2)) (2.17.1)\r\n",
      "Requirement already satisfied: jsonschema>=2.6 in /opt/conda/lib/python3.10/site-packages (from nbformat->notebook>=4.4.1->widgetsnbextension~=3.6.0->ipywidgets->nemo_toolkit[all]->-r ../input/install-notebook/requirements.txt (line 2)) (4.17.3)\r\n",
      "Requirement already satisfied: markdown-it-py>=2.2.0 in /opt/conda/lib/python3.10/site-packages (from rich<14.0.0,>=10.11.0->typer[all]>=0.2.1->pyannote.database>=4.0.1->pyannote.metrics->nemo_toolkit[all]->-r ../input/install-notebook/requirements.txt (line 2)) (2.2.0)\r\n",
      "Requirement already satisfied: argon2-cffi-bindings in /opt/conda/lib/python3.10/site-packages (from argon2-cffi->notebook>=4.4.1->widgetsnbextension~=3.6.0->ipywidgets->nemo_toolkit[all]->-r ../input/install-notebook/requirements.txt (line 2)) (21.2.0)\r\n",
      "Requirement already satisfied: pyrsistent!=0.17.0,!=0.17.1,!=0.17.2,>=0.14.0 in /opt/conda/lib/python3.10/site-packages (from jsonschema>=2.6->nbformat->notebook>=4.4.1->widgetsnbextension~=3.6.0->ipywidgets->nemo_toolkit[all]->-r ../input/install-notebook/requirements.txt (line 2)) (0.19.3)\r\n",
      "Requirement already satisfied: anyio>=3.1.0 in /opt/conda/lib/python3.10/site-packages (from jupyter-server>=1.8->nbclassic>=0.4.7->notebook>=4.4.1->widgetsnbextension~=3.6.0->ipywidgets->nemo_toolkit[all]->-r ../input/install-notebook/requirements.txt (line 2)) (3.7.0)\r\n",
      "Requirement already satisfied: jupyter-events>=0.6.0 in /opt/conda/lib/python3.10/site-packages (from jupyter-server>=1.8->nbclassic>=0.4.7->notebook>=4.4.1->widgetsnbextension~=3.6.0->ipywidgets->nemo_toolkit[all]->-r ../input/install-notebook/requirements.txt (line 2)) (0.6.3)\r\n",
      "Requirement already satisfied: jupyter-server-terminals in /opt/conda/lib/python3.10/site-packages (from jupyter-server>=1.8->nbclassic>=0.4.7->notebook>=4.4.1->widgetsnbextension~=3.6.0->ipywidgets->nemo_toolkit[all]->-r ../input/install-notebook/requirements.txt (line 2)) (0.4.4)\r\n",
      "Requirement already satisfied: overrides in /opt/conda/lib/python3.10/site-packages (from jupyter-server>=1.8->nbclassic>=0.4.7->notebook>=4.4.1->widgetsnbextension~=3.6.0->ipywidgets->nemo_toolkit[all]->-r ../input/install-notebook/requirements.txt (line 2)) (6.5.0)\r\n",
      "Requirement already satisfied: websocket-client in /opt/conda/lib/python3.10/site-packages (from jupyter-server>=1.8->nbclassic>=0.4.7->notebook>=4.4.1->widgetsnbextension~=3.6.0->ipywidgets->nemo_toolkit[all]->-r ../input/install-notebook/requirements.txt (line 2)) (1.6.0)\r\n",
      "Requirement already satisfied: mdurl~=0.1 in /opt/conda/lib/python3.10/site-packages (from markdown-it-py>=2.2.0->rich<14.0.0,>=10.11.0->typer[all]>=0.2.1->pyannote.database>=4.0.1->pyannote.metrics->nemo_toolkit[all]->-r ../input/install-notebook/requirements.txt (line 2)) (0.1.0)\r\n",
      "Requirement already satisfied: webencodings in /opt/conda/lib/python3.10/site-packages (from bleach->nbconvert>=5->notebook>=4.4.1->widgetsnbextension~=3.6.0->ipywidgets->nemo_toolkit[all]->-r ../input/install-notebook/requirements.txt (line 2)) (0.5.1)\r\n",
      "Requirement already satisfied: sniffio>=1.1 in /opt/conda/lib/python3.10/site-packages (from anyio>=3.1.0->jupyter-server>=1.8->nbclassic>=0.4.7->notebook>=4.4.1->widgetsnbextension~=3.6.0->ipywidgets->nemo_toolkit[all]->-r ../input/install-notebook/requirements.txt (line 2)) (1.3.0)\r\n",
      "Requirement already satisfied: python-json-logger>=2.0.4 in /opt/conda/lib/python3.10/site-packages (from jupyter-events>=0.6.0->jupyter-server>=1.8->nbclassic>=0.4.7->notebook>=4.4.1->widgetsnbextension~=3.6.0->ipywidgets->nemo_toolkit[all]->-r ../input/install-notebook/requirements.txt (line 2)) (2.0.7)\r\n",
      "Requirement already satisfied: rfc3339-validator in /opt/conda/lib/python3.10/site-packages (from jupyter-events>=0.6.0->jupyter-server>=1.8->nbclassic>=0.4.7->notebook>=4.4.1->widgetsnbextension~=3.6.0->ipywidgets->nemo_toolkit[all]->-r ../input/install-notebook/requirements.txt (line 2)) (0.1.4)\r\n",
      "Requirement already satisfied: rfc3986-validator>=0.1.1 in /opt/conda/lib/python3.10/site-packages (from jupyter-events>=0.6.0->jupyter-server>=1.8->nbclassic>=0.4.7->notebook>=4.4.1->widgetsnbextension~=3.6.0->ipywidgets->nemo_toolkit[all]->-r ../input/install-notebook/requirements.txt (line 2)) (0.1.1)\r\n",
      "Requirement already satisfied: fqdn in /opt/conda/lib/python3.10/site-packages (from jsonschema>=2.6->nbformat->notebook>=4.4.1->widgetsnbextension~=3.6.0->ipywidgets->nemo_toolkit[all]->-r ../input/install-notebook/requirements.txt (line 2)) (1.5.1)\r\n",
      "Requirement already satisfied: isoduration in /opt/conda/lib/python3.10/site-packages (from jsonschema>=2.6->nbformat->notebook>=4.4.1->widgetsnbextension~=3.6.0->ipywidgets->nemo_toolkit[all]->-r ../input/install-notebook/requirements.txt (line 2)) (20.11.0)\r\n",
      "Requirement already satisfied: jsonpointer>1.13 in /opt/conda/lib/python3.10/site-packages (from jsonschema>=2.6->nbformat->notebook>=4.4.1->widgetsnbextension~=3.6.0->ipywidgets->nemo_toolkit[all]->-r ../input/install-notebook/requirements.txt (line 2)) (2.0)\r\n",
      "Requirement already satisfied: uri-template in /opt/conda/lib/python3.10/site-packages (from jsonschema>=2.6->nbformat->notebook>=4.4.1->widgetsnbextension~=3.6.0->ipywidgets->nemo_toolkit[all]->-r ../input/install-notebook/requirements.txt (line 2)) (1.3.0)\r\n",
      "Requirement already satisfied: webcolors>=1.11 in /opt/conda/lib/python3.10/site-packages (from jsonschema>=2.6->nbformat->notebook>=4.4.1->widgetsnbextension~=3.6.0->ipywidgets->nemo_toolkit[all]->-r ../input/install-notebook/requirements.txt (line 2)) (1.13)\r\n",
      "Requirement already satisfied: arrow>=0.15.0 in /opt/conda/lib/python3.10/site-packages (from isoduration->jsonschema>=2.6->nbformat->notebook>=4.4.1->widgetsnbextension~=3.6.0->ipywidgets->nemo_toolkit[all]->-r ../input/install-notebook/requirements.txt (line 2)) (1.2.3)\r\n",
      "Building wheels for collected packages: antlr4-python3-runtime, progress, sacremoses, youtokentome, kaldi-python-io, rouge-score, sentence-transformers, wget, distance, ipadic, cdifflib\r\n",
      "  Building wheel for antlr4-python3-runtime (setup.py) ... \u001b[?25l-\b \bdone\r\n",
      "\u001b[?25h  Created wheel for antlr4-python3-runtime: filename=antlr4_python3_runtime-4.9.3-py3-none-any.whl size=144554 sha256=9989a8639ac0d356ebd008b4433819b4e599c846b97eda0fff3746a0b9b44a12\r\n",
      "  Stored in directory: /root/.cache/pip/wheels/30/ea/dc/0ba5a73abe93e26133760599aeee28fe3e67fe006c684f247b\r\n",
      "  Building wheel for progress (setup.py) ... \u001b[?25l-\b \bdone\r\n",
      "\u001b[?25h  Created wheel for progress: filename=progress-1.6-py3-none-any.whl size=9611 sha256=584185b973856ef62d6ee8fb4e5999ac8f5e87d1f75720f8803b9d7912119cdc\r\n",
      "  Stored in directory: /root/.cache/pip/wheels/0a/a3/63/7cf204086432d24af294bef71d06f05f3cc25f7eece211b3b3\r\n",
      "  Building wheel for sacremoses (setup.py) ... \u001b[?25l-\b \bdone\r\n",
      "\u001b[?25h  Created wheel for sacremoses: filename=sacremoses-0.0.53-py3-none-any.whl size=895241 sha256=ed81d1649d53af4d67b8ba476376e1ef722c8ccadc1c8e624ceedb9b2df1cc77\r\n",
      "  Stored in directory: /root/.cache/pip/wheels/29/88/ff/65fac211cc8612940ae29b9511f46253fc4d00b8ae9fe62c6c\r\n",
      "  Building wheel for youtokentome (setup.py) ... \u001b[?25l-\b \bdone\r\n",
      "\u001b[?25h  Created wheel for youtokentome: filename=youtokentome-1.0.6-cp310-cp310-linux_x86_64.whl size=180567 sha256=9175516657e9f6df3c36d7af85a3b85ddb587f8cf1246a158c2d0493b339c577\r\n",
      "  Stored in directory: /root/.cache/pip/wheels/e5/4d/4f/8cfb9e1d407ddf24a5648f7db2788a63913fa9533ccb67d67c\r\n",
      "  Building wheel for kaldi-python-io (setup.py) ... \u001b[?25l-\b \bdone\r\n",
      "\u001b[?25h  Created wheel for kaldi-python-io: filename=kaldi_python_io-1.2.2-py3-none-any.whl size=8951 sha256=8b041a424b150dadd023a9e20fad08127d559f1e3b0a798fd6c59286f5a32404\r\n",
      "  Stored in directory: /root/.cache/pip/wheels/d4/4b/14/6d484a724503be64f3277e1bb382a8bba07134391939d7f3d2\r\n",
      "  Building wheel for rouge-score (setup.py) ... \u001b[?25l-\b \bdone\r\n",
      "\u001b[?25h  Created wheel for rouge-score: filename=rouge_score-0.1.2-py3-none-any.whl size=24934 sha256=907e1b51501f3ada01795dc3d09ec8b3e204b111f7ff5ecb43ec266e0a5a67b7\r\n",
      "  Stored in directory: /root/.cache/pip/wheels/73/04/60/44e32811c51fd397be1ccfe0429870d9e9b3694981252a65ae\r\n",
      "  Building wheel for sentence-transformers (setup.py) ... \u001b[?25l-\b \b\\\b \bdone\r\n",
      "\u001b[?25h  Created wheel for sentence-transformers: filename=sentence_transformers-2.2.2-py3-none-any.whl size=125926 sha256=ca63a1bef6ac34c84c84aaaba708e7dce7e7af6eed530e1cdd7a64fa197d3e40\r\n",
      "  Stored in directory: /root/.cache/pip/wheels/4b/da/92/52b34961be054b5c4caebacf8706151b2a15ff81e2f893f037\r\n",
      "  Building wheel for wget (setup.py) ... \u001b[?25l-\b \bdone\r\n",
      "\u001b[?25h  Created wheel for wget: filename=wget-3.2-py3-none-any.whl size=9657 sha256=d4e57d4ae45ed8abbe2cf1731a88896e3682d1b9931859748fe08bac8613f15a\r\n",
      "  Stored in directory: /root/.cache/pip/wheels/de/e6/d5/7d7549a41d5de357a1dacab2ced284b2a38531b57eebc1c3b9\r\n",
      "  Building wheel for distance (setup.py) ... \u001b[?25l-\b \b\\\b \bdone\r\n",
      "\u001b[?25h  Created wheel for distance: filename=Distance-0.1.3-py3-none-any.whl size=16258 sha256=0a2caa81269280550e48f31fb1f984747d4a5f42b88343fefe9a4895d93f953c\r\n",
      "  Stored in directory: /root/.cache/pip/wheels/24/bd/d8/6fdd85c3dee3dce39e64019168f814c225761e59e28f415bbd\r\n",
      "  Building wheel for ipadic (setup.py) ... \u001b[?25l-\b \bdone\r\n",
      "\u001b[?25h  Created wheel for ipadic: filename=ipadic-1.0.0-py3-none-any.whl size=13556703 sha256=499619b9928943997c7e68668bbcb1624a22bb70a8d958c7c09bb7a1981549e8\r\n",
      "  Stored in directory: /root/.cache/pip/wheels/73/9b/bb/b5591f4d328af38a1dbf7580d31e5a8c35f0068118dd31e662\r\n",
      "  Building wheel for cdifflib (pyproject.toml) ... \u001b[?25l-\b \b\\\b \b|\b \bdone\r\n",
      "\u001b[?25h  Created wheel for cdifflib: filename=cdifflib-1.2.6-cp310-cp310-linux_x86_64.whl size=12401 sha256=718f8e7a7aceacea6c4b477ccfc743f43204490cbce680fbcdda653fbf3a433e\r\n",
      "  Stored in directory: /root/.cache/pip/wheels/04/f6/64/962a4e03490cea51e2846955f7b5339d1ee2eec547c0582d8f\r\n",
      "Successfully built antlr4-python3-runtime progress sacremoses youtokentome kaldi-python-io rouge-score sentence-transformers wget distance ipadic cdifflib\r\n",
      "Installing collected packages: wget, progress, plac, pangu, opencc, morfessor, mecab-python3, ipadic, ijson, faiss-cpu, distance, braceexpand, antlr4-python3-runtime, aniso8601, webdataset, typed-ast, textdistance, sphinxcontrib-jsmath, sox, setuptools, rapidfuzz, pytest-runner, pypinyin, pynini, portalocker, pathspec, parameterized, omegaconf, markdown2, loguru, latexcodec, kaldiio, kaldi-python-io, imagesize, humanfriendly, ftfy, einops, editdistance, click, cdifflib, attrdict, alabaster, youtokentome, sacremoses, sacrebleu, pypinyin-dict, pybtex, pyannote.core, nltk, jiwer, inflect, hydra-core, Flask, coloredlogs, botocore, black, texterrors, rouge-score, pybtex-docutils, onnxruntime, megatron-core, gdown, g2p-en, flask-restful, sentence-transformers, pytorch-lightning, pyannote.database, punctuators, nemo-text-processing, boto3, pyannote.metrics, nemo_toolkit, sphinxcontrib-serializinghtml, sphinxcontrib-qthelp, sphinxcontrib-htmlhelp, sphinxcontrib-devhelp, sphinxcontrib-applehelp, sphinx, sphinxcontrib-bibtex, sphinx-argparse, indic-nlp-library\r\n",
      "  Attempting uninstall: setuptools\r\n",
      "    Found existing installation: setuptools 68.0.0\r\n",
      "    Uninstalling setuptools-68.0.0:\r\n",
      "      Successfully uninstalled setuptools-68.0.0\r\n",
      "  Attempting uninstall: rapidfuzz\r\n",
      "    Found existing installation: rapidfuzz 3.2.0\r\n",
      "    Uninstalling rapidfuzz-3.2.0:\r\n",
      "      Successfully uninstalled rapidfuzz-3.2.0\r\n",
      "  Attempting uninstall: click\r\n",
      "    Found existing installation: click 8.1.7\r\n",
      "    Uninstalling click-8.1.7:\r\n",
      "      Successfully uninstalled click-8.1.7\r\n",
      "  Attempting uninstall: nltk\r\n",
      "    Found existing installation: nltk 3.2.4\r\n",
      "    Uninstalling nltk-3.2.4:\r\n",
      "      Successfully uninstalled nltk-3.2.4\r\n",
      "  Attempting uninstall: Flask\r\n",
      "    Found existing installation: Flask 2.3.3\r\n",
      "    Uninstalling Flask-2.3.3:\r\n",
      "      Successfully uninstalled Flask-2.3.3\r\n",
      "  Attempting uninstall: botocore\r\n",
      "    Found existing installation: botocore 1.31.17\r\n",
      "    Uninstalling botocore-1.31.17:\r\n",
      "      Successfully uninstalled botocore-1.31.17\r\n",
      "  Attempting uninstall: pytorch-lightning\r\n",
      "    Found existing installation: pytorch-lightning 2.0.8\r\n",
      "    Uninstalling pytorch-lightning-2.0.8:\r\n",
      "      Successfully uninstalled pytorch-lightning-2.0.8\r\n",
      "  Attempting uninstall: boto3\r\n",
      "    Found existing installation: boto3 1.26.100\r\n",
      "    Uninstalling boto3-1.26.100:\r\n",
      "      Successfully uninstalled boto3-1.26.100\r\n",
      "\u001b[31mERROR: pip's dependency resolver does not currently take into account all the packages that are installed. This behaviour is the source of the following dependency conflicts.\r\n",
      "dask-cudf 23.8.0 requires cupy-cuda11x>=12.0.0, which is not installed.\r\n",
      "aiobotocore 2.5.4 requires botocore<1.31.18,>=1.31.17, but you have botocore 1.31.40 which is incompatible.\r\n",
      "dask-cuda 23.8.0 requires dask==2023.7.1, but you have dask 2023.9.0 which is incompatible.\r\n",
      "dask-cuda 23.8.0 requires pandas<1.6.0dev0,>=1.3, but you have pandas 2.0.2 which is incompatible.\r\n",
      "dask-cudf 23.8.0 requires dask==2023.7.1, but you have dask 2023.9.0 which is incompatible.\r\n",
      "dask-cudf 23.8.0 requires pandas<1.6.0dev0,>=1.3, but you have pandas 2.0.2 which is incompatible.\r\n",
      "distributed 2023.7.1 requires dask==2023.7.1, but you have dask 2023.9.0 which is incompatible.\r\n",
      "fitter 1.6.0 requires click<9.0.0,>=8.1.6, but you have click 8.0.2 which is incompatible.\r\n",
      "fitter 1.6.0 requires pandas<3.0.0,>=2.0.3, but you have pandas 2.0.2 which is incompatible.\r\n",
      "kfp 2.0.1 requires google-cloud-storage<3,>=2.2.1, but you have google-cloud-storage 1.44.0 which is incompatible.\r\n",
      "momepy 0.6.0 requires shapely>=2, but you have shapely 1.8.5.post1 which is incompatible.\r\n",
      "opentelemetry-api 1.18.0 requires importlib-metadata~=6.0.0, but you have importlib-metadata 6.7.0 which is incompatible.\r\n",
      "preprocessing 0.1.13 requires nltk==3.2.4, but you have nltk 3.8.1 which is incompatible.\r\n",
      "pymc3 3.11.5 requires numpy<1.22.2,>=1.15.0, but you have numpy 1.23.5 which is incompatible.\r\n",
      "pymc3 3.11.5 requires scipy<1.8.0,>=1.7.3, but you have scipy 1.11.2 which is incompatible.\r\n",
      "raft-dask 23.8.0 requires dask==2023.7.1, but you have dask 2023.9.0 which is incompatible.\u001b[0m\u001b[31m\r\n",
      "\u001b[0mSuccessfully installed Flask-2.2.5 alabaster-0.7.13 aniso8601-9.0.1 antlr4-python3-runtime-4.9.3 attrdict-2.0.1 black-19.10b0 boto3-1.28.40 botocore-1.31.40 braceexpand-0.1.7 cdifflib-1.2.6 click-8.0.2 coloredlogs-15.0.1 distance-0.1.3 editdistance-0.6.2 einops-0.6.1 faiss-cpu-1.7.4 flask-restful-0.3.10 ftfy-6.1.1 g2p-en-2.1.0 gdown-4.7.1 humanfriendly-10.0 hydra-core-1.2.0 ijson-3.2.3 imagesize-1.4.1 indic-nlp-library-0.92 inflect-7.0.0 ipadic-1.0.0 jiwer-2.5.2 kaldi-python-io-1.2.2 kaldiio-2.18.0 latexcodec-2.0.1 loguru-0.7.0 markdown2-2.4.10 mecab-python3-1.0.5 megatron-core-0.2.0 morfessor-2.0.6 nemo-text-processing-0.2.0rc0 nemo_toolkit-1.20.0 nltk-3.8.1 omegaconf-2.2.3 onnxruntime-1.15.1 opencc-1.1.6 pangu-4.0.6.1 parameterized-0.9.0 pathspec-0.11.2 plac-1.3.5 portalocker-2.7.0 progress-1.6 punctuators-0.0.5 pyannote.core-5.0.0 pyannote.database-5.0.1 pyannote.metrics-3.2.1 pybtex-0.24.0 pybtex-docutils-1.0.3 pynini-2.1.5 pypinyin-0.49.0 pypinyin-dict-0.6.0 pytest-runner-6.0.0 pytorch-lightning-1.9.4 rapidfuzz-2.13.7 rouge-score-0.1.2 sacrebleu-2.3.1 sacremoses-0.0.53 sentence-transformers-2.2.2 setuptools-65.5.1 sox-1.4.1 sphinx-7.2.5 sphinx-argparse-0.4.0 sphinxcontrib-applehelp-1.0.7 sphinxcontrib-bibtex-2.5.0 sphinxcontrib-devhelp-1.0.5 sphinxcontrib-htmlhelp-2.0.4 sphinxcontrib-jsmath-1.0.1 sphinxcontrib-qthelp-1.0.6 sphinxcontrib-serializinghtml-1.1.9 textdistance-4.5.0 texterrors-0.4.4 typed-ast-1.5.5 webdataset-0.1.62 wget-3.2 youtokentome-1.0.6\r\n",
      "\u001b[33mWARNING: Requirement '/kaggle/input/transformers/transformers-4.33.1-py3-none-any.whl' looks like a filename, but the file does not exist\u001b[0m\u001b[33m\r\n",
      "\u001b[0mProcessing /kaggle/input/transformers/transformers-4.33.1-py3-none-any.whl\r\n",
      "\u001b[31mERROR: Could not install packages due to an OSError: [Errno 2] No such file or directory: '/kaggle/input/transformers/transformers-4.33.1-py3-none-any.whl'\r\n",
      "\u001b[0m\u001b[31m\r\n",
      "\u001b[0m"
     ]
    }
   ],
   "source": [
    "!cp -r ../input/python-packages2 ./\n",
    "!tar xvfz ./python-packages2/jiwer.tgz\n",
    "!pip install ./jiwer/jiwer-2.3.0-py3-none-any.whl -f ./ --no-index\n",
    "!tar xvfz ./python-packages2/normalizer.tgz\n",
    "!pip install ./normalizer/bnunicodenormalizer-0.0.24.tar.gz -f ./ --no-index\n",
    "!tar xvfz ./python-packages2/pyctcdecode.tgz\n",
    "!pip install ./pyctcdecode/attrs-22.1.0-py2.py3-none-any.whl -f ./ --no-index --no-deps\n",
    "!pip install ./pyctcdecode/exceptiongroup-1.0.0rc9-py3-none-any.whl -f ./ --no-index --no-deps\n",
    "!pip install ./pyctcdecode/hypothesis-6.54.4-py3-none-any.whl -f ./ --no-index --no-deps\n",
    "!pip install ./pyctcdecode/numpy-1.21.6-cp37-cp37m-manylinux_2_12_x86_64.manylinux2010_x86_64.whl -f ./ --no-index --no-deps\n",
    "!pip install ./pyctcdecode/pygtrie-2.5.0.tar.gz -f ./ --no-index --no-deps\n",
    "!pip install ./pyctcdecode/sortedcontainers-2.4.0-py2.py3-none-any.whl -f ./ --no-index --no-deps\n",
    "!pip install ./pyctcdecode/pyctcdecode-0.4.0-py2.py3-none-any.whl -f ./ --no-index --no-deps\n",
    "\n",
    "!tar xvfz ./python-packages2/pypikenlm.tgz\n",
    "!pip install ./pypikenlm/pypi-kenlm-0.1.20220713.tar.gz -f ./ --no-index --no-deps\n",
    "\n",
    "! python -m pip install --no-index --find-links=../input/install-notebook -r ../input/install-notebook/requirements.txt\n",
    "\n",
    "!pip install /kaggle/input/transformers/transformers-4.33.1-py3-none-any.whl"
   ]
  },
  {
   "cell_type": "code",
   "execution_count": 2,
   "id": "df37b9c2",
   "metadata": {
    "execution": {
     "iopub.execute_input": "2023-10-21T09:35:54.418857Z",
     "iopub.status.busy": "2023-10-21T09:35:54.418535Z",
     "iopub.status.idle": "2023-10-21T09:36:09.469271Z",
     "shell.execute_reply": "2023-10-21T09:36:09.468193Z"
    },
    "papermill": {
     "duration": 15.084309,
     "end_time": "2023-10-21T09:36:09.471615",
     "exception": false,
     "start_time": "2023-10-21T09:35:54.387306",
     "status": "completed"
    },
    "tags": []
   },
   "outputs": [
    {
     "name": "stderr",
     "output_type": "stream",
     "text": [
      "/opt/conda/lib/python3.10/site-packages/scipy/__init__.py:146: UserWarning: A NumPy version >=1.16.5 and <1.23.0 is required for this version of SciPy (detected version 1.23.5\n",
      "  warnings.warn(f\"A NumPy version >={np_minversion} and <{np_maxversion}\"\n"
     ]
    }
   ],
   "source": [
    "#Main libraries & misc\n",
    "import resource\n",
    "import os\n",
    "import random\n",
    "import re\n",
    "import argparse\n",
    "import gc\n",
    "import pickle\n",
    "from tqdm import tqdm\n",
    "\n",
    "#Numeric\n",
    "import pandas as pd\n",
    "import numpy as np\n",
    "\n",
    "#Challenge specific\n",
    "from bnunicodenormalizer import Normalizer\n",
    "import librosa\n",
    "import pyctcdecode\n",
    "from pyctcdecode import BeamSearchDecoderCTC\n",
    "\n",
    "#Deep Learning\n",
    "import torch\n",
    "import torch.nn as nn\n",
    "import pytorch_lightning\n",
    "from transformers import pipeline\n",
    "from transformers import Wav2Vec2CTCTokenizer, Wav2Vec2FeatureExtractor, Wav2Vec2Processor, Wav2Vec2Model, Wav2Vec2Config, Wav2Vec2ForCTC\n",
    "from transformers import XLMRobertaModel, XLMRobertaTokenizer\n",
    "from torch.nn import TransformerEncoder, TransformerEncoderLayer\n",
    "\n",
    "random.seed(42)"
   ]
  },
  {
   "cell_type": "markdown",
   "id": "a88de656",
   "metadata": {
    "papermill": {
     "duration": 0.030221,
     "end_time": "2023-10-21T09:36:09.533841",
     "exception": false,
     "start_time": "2023-10-21T09:36:09.503620",
     "status": "completed"
    },
    "tags": []
   },
   "source": [
    "# Config"
   ]
  },
  {
   "cell_type": "code",
   "execution_count": 3,
   "id": "59c79220",
   "metadata": {
    "execution": {
     "iopub.execute_input": "2023-10-21T09:36:09.596953Z",
     "iopub.status.busy": "2023-10-21T09:36:09.596267Z",
     "iopub.status.idle": "2023-10-21T09:36:09.602077Z",
     "shell.execute_reply": "2023-10-21T09:36:09.601181Z"
    },
    "papermill": {
     "duration": 0.039134,
     "end_time": "2023-10-21T09:36:09.603940",
     "exception": false,
     "start_time": "2023-10-21T09:36:09.564806",
     "status": "completed"
    },
    "tags": []
   },
   "outputs": [],
   "source": [
    "#Competition config\n",
    "class CCFG:\n",
    "    #Data\n",
    "    train_data = \"/kaggle/input/bengaliai-speech/train_mp3s\"\n",
    "    test_data = \"/kaggle/input/bengaliai-speech/test_mp3s\"\n",
    "    \n",
    "    #Punctuation model\n",
    "    punc_base = \"/kaggle/input/xlm-roberta-large/xlm-roberta-large\"\n",
    "    punc_tokenizer = \"/kaggle/input/xlm-roberta-large/xlm-roberta-large\"\n",
    "    punc_weights = \"/kaggle/input/punct-correct-roberta-bn/xlm-roberta-large-bn.pt\"\n",
    "    \n",
    "    #ASR processor & models\n",
    "    processor = \"/kaggle/input/v20-processor/best_v20_processor\"\n",
    "    small_model = \"/kaggle/input/v35-210ksteps\"\n",
    "    large_model = \"/kaggle/input/v32-130k\"\n",
    "    ensemble_model = \"/kaggle/input/ensemble-v1/pytorch_model.bin\"\n",
    "    \n",
    "    #Decoder\n",
    "    decoder = \"/kaggle/input/llm-pruned-00011/new_model_bin_mixed\"\n",
    "    \n",
    "    #Neural rescoring [not used in the final submission due memory restrictions]\n",
    "    neural_rescoring = \"/kaggle/input/neural-rescoring\""
   ]
  },
  {
   "cell_type": "code",
   "execution_count": 4,
   "id": "bcce701c",
   "metadata": {
    "execution": {
     "iopub.execute_input": "2023-10-21T09:36:09.666039Z",
     "iopub.status.busy": "2023-10-21T09:36:09.665759Z",
     "iopub.status.idle": "2023-10-21T09:36:09.670075Z",
     "shell.execute_reply": "2023-10-21T09:36:09.669196Z"
    },
    "papermill": {
     "duration": 0.037614,
     "end_time": "2023-10-21T09:36:09.671999",
     "exception": false,
     "start_time": "2023-10-21T09:36:09.634385",
     "status": "completed"
    },
    "tags": []
   },
   "outputs": [],
   "source": [
    "device = torch.device('cuda:0')"
   ]
  },
  {
   "cell_type": "markdown",
   "id": "2f3b1c09",
   "metadata": {
    "papermill": {
     "duration": 0.030453,
     "end_time": "2023-10-21T09:36:09.733624",
     "exception": false,
     "start_time": "2023-10-21T09:36:09.703171",
     "status": "completed"
    },
    "tags": []
   },
   "source": [
    "# Functions and params"
   ]
  },
  {
   "cell_type": "code",
   "execution_count": 5,
   "id": "89f6555e",
   "metadata": {
    "execution": {
     "iopub.execute_input": "2023-10-21T09:36:09.841283Z",
     "iopub.status.busy": "2023-10-21T09:36:09.840934Z",
     "iopub.status.idle": "2023-10-21T09:36:09.846818Z",
     "shell.execute_reply": "2023-10-21T09:36:09.845867Z"
    },
    "papermill": {
     "duration": 0.039182,
     "end_time": "2023-10-21T09:36:09.848703",
     "exception": false,
     "start_time": "2023-10-21T09:36:09.809521",
     "status": "completed"
    },
    "tags": []
   },
   "outputs": [],
   "source": [
    "bnorm = Normalizer()\n",
    "\n",
    "def normalize(sen):\n",
    "    \"\"\"\n",
    "    Normalize a sentence by applying the 'bnorm' Normalizer to each word in the sentence.\n",
    "\n",
    "    Args:\n",
    "        sen (str): The input sentence to be normalized.\n",
    "\n",
    "    Returns:\n",
    "        str: The normalized sentence where each word has been normalized using 'bnorm'.\n",
    "    \"\"\"\n",
    "    _words = [bnorm(word)['normalized'] for word in sen.split()]\n",
    "    return \" \".join([word for word in _words if word is not None])"
   ]
  },
  {
   "cell_type": "code",
   "execution_count": 6,
   "id": "964dfb8e",
   "metadata": {
    "execution": {
     "iopub.execute_input": "2023-10-21T09:36:09.911182Z",
     "iopub.status.busy": "2023-10-21T09:36:09.910836Z",
     "iopub.status.idle": "2023-10-21T09:36:09.939047Z",
     "shell.execute_reply": "2023-10-21T09:36:09.938272Z"
    },
    "papermill": {
     "duration": 0.061842,
     "end_time": "2023-10-21T09:36:09.940915",
     "exception": false,
     "start_time": "2023-10-21T09:36:09.879073",
     "status": "completed"
    },
    "tags": []
   },
   "outputs": [],
   "source": [
    "TOKEN_IDX = {\n",
    "    'bert': {\n",
    "        'START_SEQ': 101,\n",
    "        'PAD': 0,\n",
    "        'END_SEQ': 102,\n",
    "        'UNK': 100\n",
    "    },\n",
    "    'xlm': {\n",
    "        'START_SEQ': 0,\n",
    "        'PAD': 2,\n",
    "        'END_SEQ': 1,\n",
    "        'UNK': 3\n",
    "    },\n",
    "    'roberta': {\n",
    "        'START_SEQ': 0,\n",
    "        'PAD': 1,\n",
    "        'END_SEQ': 2,\n",
    "        'UNK': 3\n",
    "    },\n",
    "    'albert': {\n",
    "        'START_SEQ': 2,\n",
    "        'PAD': 0,\n",
    "        'END_SEQ': 3,\n",
    "        'UNK': 1\n",
    "    },\n",
    "}\n",
    "\n",
    "punctuation_dict = {'O': 0, 'COMMA': 1, 'PERIOD': 2, 'QUESTION': 3}\n",
    "\n",
    "MODELS = {\n",
    "    'xlm-roberta-base': (XLMRobertaModel, XLMRobertaTokenizer, 768, 'roberta'),\n",
    "    'xlm-roberta-large': (XLMRobertaModel, XLMRobertaTokenizer, 1024, 'roberta')\n",
    "}\n",
    "\n",
    "class DeepPunctuation(nn.Module):\n",
    "    \"\"\"\n",
    "    Initialize a Bengali specific punctuation model.\n",
    "\n",
    "    Args:\n",
    "        pretrained_model (str): The name of the pretrained model to use.\n",
    "        freeze_bert (bool): Whether to freeze the parameters of the BERT layer.\n",
    "        lstm_dim (int): The dimension of the LSTM hidden state. Set to -1 to use the BERT dimension.\n",
    "\n",
    "    \"\"\"\n",
    "    def __init__(self, pretrained_model, freeze_bert=False, lstm_dim=-1):\n",
    "        super(DeepPunctuation, self).__init__()\n",
    "        self.output_dim = len(punctuation_dict)\n",
    "        self.bert_layer = MODELS[pretrained_model][0].from_pretrained(CCFG.punc_base)\n",
    "        if freeze_bert:\n",
    "            for p in self.bert_layer.parameters():\n",
    "                p.requires_grad = False\n",
    "        bert_dim = MODELS[pretrained_model][2]\n",
    "        if lstm_dim == -1:\n",
    "            hidden_size = bert_dim\n",
    "        else:\n",
    "            hidden_size = lstm_dim\n",
    "        self.lstm = nn.LSTM(input_size=bert_dim, hidden_size=hidden_size, num_layers=1, bidirectional=True)\n",
    "        self.linear = nn.Linear(in_features=hidden_size*2, out_features=len(punctuation_dict))\n",
    "\n",
    "    def forward(self, x, attn_masks):\n",
    "        if len(x.shape) == 1:\n",
    "            x = x.view(1, x.shape[0])\n",
    "        x = self.bert_layer(x, attention_mask=attn_masks)[0]\n",
    "        x = torch.transpose(x, 0, 1)\n",
    "        x, (_, _) = self.lstm(x)\n",
    "        x = torch.transpose(x, 0, 1)\n",
    "        x = self.linear(x)\n",
    "        return x\n",
    "\n",
    "def inference_punc(text):\n",
    "\n",
    "    text = re.sub(r\"[,:\\-–.!;?]\", '', text)\n",
    "    words_original_case = text.split()\n",
    "    words = text.lower().split()\n",
    "\n",
    "    word_pos = 0\n",
    "    sequence_len = 256\n",
    "    result = \"\"\n",
    "    decode_idx = 0\n",
    "    punctuation_map = {0: '', 1: ',', 2: '.', 3: '?'}\n",
    "    punctuation_map[2] = '।'\n",
    "\n",
    "\n",
    "    while word_pos < len(words):\n",
    "        x = [TOKEN_IDX[token_style]['START_SEQ']]\n",
    "        y_mask = [0]\n",
    "\n",
    "        while len(x) < sequence_len and word_pos < len(words):\n",
    "            tokens = tokenizer.tokenize(words[word_pos])\n",
    "            if len(tokens) + len(x) >= sequence_len:\n",
    "                break\n",
    "            else:\n",
    "                for i in range(len(tokens) - 1):\n",
    "                    x.append(tokenizer.convert_tokens_to_ids(tokens[i]))\n",
    "                    y_mask.append(0)\n",
    "                x.append(tokenizer.convert_tokens_to_ids(tokens[-1]))\n",
    "                y_mask.append(1)\n",
    "                word_pos += 1\n",
    "        x.append(TOKEN_IDX[token_style]['END_SEQ'])\n",
    "        y_mask.append(0)\n",
    "        if len(x) < sequence_len:\n",
    "            x = x + [TOKEN_IDX[token_style]['PAD'] for _ in range(sequence_len - len(x))]\n",
    "            y_mask = y_mask + [0 for _ in range(sequence_len - len(y_mask))]\n",
    "        attn_mask = [1 if token != TOKEN_IDX[token_style]['PAD'] else 0 for token in x]\n",
    "\n",
    "        x = torch.tensor(x).reshape(1,-1)\n",
    "        y_mask = torch.tensor(y_mask)\n",
    "        attn_mask = torch.tensor(attn_mask).reshape(1,-1)\n",
    "        x, attn_mask, y_mask = x.to(device), attn_mask.to(device), y_mask.to(device)\n",
    "\n",
    "        with torch.no_grad():\n",
    "        \n",
    "            y_predict = deep_punctuation(x, attn_mask)\n",
    "\n",
    "            #Identify the last word and cut the logits (so just the logits for | and ? are taken into account)\n",
    "            #We will force the model to output | or ? as last sign\n",
    "            last_id = torch.where(y_mask != 0)[0][-1].item()\n",
    "            last_sign = torch.argmax(y_predict[0][last_id][2:4]).item() + 2 \n",
    "\n",
    "            y_predict = y_predict.view(-1, y_predict.shape[2])\n",
    "            y_predict = torch.argmax(y_predict, dim=1).view(-1)\n",
    "                \n",
    "        for i in range(y_mask.shape[0]):\n",
    "            if y_mask[i] == 1:\n",
    "                if i == last_id:\n",
    "                    result += words_original_case[decode_idx] + punctuation_map[last_sign] + ' '\n",
    "                else:\n",
    "                    result += words_original_case[decode_idx] + punctuation_map[y_predict[i].item()] + ' '\n",
    "                decode_idx += 1\n",
    "\n",
    "    return result"
   ]
  },
  {
   "cell_type": "code",
   "execution_count": 7,
   "id": "f1b76c0d",
   "metadata": {
    "execution": {
     "iopub.execute_input": "2023-10-21T09:36:10.002724Z",
     "iopub.status.busy": "2023-10-21T09:36:10.002434Z",
     "iopub.status.idle": "2023-10-21T09:36:10.008193Z",
     "shell.execute_reply": "2023-10-21T09:36:10.007355Z"
    },
    "papermill": {
     "duration": 0.039087,
     "end_time": "2023-10-21T09:36:10.010068",
     "exception": false,
     "start_time": "2023-10-21T09:36:09.970981",
     "status": "completed"
    },
    "tags": []
   },
   "outputs": [],
   "source": [
    "def punctuation_new(sentence):\n",
    "    \"\"\"\n",
    "    Punctuate a given sentence using a punctuation inference model.\n",
    "\n",
    "    This function takes an input sentence and attempts to punctuate it using an inference model.\n",
    "    If the sentence does not end with a Bengali full stop (।), it processes the sentence as is.\n",
    "    If the sentence ends with ।, it processes the sentence without the final । and then adds it back after punctuation.\n",
    "\n",
    "    Args:\n",
    "        sentence (str): The input sentence to be punctuated.\n",
    "\n",
    "    Returns:\n",
    "        str: The punctuated sentence.\n",
    "\n",
    "    \"\"\"\n",
    "    try:\n",
    "    \n",
    "        if sentence[-1]!=\"।\":\n",
    "            sentence = inference_punc(sentence).strip()\n",
    "        else:\n",
    "            sentence = inference_punc(sentence[:-1]).strip()\n",
    "    except:\n",
    "        print(\"error\")\n",
    "        pass\n",
    "    return sentence"
   ]
  },
  {
   "cell_type": "code",
   "execution_count": 8,
   "id": "1cc72187",
   "metadata": {
    "execution": {
     "iopub.execute_input": "2023-10-21T09:36:10.074039Z",
     "iopub.status.busy": "2023-10-21T09:36:10.073756Z",
     "iopub.status.idle": "2023-10-21T09:36:10.081828Z",
     "shell.execute_reply": "2023-10-21T09:36:10.081088Z"
    },
    "papermill": {
     "duration": 0.041086,
     "end_time": "2023-10-21T09:36:10.083724",
     "exception": false,
     "start_time": "2023-10-21T09:36:10.042638",
     "status": "completed"
    },
    "tags": []
   },
   "outputs": [],
   "source": [
    "class W2v2Dataset(torch.utils.data.Dataset):\n",
    "    \"\"\"\n",
    "    Custom PyTorch dataset for speech data processing with optional denoising and debugging.\n",
    "\n",
    "    Args:\n",
    "        paths (list): List of file paths to the audio files.\n",
    "        denoising (bool): Whether to apply denoising to the audio. -> not used in the final submission\n",
    "        debug_style (bool): Whether to use debug-style data loading. -> \n",
    "\n",
    "    Attributes:\n",
    "        paths (list): List of file paths to the audio files.\n",
    "        denoising (bool): Flag indicating whether denoising is applied.\n",
    "        debug (bool): Flag indicating whether debug-style data loading is used.\n",
    "    \"\"\"\n",
    "    def __init__(self, paths, denoising=False, debug_style=False):\n",
    "        self.paths = paths\n",
    "        self.denoising = denoising\n",
    "        self.debug = debug_style\n",
    "\n",
    "    def __getitem__(self, idx):\n",
    "        apath = self.paths[idx]\n",
    "        \n",
    "        if self.debug:\n",
    "            waveform, sample_rate = librosa.load(f\"{CCFG.train_data}/{apath}\", sr=16000)\n",
    "        else:\n",
    "            waveform, sample_rate = librosa.load(f\"{CCFG.test_data}/{apath}\", sr=16000)\n",
    "            \n",
    "        audio = processor(waveform, sampling_rate=sample_rate).input_values[0]\n",
    "        \n",
    "        if self.denoising:\n",
    "            audio = denoise_infer(audio)\n",
    "        \n",
    "        id_name = self.paths[idx].replace('.mp3','')\n",
    "        \n",
    "        return audio, id_name\n",
    "\n",
    "    def __len__(self):\n",
    "        return len(self.paths)"
   ]
  },
  {
   "cell_type": "markdown",
   "id": "7db1c6d0",
   "metadata": {
    "papermill": {
     "duration": 0.029868,
     "end_time": "2023-10-21T09:36:10.143622",
     "exception": false,
     "start_time": "2023-10-21T09:36:10.113754",
     "status": "completed"
    },
    "tags": []
   },
   "source": [
    "# Loading the testfiles"
   ]
  },
  {
   "cell_type": "code",
   "execution_count": 9,
   "id": "fbdee3c2",
   "metadata": {
    "execution": {
     "iopub.execute_input": "2023-10-21T09:36:10.206781Z",
     "iopub.status.busy": "2023-10-21T09:36:10.206081Z",
     "iopub.status.idle": "2023-10-21T09:36:10.232139Z",
     "shell.execute_reply": "2023-10-21T09:36:10.231431Z"
    },
    "papermill": {
     "duration": 0.059206,
     "end_time": "2023-10-21T09:36:10.234022",
     "exception": false,
     "start_time": "2023-10-21T09:36:10.174816",
     "status": "completed"
    },
    "tags": []
   },
   "outputs": [],
   "source": [
    "test_files = sorted(os.listdir(CCFG.test_data))"
   ]
  },
  {
   "cell_type": "code",
   "execution_count": 10,
   "id": "39d6dc49",
   "metadata": {
    "execution": {
     "iopub.execute_input": "2023-10-21T09:36:10.296196Z",
     "iopub.status.busy": "2023-10-21T09:36:10.295937Z",
     "iopub.status.idle": "2023-10-21T09:36:10.300812Z",
     "shell.execute_reply": "2023-10-21T09:36:10.299930Z"
    },
    "papermill": {
     "duration": 0.03859,
     "end_time": "2023-10-21T09:36:10.302621",
     "exception": false,
     "start_time": "2023-10-21T09:36:10.264031",
     "status": "completed"
    },
    "tags": []
   },
   "outputs": [],
   "source": [
    "debug_mode = False\n",
    "\n",
    "test_dataset = W2v2Dataset(test_files, denoising=False, debug_style=debug_mode)\n",
    "test_loader =  torch.utils.data.DataLoader(test_dataset,\n",
    "                             batch_size=1,\n",
    "                             shuffle=False,\n",
    "                             num_workers=os.cpu_count())"
   ]
  },
  {
   "cell_type": "markdown",
   "id": "c804bfaf",
   "metadata": {
    "papermill": {
     "duration": 0.030649,
     "end_time": "2023-10-21T09:36:10.363610",
     "exception": false,
     "start_time": "2023-10-21T09:36:10.332961",
     "status": "completed"
    },
    "tags": []
   },
   "source": [
    "# Creating, calculating and saving logits"
   ]
  },
  {
   "cell_type": "code",
   "execution_count": 11,
   "id": "6933c5d0",
   "metadata": {
    "execution": {
     "iopub.execute_input": "2023-10-21T09:36:10.426868Z",
     "iopub.status.busy": "2023-10-21T09:36:10.426422Z",
     "iopub.status.idle": "2023-10-21T09:36:10.455813Z",
     "shell.execute_reply": "2023-10-21T09:36:10.454976Z"
    },
    "papermill": {
     "duration": 0.06337,
     "end_time": "2023-10-21T09:36:10.457877",
     "exception": false,
     "start_time": "2023-10-21T09:36:10.394507",
     "status": "completed"
    },
    "tags": []
   },
   "outputs": [],
   "source": [
    "processor = Wav2Vec2Processor.from_pretrained(CCFG.processor)"
   ]
  },
  {
   "cell_type": "code",
   "execution_count": 12,
   "id": "2efb0391",
   "metadata": {
    "execution": {
     "iopub.execute_input": "2023-10-21T09:36:10.523674Z",
     "iopub.status.busy": "2023-10-21T09:36:10.523349Z",
     "iopub.status.idle": "2023-10-21T09:36:10.536995Z",
     "shell.execute_reply": "2023-10-21T09:36:10.536086Z"
    },
    "papermill": {
     "duration": 0.048585,
     "end_time": "2023-10-21T09:36:10.538909",
     "exception": false,
     "start_time": "2023-10-21T09:36:10.490324",
     "status": "completed"
    },
    "tags": []
   },
   "outputs": [],
   "source": [
    "class CustomModel(nn.Module):\n",
    "    \"\"\"\n",
    "    Custom model to combine features of finetuned models.\n",
    "    Inspired by this paper: https://arxiv.org/pdf/2206.05518.pdf\n",
    "\n",
    "    This model combines two pretrained Wav2Vec2 models, processes their features with a transformer encoder,\n",
    "    and produces output logits for transcription. It supports training with CTC loss.\n",
    "\n",
    "    Attributes:\n",
    "        model1 (nn.Module): The first pretrained Wav2Vec2 model.\n",
    "        model2 (nn.Module): The second pretrained Wav2Vec2 model.\n",
    "        encoder_layers (nn.TransformerEncoderLayer): The transformer encoder layer.\n",
    "        transformer_encoder (nn.TransformerEncoder): The transformer encoder.\n",
    "        lm_head (nn.Linear): The linear layer for output logits.\n",
    "        config: The configuration of the model.\n",
    "\n",
    "    Methods:\n",
    "        freeze_model(model): Freezes the model's parameters to prevent further training.\n",
    "        forward(input_values, labels=None, **kwargs): Forward pass of the model.\n",
    "\n",
    "    \"\"\"\n",
    "    def __init__(self):\n",
    "        super().__init__()\n",
    "        self.model1 = self.freeze_model(Wav2Vec2Model.from_pretrained(CCFG.small_model))\n",
    "        self.model2 = self.freeze_model(Wav2Vec2Model.from_pretrained(CCFG.large_model))\n",
    "        self.encoder_layers = nn.TransformerEncoderLayer(d_model=1024+1280, nhead=6) #hardcoded values, should be initialized\n",
    "        self.transformer_encoder = nn.TransformerEncoder(self.encoder_layers, num_layers=2)\n",
    "        self.lm_head = nn.Linear(1024+1280, len(processor.tokenizer)) #hardcoded values, should be initialized\n",
    "        self.config = self.model1.config\n",
    "\n",
    "    def freeze_model(self, model):\n",
    "        for param in model.parameters():\n",
    "            param.requires_grad = False\n",
    "        return model\n",
    "\n",
    "    def forward(self, input_values, labels=None, **kwargs):\n",
    "\n",
    "        with torch.no_grad():\n",
    "            feature1 = self.model1(input_values=input_values, output_hidden_states=True).last_hidden_state\n",
    "            feature2 = self.model2(input_values=input_values, output_hidden_states=True).last_hidden_state\n",
    "\n",
    "        concatenated_features = torch.cat((feature1, feature2), dim=-1)\n",
    "        \n",
    "        encoded_features = self.transformer_encoder(concatenated_features)\n",
    "        logits = self.lm_head(encoded_features)\n",
    "        \n",
    "        if labels is None:\n",
    "            \n",
    "            return {'logits': logits}\n",
    "        \n",
    "        else: \n",
    "            loss = None\n",
    "            attention_mask = torch.ones_like(input_values, dtype=torch.long)\n",
    "            input_lengths = self.model1._get_feat_extract_output_lengths(attention_mask.sum(-1)).to(torch.long)\n",
    "            labels_mask = labels >= 0\n",
    "            target_lengths = labels_mask.sum(-1)\n",
    "            flattened_targets = labels.masked_select(labels_mask)\n",
    "\n",
    "            log_probs = nn.functional.log_softmax(logits, dim=-1, dtype=torch.float32).transpose(0, 1)\n",
    "\n",
    "            loss = nn.functional.ctc_loss(\n",
    "                log_probs,\n",
    "                flattened_targets,\n",
    "                input_lengths,\n",
    "                target_lengths,\n",
    "                blank=62,\n",
    "                reduction='mean',\n",
    "                zero_infinity=True,\n",
    "            )\n",
    "\n",
    "            return {'loss': loss, 'logits': logits}"
   ]
  },
  {
   "cell_type": "code",
   "execution_count": 13,
   "id": "d4e033ae",
   "metadata": {
    "execution": {
     "iopub.execute_input": "2023-10-21T09:36:10.599932Z",
     "iopub.status.busy": "2023-10-21T09:36:10.599649Z",
     "iopub.status.idle": "2023-10-21T09:37:54.948442Z",
     "shell.execute_reply": "2023-10-21T09:37:54.947443Z"
    },
    "papermill": {
     "duration": 104.411115,
     "end_time": "2023-10-21T09:37:54.979825",
     "exception": false,
     "start_time": "2023-10-21T09:36:10.568710",
     "status": "completed"
    },
    "tags": []
   },
   "outputs": [
    {
     "name": "stdout",
     "output_type": "stream",
     "text": [
      "\n"
     ]
    }
   ],
   "source": [
    "new_model = CustomModel()\n",
    "new_model.load_state_dict(torch.load(CCFG.ensemble_model))\n",
    "new_model.to(device)\n",
    "print(\"\")"
   ]
  },
  {
   "cell_type": "code",
   "execution_count": 14,
   "id": "b822ff1b",
   "metadata": {
    "execution": {
     "iopub.execute_input": "2023-10-21T09:37:55.041232Z",
     "iopub.status.busy": "2023-10-21T09:37:55.040911Z",
     "iopub.status.idle": "2023-10-21T09:37:55.334918Z",
     "shell.execute_reply": "2023-10-21T09:37:55.334022Z"
    },
    "papermill": {
     "duration": 0.327142,
     "end_time": "2023-10-21T09:37:55.337005",
     "exception": false,
     "start_time": "2023-10-21T09:37:55.009863",
     "status": "completed"
    },
    "tags": []
   },
   "outputs": [
    {
     "data": {
      "text/plain": [
       "38"
      ]
     },
     "execution_count": 14,
     "metadata": {},
     "output_type": "execute_result"
    }
   ],
   "source": [
    "torch.cuda.empty_cache()\n",
    "gc.collect()"
   ]
  },
  {
   "cell_type": "code",
   "execution_count": 15,
   "id": "95370697",
   "metadata": {
    "execution": {
     "iopub.execute_input": "2023-10-21T09:37:55.398713Z",
     "iopub.status.busy": "2023-10-21T09:37:55.398440Z",
     "iopub.status.idle": "2023-10-21T09:37:55.402519Z",
     "shell.execute_reply": "2023-10-21T09:37:55.401679Z"
    },
    "papermill": {
     "duration": 0.036651,
     "end_time": "2023-10-21T09:37:55.404349",
     "exception": false,
     "start_time": "2023-10-21T09:37:55.367698",
     "status": "completed"
    },
    "tags": []
   },
   "outputs": [],
   "source": [
    "os.mkdir(\"/kaggle/working/logits\")"
   ]
  },
  {
   "cell_type": "code",
   "execution_count": 16,
   "id": "15151505",
   "metadata": {
    "execution": {
     "iopub.execute_input": "2023-10-21T09:37:55.465833Z",
     "iopub.status.busy": "2023-10-21T09:37:55.465573Z",
     "iopub.status.idle": "2023-10-21T09:38:10.999816Z",
     "shell.execute_reply": "2023-10-21T09:38:10.998808Z"
    },
    "papermill": {
     "duration": 15.567798,
     "end_time": "2023-10-21T09:38:11.002155",
     "exception": false,
     "start_time": "2023-10-21T09:37:55.434357",
     "status": "completed"
    },
    "tags": []
   },
   "outputs": [
    {
     "name": "stderr",
     "output_type": "stream",
     "text": [
      "100%|██████████| 3/3 [00:15<00:00,  5.17s/it]\n"
     ]
    }
   ],
   "source": [
    "with torch.no_grad():\n",
    "    for i, (aud, id_n) in enumerate(tqdm(test_loader)):\n",
    "\n",
    "        aud = aud.to(device)\n",
    "        logits = new_model(aud)['logits']\n",
    "        logits = logits.detach().cpu().numpy()\n",
    "        np.save(f'/kaggle/working/logits/{id_n[0]}', logits)"
   ]
  },
  {
   "cell_type": "code",
   "execution_count": 17,
   "id": "9f3966f2",
   "metadata": {
    "execution": {
     "iopub.execute_input": "2023-10-21T09:38:11.068628Z",
     "iopub.status.busy": "2023-10-21T09:38:11.068224Z",
     "iopub.status.idle": "2023-10-21T09:38:11.666459Z",
     "shell.execute_reply": "2023-10-21T09:38:11.665572Z"
    },
    "papermill": {
     "duration": 0.63375,
     "end_time": "2023-10-21T09:38:11.668691",
     "exception": false,
     "start_time": "2023-10-21T09:38:11.034941",
     "status": "completed"
    },
    "tags": []
   },
   "outputs": [
    {
     "data": {
      "text/plain": [
       "0"
      ]
     },
     "execution_count": 17,
     "metadata": {},
     "output_type": "execute_result"
    }
   ],
   "source": [
    "del new_model, logits, test_dataset, test_loader, processor\n",
    "torch.cuda.empty_cache()\n",
    "gc.collect()"
   ]
  },
  {
   "cell_type": "code",
   "execution_count": 18,
   "id": "b1c3bc54",
   "metadata": {
    "execution": {
     "iopub.execute_input": "2023-10-21T09:38:11.733306Z",
     "iopub.status.busy": "2023-10-21T09:38:11.732994Z",
     "iopub.status.idle": "2023-10-21T09:38:12.010342Z",
     "shell.execute_reply": "2023-10-21T09:38:12.009325Z"
    },
    "papermill": {
     "duration": 0.311487,
     "end_time": "2023-10-21T09:38:12.012355",
     "exception": false,
     "start_time": "2023-10-21T09:38:11.700868",
     "status": "completed"
    },
    "tags": []
   },
   "outputs": [
    {
     "data": {
      "text/plain": [
       "0"
      ]
     },
     "execution_count": 18,
     "metadata": {},
     "output_type": "execute_result"
    }
   ],
   "source": [
    "torch.cuda.empty_cache()\n",
    "gc.collect()"
   ]
  },
  {
   "cell_type": "markdown",
   "id": "bb03a9ca",
   "metadata": {
    "execution": {
     "iopub.execute_input": "2023-10-13T10:49:22.023808Z",
     "iopub.status.busy": "2023-10-13T10:49:22.02342Z",
     "iopub.status.idle": "2023-10-13T10:49:22.04612Z",
     "shell.execute_reply": "2023-10-13T10:49:22.045233Z",
     "shell.execute_reply.started": "2023-10-13T10:49:22.023778Z"
    },
    "papermill": {
     "duration": 0.030799,
     "end_time": "2023-10-21T09:38:12.075992",
     "exception": false,
     "start_time": "2023-10-21T09:38:12.045193",
     "status": "completed"
    },
    "tags": []
   },
   "source": [
    "# Creating and decoding the logits"
   ]
  },
  {
   "cell_type": "code",
   "execution_count": 19,
   "id": "40bc051e",
   "metadata": {
    "execution": {
     "iopub.execute_input": "2023-10-21T09:38:12.138861Z",
     "iopub.status.busy": "2023-10-21T09:38:12.138531Z",
     "iopub.status.idle": "2023-10-21T09:45:33.355966Z",
     "shell.execute_reply": "2023-10-21T09:45:33.348770Z"
    },
    "papermill": {
     "duration": 441.257152,
     "end_time": "2023-10-21T09:45:33.363781",
     "exception": false,
     "start_time": "2023-10-21T09:38:12.106629",
     "status": "completed"
    },
    "tags": []
   },
   "outputs": [],
   "source": [
    "decoder = BeamSearchDecoderCTC.load_from_dir(CCFG.decoder)"
   ]
  },
  {
   "cell_type": "code",
   "execution_count": 20,
   "id": "dfb307a5",
   "metadata": {
    "execution": {
     "iopub.execute_input": "2023-10-21T09:45:33.437083Z",
     "iopub.status.busy": "2023-10-21T09:45:33.436652Z",
     "iopub.status.idle": "2023-10-21T09:45:34.289945Z",
     "shell.execute_reply": "2023-10-21T09:45:34.288930Z"
    },
    "papermill": {
     "duration": 0.892223,
     "end_time": "2023-10-21T09:45:34.292445",
     "exception": false,
     "start_time": "2023-10-21T09:45:33.400222",
     "status": "completed"
    },
    "tags": []
   },
   "outputs": [],
   "source": [
    "best_params = {'alpha': 0.5, 'beta': 1.5, 'beam_width': 100} #Standard params\n",
    "custom_decoding = False\n",
    "neural_rescoring = False\n",
    "\n",
    "if neural_rescoring:\n",
    "    os.mkdir(\"/kaggle/working/neural_rescoring\")\n",
    "    \n",
    "if custom_decoding:\n",
    "    decoder.reset_params(\n",
    "            alpha=0.75\n",
    "        )\n",
    "\n",
    "ids = []\n",
    "predictions = []\n",
    "\n",
    "for index, file in enumerate(test_files):\n",
    "\n",
    "    logits = np.load(f'/kaggle/working/logits/{file.replace(\".mp3\", \".npy\")}')\n",
    "    for l in logits:\n",
    "        if neural_rescoring:\n",
    "            sentence = decoder.decode_beams(l, prune_history=False)[:5]\n",
    "            sentence = [(x[0],x[-1]) for x in sentence]\n",
    "            with open(f\"/kaggle/working/neural_rescoring/{file.replace('.mp3','.pkl')}\", \"wb\") as f:\n",
    "                pickle.dump(sentence, f)\n",
    "        else:\n",
    "            sentence = decoder.decode(l)\n",
    "            predictions.append(sentence)\n",
    "    ids.append(file.replace(\".mp3\", \"\"))"
   ]
  },
  {
   "cell_type": "code",
   "execution_count": 21,
   "id": "33dd47be",
   "metadata": {
    "execution": {
     "iopub.execute_input": "2023-10-21T09:45:34.360617Z",
     "iopub.status.busy": "2023-10-21T09:45:34.359510Z",
     "iopub.status.idle": "2023-10-21T09:45:43.758637Z",
     "shell.execute_reply": "2023-10-21T09:45:43.757681Z"
    },
    "papermill": {
     "duration": 9.435213,
     "end_time": "2023-10-21T09:45:43.760923",
     "exception": false,
     "start_time": "2023-10-21T09:45:34.325710",
     "status": "completed"
    },
    "tags": []
   },
   "outputs": [
    {
     "data": {
      "text/plain": [
       "11"
      ]
     },
     "execution_count": 21,
     "metadata": {},
     "output_type": "execute_result"
    }
   ],
   "source": [
    "decoder.cleanup() #-> important step, prevents from out of memory -> https://github.com/kensho-technologies/pyctcdecode/pull/111\n",
    "\n",
    "del decoder\n",
    "gc.collect()"
   ]
  },
  {
   "cell_type": "code",
   "execution_count": 22,
   "id": "dfc23569",
   "metadata": {
    "execution": {
     "iopub.execute_input": "2023-10-21T09:45:43.825060Z",
     "iopub.status.busy": "2023-10-21T09:45:43.824756Z",
     "iopub.status.idle": "2023-10-21T09:45:44.103250Z",
     "shell.execute_reply": "2023-10-21T09:45:44.102374Z"
    },
    "papermill": {
     "duration": 0.312566,
     "end_time": "2023-10-21T09:45:44.105317",
     "exception": false,
     "start_time": "2023-10-21T09:45:43.792751",
     "status": "completed"
    },
    "tags": []
   },
   "outputs": [
    {
     "data": {
      "text/plain": [
       "0"
      ]
     },
     "execution_count": 22,
     "metadata": {},
     "output_type": "execute_result"
    }
   ],
   "source": [
    "torch.cuda.empty_cache()\n",
    "gc.collect()"
   ]
  },
  {
   "cell_type": "markdown",
   "id": "3b12704d",
   "metadata": {
    "papermill": {
     "duration": 0.031129,
     "end_time": "2023-10-21T09:45:44.168413",
     "exception": false,
     "start_time": "2023-10-21T09:45:44.137284",
     "status": "completed"
    },
    "tags": []
   },
   "source": [
    "# Rescoring hypothesis"
   ]
  },
  {
   "cell_type": "code",
   "execution_count": 23,
   "id": "9a3ae6a1",
   "metadata": {
    "execution": {
     "iopub.execute_input": "2023-10-21T09:45:44.233615Z",
     "iopub.status.busy": "2023-10-21T09:45:44.232990Z",
     "iopub.status.idle": "2023-10-21T09:45:44.239644Z",
     "shell.execute_reply": "2023-10-21T09:45:44.238810Z"
    },
    "papermill": {
     "duration": 0.041844,
     "end_time": "2023-10-21T09:45:44.241621",
     "exception": false,
     "start_time": "2023-10-21T09:45:44.199777",
     "status": "completed"
    },
    "tags": []
   },
   "outputs": [],
   "source": [
    "def rescore_hypotheses(hypotheses, lm_weight=1.0):\n",
    "    rescored_hypotheses = []\n",
    "    for transcription, asr_score in hypotheses:\n",
    "\n",
    "        input_ids = neural_rescore.tokenizer.encode(transcription, truncation=True, max_length=128, return_tensors='pt')\n",
    "\n",
    "        with torch.no_grad():\n",
    "            outputs = neural_rescore.model(input_ids.to(device), labels=input_ids.to(device))\n",
    "            log_likelihood = outputs.loss.item()\n",
    "\n",
    "        transformer_score = lm_weight * (-log_likelihood)\n",
    "        combined_score = asr_score + transformer_score \n",
    "        rescored_hypotheses.append((transcription, combined_score))\n",
    "        \n",
    "    return sorted(rescored_hypotheses, key=lambda x: x[1], reverse=True)"
   ]
  },
  {
   "cell_type": "code",
   "execution_count": 24,
   "id": "76815631",
   "metadata": {
    "execution": {
     "iopub.execute_input": "2023-10-21T09:45:44.305353Z",
     "iopub.status.busy": "2023-10-21T09:45:44.304814Z",
     "iopub.status.idle": "2023-10-21T09:45:44.310503Z",
     "shell.execute_reply": "2023-10-21T09:45:44.309550Z"
    },
    "papermill": {
     "duration": 0.039537,
     "end_time": "2023-10-21T09:45:44.312450",
     "exception": false,
     "start_time": "2023-10-21T09:45:44.272913",
     "status": "completed"
    },
    "tags": []
   },
   "outputs": [],
   "source": [
    "if neural_rescoring:\n",
    "    neural_rescore = pipeline('text-generation',model=\"/kaggle/input/neural-rescoring\", tokenizer='/kaggle/input/neural-rescoring', device=device)\n",
    "    \n",
    "    predictions = []\n",
    "    for index, file in enumerate(test_files):\n",
    "        with open(f\"/kaggle/working/neural_rescoring/{file.replace('.mp3','.pkl')}\", \"rb\") as f:\n",
    "            loaded_list = pickle.load(f)\n",
    "        predictions.append(rescore_hypotheses(loaded_list)[0][0])\n",
    "        \n",
    "    del neural_rescore\n",
    "    torch.cuda.empty_cache()\n",
    "    gc.collect()"
   ]
  },
  {
   "cell_type": "markdown",
   "id": "1900745f",
   "metadata": {
    "papermill": {
     "duration": 0.031258,
     "end_time": "2023-10-21T09:45:44.374859",
     "exception": false,
     "start_time": "2023-10-21T09:45:44.343601",
     "status": "completed"
    },
    "tags": []
   },
   "source": [
    "# Adding punctuation"
   ]
  },
  {
   "cell_type": "code",
   "execution_count": 25,
   "id": "14d7dfc9",
   "metadata": {
    "execution": {
     "iopub.execute_input": "2023-10-21T09:45:44.439278Z",
     "iopub.status.busy": "2023-10-21T09:45:44.438715Z",
     "iopub.status.idle": "2023-10-21T09:45:45.124107Z",
     "shell.execute_reply": "2023-10-21T09:45:45.123312Z"
    },
    "papermill": {
     "duration": 0.720183,
     "end_time": "2023-10-21T09:45:45.126416",
     "exception": false,
     "start_time": "2023-10-21T09:45:44.406233",
     "status": "completed"
    },
    "tags": []
   },
   "outputs": [],
   "source": [
    "tokenizer = XLMRobertaTokenizer.from_pretrained(CCFG.punc_base)\n",
    "token_style = MODELS['xlm-roberta-large'][3]"
   ]
  },
  {
   "cell_type": "code",
   "execution_count": 26,
   "id": "3863665c",
   "metadata": {
    "execution": {
     "iopub.execute_input": "2023-10-21T09:45:45.191168Z",
     "iopub.status.busy": "2023-10-21T09:45:45.190802Z",
     "iopub.status.idle": "2023-10-21T09:46:24.226264Z",
     "shell.execute_reply": "2023-10-21T09:46:24.225313Z"
    },
    "papermill": {
     "duration": 39.10108,
     "end_time": "2023-10-21T09:46:24.259566",
     "exception": false,
     "start_time": "2023-10-21T09:45:45.158486",
     "status": "completed"
    },
    "tags": []
   },
   "outputs": [
    {
     "data": {
      "text/plain": [
       "DeepPunctuation(\n",
       "  (bert_layer): XLMRobertaModel(\n",
       "    (embeddings): XLMRobertaEmbeddings(\n",
       "      (word_embeddings): Embedding(250002, 1024, padding_idx=1)\n",
       "      (position_embeddings): Embedding(514, 1024, padding_idx=1)\n",
       "      (token_type_embeddings): Embedding(1, 1024)\n",
       "      (LayerNorm): LayerNorm((1024,), eps=1e-05, elementwise_affine=True)\n",
       "      (dropout): Dropout(p=0.1, inplace=False)\n",
       "    )\n",
       "    (encoder): XLMRobertaEncoder(\n",
       "      (layer): ModuleList(\n",
       "        (0-23): 24 x XLMRobertaLayer(\n",
       "          (attention): XLMRobertaAttention(\n",
       "            (self): XLMRobertaSelfAttention(\n",
       "              (query): Linear(in_features=1024, out_features=1024, bias=True)\n",
       "              (key): Linear(in_features=1024, out_features=1024, bias=True)\n",
       "              (value): Linear(in_features=1024, out_features=1024, bias=True)\n",
       "              (dropout): Dropout(p=0.1, inplace=False)\n",
       "            )\n",
       "            (output): XLMRobertaSelfOutput(\n",
       "              (dense): Linear(in_features=1024, out_features=1024, bias=True)\n",
       "              (LayerNorm): LayerNorm((1024,), eps=1e-05, elementwise_affine=True)\n",
       "              (dropout): Dropout(p=0.1, inplace=False)\n",
       "            )\n",
       "          )\n",
       "          (intermediate): XLMRobertaIntermediate(\n",
       "            (dense): Linear(in_features=1024, out_features=4096, bias=True)\n",
       "            (intermediate_act_fn): GELUActivation()\n",
       "          )\n",
       "          (output): XLMRobertaOutput(\n",
       "            (dense): Linear(in_features=4096, out_features=1024, bias=True)\n",
       "            (LayerNorm): LayerNorm((1024,), eps=1e-05, elementwise_affine=True)\n",
       "            (dropout): Dropout(p=0.1, inplace=False)\n",
       "          )\n",
       "        )\n",
       "      )\n",
       "    )\n",
       "    (pooler): XLMRobertaPooler(\n",
       "      (dense): Linear(in_features=1024, out_features=1024, bias=True)\n",
       "      (activation): Tanh()\n",
       "    )\n",
       "  )\n",
       "  (lstm): LSTM(1024, 1024, bidirectional=True)\n",
       "  (linear): Linear(in_features=2048, out_features=4, bias=True)\n",
       ")"
      ]
     },
     "execution_count": 26,
     "metadata": {},
     "output_type": "execute_result"
    }
   ],
   "source": [
    "deep_punctuation = DeepPunctuation('xlm-roberta-large', freeze_bert=False, lstm_dim=-1)\n",
    "deep_punctuation.to(device)\n",
    "deep_punctuation.load_state_dict(torch.load(CCFG.punc_weights))\n",
    "deep_punctuation.eval()"
   ]
  },
  {
   "cell_type": "code",
   "execution_count": 27,
   "id": "23b0a5eb",
   "metadata": {
    "execution": {
     "iopub.execute_input": "2023-10-21T09:46:24.323199Z",
     "iopub.status.busy": "2023-10-21T09:46:24.322881Z",
     "iopub.status.idle": "2023-10-21T09:46:24.811747Z",
     "shell.execute_reply": "2023-10-21T09:46:24.810748Z"
    },
    "papermill": {
     "duration": 0.523235,
     "end_time": "2023-10-21T09:46:24.814116",
     "exception": false,
     "start_time": "2023-10-21T09:46:24.290881",
     "status": "completed"
    },
    "tags": []
   },
   "outputs": [],
   "source": [
    "predictions = [normalize(punctuation_new(normalize(sentence))) for sentence in predictions]"
   ]
  },
  {
   "cell_type": "code",
   "execution_count": 28,
   "id": "f0f7b65a",
   "metadata": {
    "execution": {
     "iopub.execute_input": "2023-10-21T09:46:24.879011Z",
     "iopub.status.busy": "2023-10-21T09:46:24.878651Z",
     "iopub.status.idle": "2023-10-21T09:46:25.237074Z",
     "shell.execute_reply": "2023-10-21T09:46:25.236161Z"
    },
    "papermill": {
     "duration": 0.393381,
     "end_time": "2023-10-21T09:46:25.239088",
     "exception": false,
     "start_time": "2023-10-21T09:46:24.845707",
     "status": "completed"
    },
    "tags": []
   },
   "outputs": [
    {
     "data": {
      "text/plain": [
       "7"
      ]
     },
     "execution_count": 28,
     "metadata": {},
     "output_type": "execute_result"
    }
   ],
   "source": [
    "del deep_punctuation\n",
    "torch.cuda.empty_cache()\n",
    "gc.collect()"
   ]
  },
  {
   "cell_type": "markdown",
   "id": "70b1a3c4",
   "metadata": {
    "papermill": {
     "duration": 0.031475,
     "end_time": "2023-10-21T09:46:25.302463",
     "exception": false,
     "start_time": "2023-10-21T09:46:25.270988",
     "status": "completed"
    },
    "tags": []
   },
   "source": [
    "# Cleaning and submission"
   ]
  },
  {
   "cell_type": "code",
   "execution_count": 29,
   "id": "db3e602c",
   "metadata": {
    "execution": {
     "iopub.execute_input": "2023-10-21T09:46:25.366950Z",
     "iopub.status.busy": "2023-10-21T09:46:25.366655Z",
     "iopub.status.idle": "2023-10-21T09:46:26.504037Z",
     "shell.execute_reply": "2023-10-21T09:46:26.502352Z"
    },
    "papermill": {
     "duration": 1.172851,
     "end_time": "2023-10-21T09:46:26.506651",
     "exception": false,
     "start_time": "2023-10-21T09:46:25.333800",
     "status": "completed"
    },
    "tags": []
   },
   "outputs": [],
   "source": [
    "!rm -r /kaggle/working/*"
   ]
  },
  {
   "cell_type": "code",
   "execution_count": 30,
   "id": "2c0725f8",
   "metadata": {
    "execution": {
     "iopub.execute_input": "2023-10-21T09:46:26.571766Z",
     "iopub.status.busy": "2023-10-21T09:46:26.571428Z",
     "iopub.status.idle": "2023-10-21T09:46:26.606799Z",
     "shell.execute_reply": "2023-10-21T09:46:26.606064Z"
    },
    "papermill": {
     "duration": 0.069934,
     "end_time": "2023-10-21T09:46:26.608642",
     "exception": false,
     "start_time": "2023-10-21T09:46:26.538708",
     "status": "completed"
    },
    "tags": []
   },
   "outputs": [],
   "source": [
    "pred_df = pd.DataFrame({\"id\":ids,\"sentence\":predictions})\n",
    "pred_df[\"sentence\"] = [x if len(x) > 0 else \"।\" for x in pred_df[\"sentence\"]]\n",
    "pred_df = pred_df.sort_values(by='id')\n",
    "pred_df.to_csv(\"submission.csv\", index=False)"
   ]
  },
  {
   "cell_type": "code",
   "execution_count": 31,
   "id": "11406cf1",
   "metadata": {
    "execution": {
     "iopub.execute_input": "2023-10-21T09:46:26.672227Z",
     "iopub.status.busy": "2023-10-21T09:46:26.671953Z",
     "iopub.status.idle": "2023-10-21T09:46:26.686006Z",
     "shell.execute_reply": "2023-10-21T09:46:26.685139Z"
    },
    "papermill": {
     "duration": 0.048077,
     "end_time": "2023-10-21T09:46:26.688046",
     "exception": false,
     "start_time": "2023-10-21T09:46:26.639969",
     "status": "completed"
    },
    "tags": []
   },
   "outputs": [
    {
     "data": {
      "text/html": [
       "<div>\n",
       "<style scoped>\n",
       "    .dataframe tbody tr th:only-of-type {\n",
       "        vertical-align: middle;\n",
       "    }\n",
       "\n",
       "    .dataframe tbody tr th {\n",
       "        vertical-align: top;\n",
       "    }\n",
       "\n",
       "    .dataframe thead th {\n",
       "        text-align: right;\n",
       "    }\n",
       "</style>\n",
       "<table border=\"1\" class=\"dataframe\">\n",
       "  <thead>\n",
       "    <tr style=\"text-align: right;\">\n",
       "      <th></th>\n",
       "      <th>id</th>\n",
       "      <th>sentence</th>\n",
       "    </tr>\n",
       "  </thead>\n",
       "  <tbody>\n",
       "    <tr>\n",
       "      <th>0</th>\n",
       "      <td>0f3dac00655e</td>\n",
       "      <td>একটু বয়স হলে একটি বিদেশি।</td>\n",
       "    </tr>\n",
       "    <tr>\n",
       "      <th>1</th>\n",
       "      <td>a9395e01ad21</td>\n",
       "      <td>কী কারণে তুমি এতাবৎ কাল পর্যন্ত এই দারুণ দৈবদু...</td>\n",
       "    </tr>\n",
       "    <tr>\n",
       "      <th>2</th>\n",
       "      <td>bf36ea8b718d</td>\n",
       "      <td>এ কারণে সরকার নির্ধারিত হারে পরিবহন জনিত ক্ষতি...</td>\n",
       "    </tr>\n",
       "  </tbody>\n",
       "</table>\n",
       "</div>"
      ],
      "text/plain": [
       "             id                                           sentence\n",
       "0  0f3dac00655e                          একটু বয়স হলে একটি বিদেশি।\n",
       "1  a9395e01ad21  কী কারণে তুমি এতাবৎ কাল পর্যন্ত এই দারুণ দৈবদু...\n",
       "2  bf36ea8b718d  এ কারণে সরকার নির্ধারিত হারে পরিবহন জনিত ক্ষতি..."
      ]
     },
     "execution_count": 31,
     "metadata": {},
     "output_type": "execute_result"
    }
   ],
   "source": [
    "pred_df.head(3)"
   ]
  }
 ],
 "metadata": {
  "kernelspec": {
   "display_name": "Python 3",
   "language": "python",
   "name": "python3"
  },
  "language_info": {
   "codemirror_mode": {
    "name": "ipython",
    "version": 3
   },
   "file_extension": ".py",
   "mimetype": "text/x-python",
   "name": "python",
   "nbconvert_exporter": "python",
   "pygments_lexer": "ipython3",
   "version": "3.10.12"
  },
  "papermill": {
   "default_parameters": {},
   "duration": 870.765255,
   "end_time": "2023-10-21T09:46:30.732743",
   "environment_variables": {},
   "exception": null,
   "input_path": "__notebook__.ipynb",
   "output_path": "__notebook__.ipynb",
   "parameters": {},
   "start_time": "2023-10-21T09:31:59.967488",
   "version": "2.4.0"
  }
 },
 "nbformat": 4,
 "nbformat_minor": 5
}
