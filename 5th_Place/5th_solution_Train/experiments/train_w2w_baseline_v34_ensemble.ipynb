{
 "cells": [
  {
   "cell_type": "code",
   "execution_count": 1,
   "id": "9969d9a0-ef36-40e9-8caa-3758d5afd424",
   "metadata": {},
   "outputs": [
    {
     "name": "stdout",
     "output_type": "stream",
     "text": [
      "INFO: Pandarallel will run on 8 workers.\n",
      "INFO: Pandarallel will use Memory file system to transfer data between the main process and workers.\n"
     ]
    }
   ],
   "source": [
    "import pandas as pd\n",
    "import numpy as np\n",
    "import torch\n",
    "\n",
    "from transformers import Wav2Vec2CTCTokenizer\n",
    "from transformers import Wav2Vec2FeatureExtractor\n",
    "from transformers import Wav2Vec2Processor\n",
    "\n",
    "import torchaudio\n",
    "import torchaudio.transforms as tat\n",
    "\n",
    "from torch.optim.lr_scheduler import CosineAnnealingWarmRestarts\n",
    "import torch.nn as nn\n",
    "from torch.utils.data import Dataset, DataLoader\n",
    "\n",
    "from tqdm.auto import tqdm\n",
    "\n",
    "from typing import Dict, List, Tuple, Any, Union, Optional\n",
    "\n",
    "import os\n",
    "import re\n",
    "import json\n",
    "import random\n",
    "from pprint import pprint\n",
    "\n",
    "import unicodedata\n",
    "from bnunicodenormalizer import Normalizer \n",
    "\n",
    "import numpy as np\n",
    "import matplotlib.pyplot as plt\n",
    "\n",
    "import pandas as pd\n",
    "from pandarallel import pandarallel\n",
    "from tqdm.auto import tqdm\n",
    "import evaluate\n",
    "import torch\n",
    "import torchaudio\n",
    "import torchaudio.functional as F\n",
    "import torchaudio.transforms as T\n",
    "from torch.utils.data import Dataset, DataLoader, IterableDataset\n",
    "\n",
    "import transformers\n",
    "from transformers import Wav2Vec2CTCTokenizer, Wav2Vec2FeatureExtractor, Wav2Vec2Processor, Wav2Vec2ForCTC\n",
    "from transformers import TrainingArguments, Trainer\n",
    "\n",
    "from datasets import load_dataset, load_metric\n",
    "from dataclasses import dataclass, field\n",
    "import librosa\n",
    "from transformers import Wav2Vec2CTCTokenizer\n",
    "from IPython.display import display, Audio, HTML, Markdown\n",
    "\n",
    "bnorm = Normalizer()\n",
    "pandarallel.initialize(progress_bar=True,nb_workers=os.cpu_count())\n",
    "tqdm.pandas()"
   ]
  },
  {
   "cell_type": "code",
   "execution_count": null,
   "id": "c68b78b2-d8da-420c-a2f7-af7de7cb2cbd",
   "metadata": {},
   "outputs": [],
   "source": [
    "from audioconverter import AudioConverter\n",
    "from normalize import *"
   ]
  },
  {
   "cell_type": "code",
   "execution_count": null,
   "id": "c5e0e6ff-d940-4059-b713-ea530b34da4f",
   "metadata": {},
   "outputs": [],
   "source": [
    "from utils import *"
   ]
  },
  {
   "cell_type": "code",
   "execution_count": null,
   "id": "86c92866-916f-49e3-a5a9-36cdbe5eff90",
   "metadata": {},
   "outputs": [],
   "source": [
    "seed_everything(33)"
   ]
  },
  {
   "cell_type": "code",
   "execution_count": null,
   "id": "876866f6-84a4-4a4c-b129-1694b0a5535c",
   "metadata": {},
   "outputs": [],
   "source": [
    "os.environ[\"WANDB_DISABLED\"] = \"true\""
   ]
  },
  {
   "cell_type": "code",
   "execution_count": 2,
   "id": "96a3b537-f4c9-4435-a862-b3938d4400f5",
   "metadata": {},
   "outputs": [
    {
     "data": {
      "text/plain": [
       "'NVIDIA RTX A6000'"
      ]
     },
     "execution_count": 2,
     "metadata": {},
     "output_type": "execute_result"
    }
   ],
   "source": [
    "torch.cuda.get_device_name()"
   ]
  },
  {
   "cell_type": "markdown",
   "id": "109cd13a-9381-446b-8640-aa01d4ceabd5",
   "metadata": {},
   "source": [
    "# Config"
   ]
  },
  {
   "cell_type": "code",
   "execution_count": 3,
   "id": "4f2bf5f3-ae81-47c5-b910-75b4a726c345",
   "metadata": {},
   "outputs": [],
   "source": [
    "class Config:\n",
    "    early_stopping_patience = 3\n",
    "\n",
    "    # Trainer arugments.\n",
    "    trainer = TrainingArguments(\n",
    "      output_dir=\"runs/wav2vec_indic_v34\",\n",
    "      group_by_length=False,\n",
    "      per_device_train_batch_size=8,\n",
    "      per_device_eval_batch_size=4,\n",
    "      gradient_accumulation_steps=1,\n",
    "      evaluation_strategy=\"steps\",\n",
    "      num_train_epochs=10,\n",
    "      #gradient_checkpointing=True,\n",
    "      fp16=True,\n",
    "      save_steps=1000,\n",
    "      eval_steps=1000,\n",
    "      logging_steps=1000,\n",
    "      learning_rate=1e-5,\n",
    "      dataloader_num_workers=os.cpu_count(),\n",
    "      warmup_steps=300,\n",
    "      save_total_limit=100,\n",
    "      push_to_hub=False,\n",
    "      run_name=\"runs/wav2vec_indic_v34\",\n",
    "      load_best_model_at_end=True,\n",
    "      lr_scheduler_type=\"cosine\",\n",
    "      resume_from_checkpoint=True,\n",
    "      remove_unused_columns=False,\n",
    "        max_grad_norm=1.0\n",
    "    )"
   ]
  },
  {
   "cell_type": "markdown",
   "id": "6f778c45-0463-469b-b9cd-6e5bb155a70d",
   "metadata": {
    "tags": []
   },
   "source": [
    "# Vocab"
   ]
  },
  {
   "cell_type": "code",
   "execution_count": 10,
   "id": "ddda1be6-8543-4cde-bebc-8b5fb7032e1c",
   "metadata": {},
   "outputs": [],
   "source": [
    "train = pd.read_pickle(\"../data/train_full_v2.pkl\")\n",
    "train['path'] = \"../data/\" + train['path']"
   ]
  },
  {
   "cell_type": "code",
   "execution_count": 13,
   "id": "2432ec50-6fc5-40a7-b92b-ea8a546a53ff",
   "metadata": {},
   "outputs": [],
   "source": [
    "duration = pd.read_pickle(\"../data/train_with_duration.pkl\")\n",
    "duration = duration.loc[duration['duration'] <= 10].reset_index(drop=True).copy()\n",
    "duration['use_duration'] = 1\n",
    "train = pd.merge(train, duration[['id','use_duration']], how='left')\n",
    "train = train.loc[train['use_duration'] == 1]"
   ]
  },
  {
   "cell_type": "code",
   "execution_count": 15,
   "id": "ede0c79b-3e58-4a2b-b770-a24acfb41d17",
   "metadata": {},
   "outputs": [],
   "source": [
    "class SprintDataset(Dataset):\n",
    "        \n",
    "    def __init__(self, df, processor, audioConverter, loopDataset=1):\n",
    "        self.df = df\n",
    "        self.paths = df['path']\n",
    "        self.sentences = df['sentence']\n",
    "        self.len = len(self.df) * loopDataset\n",
    "\n",
    "        self.processor = processor\n",
    "        self.ac = audioConverter\n",
    "\n",
    "    def __len__(self):\n",
    "        return self.len\n",
    "\n",
    "    def loadSample(self, idx):\n",
    "        idx %= len(self.df)\n",
    "        audio_path = self.paths[idx]\n",
    "        sentence = self.sentences[idx]\n",
    "\n",
    "        wave = self.ac.getAudio(audio_path)[0]\n",
    "        input_values = processor(wave, sampling_rate=16000).input_values[0]\n",
    "\n",
    "        input_length = len(input_values)\n",
    "        with self.processor.as_target_processor():\n",
    "            labels = self.processor(sentence).input_ids\n",
    "\n",
    "        return {\n",
    "            'input_values':input_values,\n",
    "            'input_length':input_length,\n",
    "            'labels':labels\n",
    "        }\n",
    "\n",
    "    def __getitem__(self, idx): \n",
    "        if idx >= self.len:\n",
    "            raise IndexError('index out of range')\n",
    "        return self.loadSample(idx)"
   ]
  },
  {
   "cell_type": "code",
   "execution_count": 17,
   "id": "ad562390-2eb1-4ef7-8921-a49460a75d3c",
   "metadata": {},
   "outputs": [],
   "source": [
    "train_ac = AudioConverter(16000)\n",
    "test_ac = AudioConverter(16000, disableAug=True)"
   ]
  },
  {
   "cell_type": "code",
   "execution_count": 18,
   "id": "c0b1dbc8-48e5-4907-a98c-5f9e5a87bf22",
   "metadata": {},
   "outputs": [],
   "source": [
    "def _hf_dataset(df):\n",
    "    paths = []\n",
    "    audios = []\n",
    "    sentences = []\n",
    "    full_samples = df['id'].tolist()\n",
    "    \n",
    "    for i, row in df.iterrows():\n",
    "        temp_path = f\"train_mp3s/{row['id']}.mp3\"\n",
    "        paths.append(temp_path)\n",
    "        #audios.append({\"path\":temp_path,\n",
    "        #               \"array\":librosa.load(temp_path, sr=16000)[0],\n",
    "        #               \"sampling_rate\":16000})\n",
    "        audios.append(temp_path)\n",
    "        sentences.append(row['sentence'])\n",
    "        \n",
    "    return {\"path\":paths,\"audio\":audios,\"sentence\":sentences}"
   ]
  },
  {
   "cell_type": "code",
   "execution_count": 19,
   "id": "d34392d8-8455-49a6-a128-012d64897c99",
   "metadata": {},
   "outputs": [
    {
     "data": {
      "text/html": [
       "<div>\n",
       "<style scoped>\n",
       "    .dataframe tbody tr th:only-of-type {\n",
       "        vertical-align: middle;\n",
       "    }\n",
       "\n",
       "    .dataframe tbody tr th {\n",
       "        vertical-align: top;\n",
       "    }\n",
       "\n",
       "    .dataframe thead th {\n",
       "        text-align: right;\n",
       "    }\n",
       "</style>\n",
       "<table border=\"1\" class=\"dataframe\">\n",
       "  <thead>\n",
       "    <tr style=\"text-align: right;\">\n",
       "      <th></th>\n",
       "      <th>id</th>\n",
       "      <th>sentence</th>\n",
       "      <th>split</th>\n",
       "      <th>path</th>\n",
       "      <th>use</th>\n",
       "      <th>use_duration</th>\n",
       "    </tr>\n",
       "  </thead>\n",
       "  <tbody>\n",
       "    <tr>\n",
       "      <th>0</th>\n",
       "      <td>0000e711c2b1</td>\n",
       "      <td>তিনি এবং তাঁর মা তাদের পৈতৃক বাড়িতে থেকে প্রত...</td>\n",
       "      <td>valid</td>\n",
       "      <td>/notebooks/data/base_files/train_mp3s/0000e711...</td>\n",
       "      <td>1.0</td>\n",
       "      <td>1.0</td>\n",
       "    </tr>\n",
       "    <tr>\n",
       "      <th>1</th>\n",
       "      <td>00065e317123</td>\n",
       "      <td>তিনি তার সুশৃঙ্খল সামরিক বাহিনী এবং সুগঠিত শাস...</td>\n",
       "      <td>valid</td>\n",
       "      <td>/notebooks/data/base_files/train_mp3s/00065e31...</td>\n",
       "      <td>1.0</td>\n",
       "      <td>1.0</td>\n",
       "    </tr>\n",
       "    <tr>\n",
       "      <th>2</th>\n",
       "      <td>00065f40df52</td>\n",
       "      <td>তিনি বিজয়নগর সাম্রাজ্যের বিরুদ্ধে এবং বিজাপুর...</td>\n",
       "      <td>valid</td>\n",
       "      <td>/notebooks/data/base_files/train_mp3s/00065f40...</td>\n",
       "      <td>1.0</td>\n",
       "      <td>1.0</td>\n",
       "    </tr>\n",
       "  </tbody>\n",
       "</table>\n",
       "</div>"
      ],
      "text/plain": [
       "             id                                           sentence  split  \\\n",
       "0  0000e711c2b1  তিনি এবং তাঁর মা তাদের পৈতৃক বাড়িতে থেকে প্রত...  valid   \n",
       "1  00065e317123  তিনি তার সুশৃঙ্খল সামরিক বাহিনী এবং সুগঠিত শাস...  valid   \n",
       "2  00065f40df52  তিনি বিজয়নগর সাম্রাজ্যের বিরুদ্ধে এবং বিজাপুর...  valid   \n",
       "\n",
       "                                                path  use  use_duration  \n",
       "0  /notebooks/data/base_files/train_mp3s/0000e711...  1.0           1.0  \n",
       "1  /notebooks/data/base_files/train_mp3s/00065e31...  1.0           1.0  \n",
       "2  /notebooks/data/base_files/train_mp3s/00065f40...  1.0           1.0  "
      ]
     },
     "execution_count": 19,
     "metadata": {},
     "output_type": "execute_result"
    }
   ],
   "source": [
    "train_df = train.loc[train['split'] == 'train'].reset_index(drop=True)\n",
    "valid_df = train.loc[train['split'] == 'valid'].reset_index(drop=True)\n",
    "valid_df.head(3)"
   ]
  },
  {
   "cell_type": "code",
   "execution_count": 20,
   "id": "4df344de-eb79-4006-a271-faddeda38d53",
   "metadata": {},
   "outputs": [],
   "source": [
    "valid_df = valid_df.sample(frac=0.2, random_state=42).reset_index(drop=True)"
   ]
  },
  {
   "cell_type": "code",
   "execution_count": 23,
   "id": "fc481692-a332-4c3b-b39e-e2c1d3af25a5",
   "metadata": {},
   "outputs": [],
   "source": [
    "@dataclass\n",
    "class DataCollatorCTCWithPadding:\n",
    "    \"\"\"\n",
    "    Data collator that will dynamically pad the inputs received.\n",
    "    Args:\n",
    "        processor (:class:`~transformers.Wav2Vec2Processor`)\n",
    "            The processor used for proccessing the data.\n",
    "        padding (:obj:`bool`, :obj:`str` or :class:`~transformers.tokenization_utils_base.PaddingStrategy`, `optional`, defaults to :obj:`True`):\n",
    "            Select a strategy to pad the returned sequences (according to the model's padding side and padding index)\n",
    "            among:\n",
    "            * :obj:`True` or :obj:`'longest'`: Pad to the longest sequence in the batch (or no padding if only a single\n",
    "              sequence if provided).\n",
    "            * :obj:`'max_length'`: Pad to a maximum length specified with the argument :obj:`max_length` or to the\n",
    "              maximum acceptable input length for the model if that argument is not provided.\n",
    "            * :obj:`False` or :obj:`'do_not_pad'` (default): No padding (i.e., can output a batch with sequences of\n",
    "              different lengths).\n",
    "    \"\"\"\n",
    "\n",
    "    processor: Wav2Vec2Processor\n",
    "    padding: Union[bool, str] = True\n",
    "\n",
    "    def __call__(self, features: List[Dict[str, Union[List[int], torch.Tensor]]]) -> Dict[str, torch.Tensor]:\n",
    "        # split inputs and labels since they have to be of different lenghts and need\n",
    "        # different padding methods\n",
    "        input_features = [{\"input_values\": feature[\"input_values\"]} for feature in features]\n",
    "        label_features = [{\"input_ids\": feature[\"labels\"]} for feature in features]\n",
    "\n",
    "        batch = self.processor.pad(\n",
    "            input_features,\n",
    "            padding=self.padding,\n",
    "            return_tensors=\"pt\",\n",
    "        )\n",
    "        with self.processor.as_target_processor():\n",
    "            labels_batch = self.processor.pad(\n",
    "                label_features,\n",
    "                padding=self.padding,\n",
    "                return_tensors=\"pt\",\n",
    "            )\n",
    "\n",
    "        # replace padding with -100 to ignore loss correctly\n",
    "        labels = labels_batch[\"input_ids\"].masked_fill(labels_batch.attention_mask.ne(1), -100)\n",
    "\n",
    "        batch[\"labels\"] = labels\n",
    "\n",
    "        return batch\n"
   ]
  },
  {
   "cell_type": "markdown",
   "id": "5df98483-348d-4171-bc5b-a218644b1938",
   "metadata": {},
   "source": [
    "# Training data, tokenizer and model"
   ]
  },
  {
   "cell_type": "code",
   "execution_count": 25,
   "id": "45670c5c-1a78-4a7f-a0dd-08a4aa5e15c2",
   "metadata": {},
   "outputs": [],
   "source": [
    "tokenizer = Wav2Vec2CTCTokenizer(\n",
    "    '../data/vocab/vocab_v2.json',\n",
    "    unk_token='<unk>',\n",
    "    pad_token='<pad>',\n",
    "    word_delimiter_token='|',\n",
    "    bos_token='<s>',\n",
    "    eos_token='</s>',\n",
    ")"
   ]
  },
  {
   "cell_type": "code",
   "execution_count": 26,
   "id": "6adfc03b-4ac7-47b6-8fad-79e8deb62092",
   "metadata": {},
   "outputs": [
    {
     "data": {
      "text/plain": [
       "Wav2Vec2FeatureExtractor {\n",
       "  \"do_normalize\": true,\n",
       "  \"feature_extractor_type\": \"Wav2Vec2FeatureExtractor\",\n",
       "  \"feature_size\": 1,\n",
       "  \"padding_side\": \"right\",\n",
       "  \"padding_value\": 0.0,\n",
       "  \"return_attention_mask\": true,\n",
       "  \"sampling_rate\": 16000\n",
       "}"
      ]
     },
     "execution_count": 26,
     "metadata": {},
     "output_type": "execute_result"
    }
   ],
   "source": [
    "feature_extractor = Wav2Vec2FeatureExtractor(feature_size=1, sampling_rate=16000, padding_value=0.0, do_normalize=True, return_attention_mask=True)\n",
    "feature_extractor"
   ]
  },
  {
   "cell_type": "code",
   "execution_count": 27,
   "id": "18047312-02b3-43f4-a1c8-b4a81e9352ee",
   "metadata": {},
   "outputs": [
    {
     "data": {
      "text/plain": [
       "Wav2Vec2Processor:\n",
       "- feature_extractor: Wav2Vec2FeatureExtractor {\n",
       "  \"do_normalize\": true,\n",
       "  \"feature_extractor_type\": \"Wav2Vec2FeatureExtractor\",\n",
       "  \"feature_size\": 1,\n",
       "  \"padding_side\": \"right\",\n",
       "  \"padding_value\": 0.0,\n",
       "  \"return_attention_mask\": true,\n",
       "  \"sampling_rate\": 16000\n",
       "}\n",
       "\n",
       "- tokenizer: PreTrainedTokenizer(name_or_path='', vocab_size=65, model_max_len=1000000000000000019884624838656, is_fast=False, padding_side='right', truncation_side='right', special_tokens={'bos_token': '<s>', 'eos_token': '</s>', 'unk_token': '<unk>', 'pad_token': '<pad>'})"
      ]
     },
     "execution_count": 27,
     "metadata": {},
     "output_type": "execute_result"
    }
   ],
   "source": [
    "processor = Wav2Vec2Processor(feature_extractor=feature_extractor, tokenizer=tokenizer)\n",
    "processor"
   ]
  },
  {
   "cell_type": "code",
   "execution_count": 28,
   "id": "b347362f-4847-4a86-89b4-bdc8b4172410",
   "metadata": {},
   "outputs": [],
   "source": [
    "data_collator = DataCollatorCTCWithPadding(processor=processor)"
   ]
  },
  {
   "cell_type": "code",
   "execution_count": 29,
   "id": "38e06adc-42bf-4c6e-be51-8fda9f07b0b1",
   "metadata": {},
   "outputs": [
    {
     "data": {
      "text/plain": [
       "65"
      ]
     },
     "execution_count": 29,
     "metadata": {},
     "output_type": "execute_result"
    }
   ],
   "source": [
    "len(tokenizer)"
   ]
  },
  {
   "cell_type": "code",
   "execution_count": 30,
   "id": "d93beba5-eb76-41b1-a5c7-5422ed4564ad",
   "metadata": {},
   "outputs": [],
   "source": [
    "wer_metric = evaluate.load(\"wer\")"
   ]
  },
  {
   "cell_type": "code",
   "execution_count": 31,
   "id": "9dc1518c-f866-4482-b93d-e8e4537a2bb7",
   "metadata": {},
   "outputs": [],
   "source": [
    "train_dataset = SprintDataset(train_df, processor, train_ac)\n",
    "test_dataset = SprintDataset(valid_df, processor, test_ac)"
   ]
  },
  {
   "cell_type": "code",
   "execution_count": 32,
   "id": "daf43c5f-b6d4-4eb3-9d35-13c2f9ad2f9d",
   "metadata": {},
   "outputs": [],
   "source": [
    "def compute_metrics(pred):\n",
    "    pred_logits = pred.predictions\n",
    "    pred_ids = np.argmax(pred_logits, axis=-1)\n",
    "\n",
    "    pred.label_ids[pred.label_ids == -100] = processor.tokenizer.pad_token_id\n",
    "\n",
    "    pred_str = processor.batch_decode(pred_ids)\n",
    "    # we do not want to group tokens when computing the metrics\n",
    "    label_str = processor.batch_decode(pred.label_ids, group_tokens=False)\n",
    "\n",
    "    wer = wer_metric.compute(predictions=pred_str, references=label_str)\n",
    "\n",
    "    return {\"wer\": wer}"
   ]
  },
  {
   "cell_type": "markdown",
   "id": "2ada5ffc-cd2d-4036-a62b-9948ca1351e0",
   "metadata": {},
   "source": [
    "# Training ensemble"
   ]
  },
  {
   "cell_type": "code",
   "execution_count": 36,
   "id": "33448e25-6720-4893-94e9-35336c480e5e",
   "metadata": {},
   "outputs": [],
   "source": [
    "from torch.nn import TransformerEncoder, TransformerEncoderLayer\n",
    "from transformers import Wav2Vec2FeatureExtractor, Wav2Vec2Model\n",
    "from transformers.modeling_outputs import (\n",
    "    BaseModelOutput,\n",
    "    CausalLMOutput,\n",
    "    MaskedLMOutput,\n",
    "    SequenceClassifierOutput,\n",
    "    TokenClassifierOutput,\n",
    "    Wav2Vec2BaseModelOutput,\n",
    "    XVectorOutput,\n",
    ")\n",
    "\n",
    "from torch.utils.checkpoint import checkpoint_sequential"
   ]
  },
  {
   "cell_type": "code",
   "execution_count": 37,
   "id": "92614c66-9391-4711-895c-d5e28e1c1b07",
   "metadata": {
    "tags": []
   },
   "outputs": [
    {
     "name": "stderr",
     "output_type": "stream",
     "text": [
      "/usr/local/lib/python3.9/dist-packages/torch/nn/utils/weight_norm.py:30: UserWarning: torch.nn.utils.weight_norm is deprecated in favor of torch.nn.utils.parametrizations.weight_norm.\n",
      "  warnings.warn(\"torch.nn.utils.weight_norm is deprecated in favor of torch.nn.utils.parametrizations.weight_norm.\")\n",
      "Some weights of the model checkpoint at /notebooks/experiments/v35_210k were not used when initializing Wav2Vec2Model: ['lm_head.bias', 'lm_head.weight']\n",
      "- This IS expected if you are initializing Wav2Vec2Model from the checkpoint of a model trained on another task or with another architecture (e.g. initializing a BertForSequenceClassification model from a BertForPreTraining model).\n",
      "- This IS NOT expected if you are initializing Wav2Vec2Model from the checkpoint of a model that you expect to be exactly identical (initializing a BertForSequenceClassification model from a BertForSequenceClassification model).\n"
     ]
    },
    {
     "name": "stdout",
     "output_type": "stream",
     "text": [
      "\n"
     ]
    }
   ],
   "source": [
    "model1 = Wav2Vec2Model.from_pretrained(\"/notebooks/experiments/v35_210k\")\n",
    "print(\"\")"
   ]
  },
  {
   "cell_type": "code",
   "execution_count": 38,
   "id": "e698fdf5-b3ad-4435-8162-3b6f38ec9054",
   "metadata": {},
   "outputs": [
    {
     "name": "stderr",
     "output_type": "stream",
     "text": [
      "Some weights of the model checkpoint at /notebooks/experiments/v32_130k were not used when initializing Wav2Vec2Model: ['lm_head.bias', 'lm_head.weight']\n",
      "- This IS expected if you are initializing Wav2Vec2Model from the checkpoint of a model trained on another task or with another architecture (e.g. initializing a BertForSequenceClassification model from a BertForPreTraining model).\n",
      "- This IS NOT expected if you are initializing Wav2Vec2Model from the checkpoint of a model that you expect to be exactly identical (initializing a BertForSequenceClassification model from a BertForSequenceClassification model).\n"
     ]
    },
    {
     "name": "stdout",
     "output_type": "stream",
     "text": [
      "\n"
     ]
    }
   ],
   "source": [
    "model2 = Wav2Vec2Model.from_pretrained(\"/notebooks/experiments/v32_130k\")\n",
    "print(\"\")"
   ]
  },
  {
   "cell_type": "code",
   "execution_count": 39,
   "id": "3530a4e4-b986-480f-8ebc-e7ae85418246",
   "metadata": {
    "tags": []
   },
   "outputs": [],
   "source": [
    "debug = False\n",
    "\n",
    "if debug:\n",
    "\n",
    "    test_loader =  torch.utils.data.DataLoader(train_dataset,\n",
    "                                 batch_size=1,\n",
    "                                 shuffle=False)\n",
    "\n",
    "    sample = next(iter(test_loader))\n",
    "    \n",
    "    res = model1(input_values=sample['input_values'], output_hidden_states=True)\n",
    "    res2 = model2(input_values=sample['input_values'], output_hidden_states=True)"
   ]
  },
  {
   "cell_type": "code",
   "execution_count": 42,
   "id": "a94a238f-931a-42b7-8485-9e13d4562408",
   "metadata": {},
   "outputs": [],
   "source": [
    "class CustomModel(nn.Module):\n",
    "    def __init__(self, model1, model2):\n",
    "        super().__init__()\n",
    "        self.model1 = self.freeze_model(model1)\n",
    "        self.model2 = self.freeze_model(model2)\n",
    "        self.encoder_layers = nn.TransformerEncoderLayer(d_model=1024+1280, nhead=6)\n",
    "        self.transformer_encoder = nn.TransformerEncoder(self.encoder_layers, num_layers=2)\n",
    "        self.lm_head = nn.Linear(1024+1280, len(processor.tokenizer))\n",
    "        self.config = self.model1.config\n",
    "\n",
    "    def freeze_model(self, model):\n",
    "        for param in model.parameters():\n",
    "            param.requires_grad = False\n",
    "        return model\n",
    "\n",
    "    def forward(self, input_values, labels=None, **kwargs):\n",
    "\n",
    "        with torch.no_grad():\n",
    "            feature1 = self.model1(input_values=input_values, output_hidden_states=True).last_hidden_state\n",
    "            feature2 = self.model2(input_values=input_values, output_hidden_states=True).last_hidden_state\n",
    "\n",
    "        concatenated_features = torch.cat((feature1, feature2), dim=-1)\n",
    "        \n",
    "        encoded_features = self.transformer_encoder(concatenated_features)\n",
    "        logits = self.lm_head(encoded_features)\n",
    "\n",
    "        loss = None\n",
    "        \n",
    "        attention_mask = torch.ones_like(input_values, dtype=torch.long)\n",
    "        input_lengths = self.model1._get_feat_extract_output_lengths(attention_mask.sum(-1)).to(torch.long)\n",
    "\n",
    "        labels_mask = labels >= 0\n",
    "        target_lengths = labels_mask.sum(-1)\n",
    "        flattened_targets = labels.masked_select(labels_mask)\n",
    "\n",
    "        log_probs = nn.functional.log_softmax(logits, dim=-1, dtype=torch.float32).transpose(0, 1)\n",
    "\n",
    "        loss = nn.functional.ctc_loss(\n",
    "            log_probs,\n",
    "            flattened_targets,\n",
    "            input_lengths,\n",
    "            target_lengths,\n",
    "            blank=62,\n",
    "            reduction='mean',\n",
    "            zero_infinity=True,\n",
    "        )\n",
    "\n",
    "        return {'loss': loss, 'logits': logits}"
   ]
  },
  {
   "cell_type": "code",
   "execution_count": 44,
   "id": "bbb982e3-8d7c-4180-9cb6-054101bf6c02",
   "metadata": {},
   "outputs": [
    {
     "name": "stderr",
     "output_type": "stream",
     "text": [
      "/usr/local/lib/python3.9/dist-packages/torch/nn/modules/transformer.py:282: UserWarning: enable_nested_tensor is True, but self.use_nested_tensor is False because encoder_layer.self_attn.batch_first was not True(use batch_first for better inference performance)\n",
      "  warnings.warn(f\"enable_nested_tensor is True, but self.use_nested_tensor is False because {why_not_sparsity_fast_path}\")\n"
     ]
    }
   ],
   "source": [
    "new_model = CustomModel(model1, model2)"
   ]
  },
  {
   "cell_type": "code",
   "execution_count": 45,
   "id": "5903e519-2fd8-435f-b157-e0b8731b310c",
   "metadata": {},
   "outputs": [
    {
     "name": "stdout",
     "output_type": "stream",
     "text": [
      "\n"
     ]
    }
   ],
   "source": [
    "new_model.to('cuda:0')\n",
    "print(\"\")"
   ]
  },
  {
   "cell_type": "code",
   "execution_count": 46,
   "id": "f4fe5d69-146e-4f1a-82db-af2b4beb7449",
   "metadata": {},
   "outputs": [
    {
     "name": "stderr",
     "output_type": "stream",
     "text": [
      "Using cuda_amp half precision backend\n"
     ]
    }
   ],
   "source": [
    "trainer = Trainer(\n",
    "    model=new_model,\n",
    "    data_collator=data_collator,\n",
    "    args=Config.trainer,\n",
    "    compute_metrics=compute_metrics,\n",
    "    train_dataset=train_dataset,\n",
    "    eval_dataset=test_dataset,   \n",
    "    tokenizer=processor.feature_extractor,\n",
    "    callbacks=[transformers.EarlyStoppingCallback(early_stopping_patience=Config.early_stopping_patience)],\n",
    ")"
   ]
  },
  {
   "cell_type": "code",
   "execution_count": 47,
   "id": "4845368a-2f11-4a33-a8b9-9921370794a5",
   "metadata": {
    "tags": []
   },
   "outputs": [
    {
     "name": "stderr",
     "output_type": "stream",
     "text": [
      "/usr/local/lib/python3.9/dist-packages/transformers/optimization.py:306: FutureWarning: This implementation of AdamW is deprecated and will be removed in a future version. Use the PyTorch implementation torch.optim.AdamW instead, or set `no_deprecation_warning=True` to disable this warning\n",
      "  warnings.warn(\n",
      "***** Running training *****\n",
      "  Num examples = 373577\n",
      "  Num Epochs = 10\n",
      "  Instantaneous batch size per device = 8\n",
      "  Total train batch size (w. parallel, distributed & accumulation) = 8\n",
      "  Gradient Accumulation steps = 1\n",
      "  Total optimization steps = 466980\n",
      "Automatic Weights & Biases logging enabled, to disable set os.environ[\"WANDB_DISABLED\"] = \"true\"\n",
      "\u001b[34m\u001b[1mwandb\u001b[0m: Currently logged in as: \u001b[33mbd317\u001b[0m. Use \u001b[1m`wandb login --relogin`\u001b[0m to force relogin\n"
     ]
    },
    {
     "data": {
      "text/html": [
       "wandb version 0.15.12 is available!  To upgrade, please run:\n",
       " $ pip install wandb --upgrade"
      ],
      "text/plain": [
       "<IPython.core.display.HTML object>"
      ]
     },
     "metadata": {},
     "output_type": "display_data"
    },
    {
     "data": {
      "text/html": [
       "Tracking run with wandb version 0.13.4"
      ],
      "text/plain": [
       "<IPython.core.display.HTML object>"
      ]
     },
     "metadata": {},
     "output_type": "display_data"
    },
    {
     "data": {
      "text/html": [
       "Run data is saved locally in <code>/notebooks/experiments/wandb/run-20231016_190823-2zry7i8i</code>"
      ],
      "text/plain": [
       "<IPython.core.display.HTML object>"
      ]
     },
     "metadata": {},
     "output_type": "display_data"
    },
    {
     "data": {
      "text/html": [
       "Syncing run <strong><a href=\"https://wandb.ai/bd317/huggingface/runs/2zry7i8i\" target=\"_blank\">runs/wav2vec_indic_v34</a></strong> to <a href=\"https://wandb.ai/bd317/huggingface\" target=\"_blank\">Weights & Biases</a> (<a href=\"https://wandb.me/run\" target=\"_blank\">docs</a>)<br/>"
      ],
      "text/plain": [
       "<IPython.core.display.HTML object>"
      ]
     },
     "metadata": {},
     "output_type": "display_data"
    },
    {
     "data": {
      "text/html": [
       "\n",
       "    <div>\n",
       "      \n",
       "      <progress value='9000' max='466980' style='width:300px; height:20px; vertical-align: middle;'></progress>\n",
       "      [  9000/466980 1:08:32 < 58:08:13, 2.19 it/s, Epoch 0/10]\n",
       "    </div>\n",
       "    <table border=\"1\" class=\"dataframe\">\n",
       "  <thead>\n",
       " <tr style=\"text-align: left;\">\n",
       "      <th>Step</th>\n",
       "      <th>Training Loss</th>\n",
       "      <th>Validation Loss</th>\n",
       "      <th>Wer</th>\n",
       "    </tr>\n",
       "  </thead>\n",
       "  <tbody>\n",
       "    <tr>\n",
       "      <td>1000</td>\n",
       "      <td>2.021800</td>\n",
       "      <td>0.068197</td>\n",
       "      <td>0.100452</td>\n",
       "    </tr>\n",
       "    <tr>\n",
       "      <td>2000</td>\n",
       "      <td>0.132900</td>\n",
       "      <td>0.065643</td>\n",
       "      <td>0.096494</td>\n",
       "    </tr>\n",
       "    <tr>\n",
       "      <td>3000</td>\n",
       "      <td>0.128600</td>\n",
       "      <td>0.065213</td>\n",
       "      <td>0.099887</td>\n",
       "    </tr>\n",
       "    <tr>\n",
       "      <td>4000</td>\n",
       "      <td>0.126100</td>\n",
       "      <td>0.064076</td>\n",
       "      <td>0.095957</td>\n",
       "    </tr>\n",
       "    <tr>\n",
       "      <td>5000</td>\n",
       "      <td>0.119900</td>\n",
       "      <td>0.063970</td>\n",
       "      <td>0.094770</td>\n",
       "    </tr>\n",
       "    <tr>\n",
       "      <td>6000</td>\n",
       "      <td>0.116900</td>\n",
       "      <td>0.063112</td>\n",
       "      <td>0.092847</td>\n",
       "    </tr>\n",
       "    <tr>\n",
       "      <td>7000</td>\n",
       "      <td>0.123200</td>\n",
       "      <td>0.063515</td>\n",
       "      <td>0.093073</td>\n",
       "    </tr>\n",
       "    <tr>\n",
       "      <td>8000</td>\n",
       "      <td>0.119700</td>\n",
       "      <td>0.064042</td>\n",
       "      <td>0.095052</td>\n",
       "    </tr>\n",
       "    <tr>\n",
       "      <td>9000</td>\n",
       "      <td>0.117400</td>\n",
       "      <td>0.064434</td>\n",
       "      <td>0.094911</td>\n",
       "    </tr>\n",
       "  </tbody>\n",
       "</table><p>"
      ],
      "text/plain": [
       "<IPython.core.display.HTML object>"
      ]
     },
     "metadata": {},
     "output_type": "display_data"
    },
    {
     "name": "stderr",
     "output_type": "stream",
     "text": [
      "/usr/local/lib/python3.9/dist-packages/wandb/wandb_torch.py:193: UserWarning: The torch.cuda.*DtypeTensor constructors are no longer recommended. It's best to use methods such as torch.tensor(data, dtype=*, device='cuda') to create tensors. (Triggered internally at ../torch/csrc/tensor/python_tensor.cpp:83.)\n",
      "  check = torch.cuda.FloatTensor(1).fill_(0)\n",
      "***** Running Evaluation *****\n",
      "  Num examples = 3836\n",
      "  Batch size = 4\n",
      "Saving model checkpoint to runs/wav2vec_indic_v34/checkpoint-1000\n",
      "Trainer.model is not a `PreTrainedModel`, only saving its state dict.\n",
      "Feature extractor saved in runs/wav2vec_indic_v34/checkpoint-1000/preprocessor_config.json\n",
      "***** Running Evaluation *****\n",
      "  Num examples = 3836\n",
      "  Batch size = 4\n",
      "Saving model checkpoint to runs/wav2vec_indic_v34/checkpoint-2000\n",
      "Trainer.model is not a `PreTrainedModel`, only saving its state dict.\n",
      "Feature extractor saved in runs/wav2vec_indic_v34/checkpoint-2000/preprocessor_config.json\n",
      "***** Running Evaluation *****\n",
      "  Num examples = 3836\n",
      "  Batch size = 4\n",
      "Saving model checkpoint to runs/wav2vec_indic_v34/checkpoint-3000\n",
      "Trainer.model is not a `PreTrainedModel`, only saving its state dict.\n",
      "Feature extractor saved in runs/wav2vec_indic_v34/checkpoint-3000/preprocessor_config.json\n",
      "***** Running Evaluation *****\n",
      "  Num examples = 3836\n",
      "  Batch size = 4\n",
      "Saving model checkpoint to runs/wav2vec_indic_v34/checkpoint-4000\n",
      "Trainer.model is not a `PreTrainedModel`, only saving its state dict.\n",
      "Feature extractor saved in runs/wav2vec_indic_v34/checkpoint-4000/preprocessor_config.json\n",
      "***** Running Evaluation *****\n",
      "  Num examples = 3836\n",
      "  Batch size = 4\n",
      "Saving model checkpoint to runs/wav2vec_indic_v34/checkpoint-5000\n",
      "Trainer.model is not a `PreTrainedModel`, only saving its state dict.\n",
      "Feature extractor saved in runs/wav2vec_indic_v34/checkpoint-5000/preprocessor_config.json\n",
      "***** Running Evaluation *****\n",
      "  Num examples = 3836\n",
      "  Batch size = 4\n",
      "Saving model checkpoint to runs/wav2vec_indic_v34/checkpoint-6000\n",
      "Trainer.model is not a `PreTrainedModel`, only saving its state dict.\n",
      "Feature extractor saved in runs/wav2vec_indic_v34/checkpoint-6000/preprocessor_config.json\n",
      "***** Running Evaluation *****\n",
      "  Num examples = 3836\n",
      "  Batch size = 4\n",
      "Saving model checkpoint to runs/wav2vec_indic_v34/checkpoint-7000\n",
      "Trainer.model is not a `PreTrainedModel`, only saving its state dict.\n",
      "Feature extractor saved in runs/wav2vec_indic_v34/checkpoint-7000/preprocessor_config.json\n",
      "***** Running Evaluation *****\n",
      "  Num examples = 3836\n",
      "  Batch size = 4\n",
      "Saving model checkpoint to runs/wav2vec_indic_v34/checkpoint-8000\n",
      "Trainer.model is not a `PreTrainedModel`, only saving its state dict.\n",
      "Feature extractor saved in runs/wav2vec_indic_v34/checkpoint-8000/preprocessor_config.json\n",
      "***** Running Evaluation *****\n",
      "  Num examples = 3836\n",
      "  Batch size = 4\n",
      "Saving model checkpoint to runs/wav2vec_indic_v34/checkpoint-9000\n",
      "Trainer.model is not a `PreTrainedModel`, only saving its state dict.\n",
      "Feature extractor saved in runs/wav2vec_indic_v34/checkpoint-9000/preprocessor_config.json\n",
      "\n",
      "\n",
      "Training completed. Do not forget to share your model on huggingface.co/models =)\n",
      "\n",
      "\n",
      "Loading best model from runs/wav2vec_indic_v34/checkpoint-6000 (score: 0.06311243027448654).\n"
     ]
    },
    {
     "data": {
      "text/plain": [
       "TrainOutput(global_step=9000, training_loss=0.3340475082397461, metrics={'train_runtime': 4117.221, 'train_samples_per_second': 907.352, 'train_steps_per_second': 113.421, 'total_flos': 0.0, 'train_loss': 0.3340475082397461, 'epoch': 0.19})"
      ]
     },
     "execution_count": 47,
     "metadata": {},
     "output_type": "execute_result"
    }
   ],
   "source": [
    "trainer.train()"
   ]
  }
 ],
 "metadata": {
  "kernelspec": {
   "display_name": "Python 3 (ipykernel)",
   "language": "python",
   "name": "python3"
  },
  "language_info": {
   "codemirror_mode": {
    "name": "ipython",
    "version": 3
   },
   "file_extension": ".py",
   "mimetype": "text/x-python",
   "name": "python",
   "nbconvert_exporter": "python",
   "pygments_lexer": "ipython3",
   "version": "3.10.12"
  }
 },
 "nbformat": 4,
 "nbformat_minor": 5
}
