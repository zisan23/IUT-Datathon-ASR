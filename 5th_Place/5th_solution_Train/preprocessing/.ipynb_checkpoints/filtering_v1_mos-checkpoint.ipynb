{
 "cells": [
  {
   "cell_type": "code",
   "execution_count": 10,
   "id": "a93efc2a-469f-4368-9e04-5420c76d888d",
   "metadata": {},
   "outputs": [],
   "source": [
    "import pandas as pd\n",
    "import numpy as np\n",
    "import librosa\n",
    "from datasets import Dataset, Audio\n",
    "from datasets import load_dataset, DatasetDict, load_from_disk\n",
    "\n",
    "import torch\n",
    "\n",
    "from dataclasses import dataclass\n",
    "from typing import Any, Dict, List, Union\n",
    "\n",
    "import evaluate\n",
    "\n",
    "from transformers import WhisperTokenizer\n",
    "from transformers import Seq2SeqTrainer\n",
    "from transformers import WhisperFeatureExtractor\n",
    "from transformers import WhisperProcessor\n",
    "from transformers import WhisperForConditionalGeneration\n",
    "from transformers import Seq2SeqTrainingArguments\n",
    "from transformers import (\n",
    "    AutoConfig,\n",
    "    AutoFeatureExtractor,\n",
    "    AutoModelForSpeechSeq2Seq,\n",
    "    AutoProcessor,\n",
    "    AutoTokenizer,\n",
    "    HfArgumentParser,\n",
    "    Seq2SeqTrainer,\n",
    "    Seq2SeqTrainingArguments,\n",
    "    set_seed,\n",
    ")"
   ]
  },
  {
   "cell_type": "code",
   "execution_count": 11,
   "id": "25bc9489-8564-4d9a-8368-a83910564849",
   "metadata": {},
   "outputs": [],
   "source": [
    "config = {\n",
    "    'language':'Bengali',\n",
    "    'base_model' : \"anuragshas/whisper-large-v2-bn\",\n",
    "    'sr':16000,\n",
    "    'samples':500000,\n",
    "    'test_size':4000,\n",
    "    'load_ds':False\n",
    "}"
   ]
  },
  {
   "cell_type": "code",
   "execution_count": 12,
   "id": "019faadd-ccbb-4068-954f-d6dc73ed570a",
   "metadata": {},
   "outputs": [],
   "source": [
    "df = pd.read_csv(\"../data/train.csv\")"
   ]
  },
  {
   "cell_type": "code",
   "execution_count": 13,
   "id": "706c4f07-bb09-4eb3-b94c-e7721e0f5d3d",
   "metadata": {},
   "outputs": [],
   "source": [
    "df_qa = pd.read_csv('../data/NISQA_wavfiles.csv')\n",
    "df_qa.rename(columns={'deg':'id'},inplace=True)\n",
    "df_qa['id'] = df_qa['id'].apply(lambda x:x.split('.')[0])\n",
    "df_qa.sort_values('mos_pred',ascending=True,inplace=True)"
   ]
  },
  {
   "cell_type": "code",
   "execution_count": 14,
   "id": "91de39a3-b524-44be-9643-365610ade7ca",
   "metadata": {},
   "outputs": [],
   "source": [
    "df = df.merge(df_qa[['id','mos_pred']], how='left')"
   ]
  },
  {
   "cell_type": "code",
   "execution_count": 16,
   "id": "c87ee69a-4c93-4d73-9def-c189d56aedff",
   "metadata": {},
   "outputs": [],
   "source": [
    "df = df.loc[df['mos_pred'] > 2.].reset_index(drop=True)"
   ]
  },
  {
   "cell_type": "code",
   "execution_count": 17,
   "id": "68f186c8-910f-428a-ad95-874a1af7afbd",
   "metadata": {},
   "outputs": [
    {
     "data": {
      "text/plain": [
       "338675"
      ]
     },
     "execution_count": 17,
     "metadata": {},
     "output_type": "execute_result"
    }
   ],
   "source": [
    "all_single_sentences = list(set(df['sentence'].tolist()))\n",
    "len(all_single_sentences)"
   ]
  },
  {
   "cell_type": "code",
   "execution_count": 18,
   "id": "d56b2ceb-b6a6-49b7-a34b-c5cc2fc43502",
   "metadata": {},
   "outputs": [],
   "source": [
    "sentence_dict = {}\n",
    "unique_id = 0\n",
    "result = {}\n",
    "\n",
    "for idx, sentence in enumerate(all_single_sentences):\n",
    "    if sentence not in sentence_dict:\n",
    "        sentence_dict[sentence] = unique_id\n",
    "        result[unique_id] = [idx]\n",
    "        unique_id += 1\n",
    "    else:\n",
    "        result[sentence_dict[sentence]].append(idx)"
   ]
  },
  {
   "cell_type": "code",
   "execution_count": 34,
   "id": "9917ee96-a50c-4e53-ace5-8e83e8e68d6c",
   "metadata": {},
   "outputs": [],
   "source": [
    "df['sentence_ids'] = df['sentence'].apply(lambda x: sentence_dict[x])"
   ]
  },
  {
   "cell_type": "code",
   "execution_count": 35,
   "id": "114ea2e8-379f-415b-9fc5-18ab7e86800f",
   "metadata": {},
   "outputs": [
    {
     "data": {
      "text/plain": [
       "<AxesSubplot:>"
      ]
     },
     "execution_count": 35,
     "metadata": {},
     "output_type": "execute_result"
    },
    {
     "data": {
      "image/png": "[encoded data removed]",
      "text/plain": [
       "<Figure size 432x288 with 1 Axes>"
      ]
     },
     "metadata": {
      "needs_background": "light"
     },
     "output_type": "display_data"
    }
   ],
   "source": [
    "df['sentence_ids'].value_counts().hist()"
   ]
  },
  {
   "cell_type": "code",
   "execution_count": 36,
   "id": "10c9ae64-3a20-4a0f-ba95-f854fbbca1fe",
   "metadata": {},
   "outputs": [
    {
     "data": {
      "text/plain": [
       "1.2447823319705897"
      ]
     },
     "execution_count": 36,
     "metadata": {},
     "output_type": "execute_result"
    }
   ],
   "source": [
    "df['sentence_ids'].value_counts().mean()"
   ]
  },
  {
   "cell_type": "code",
   "execution_count": 37,
   "id": "4cbece0b-d8e8-4050-b870-b98a2d5126e0",
   "metadata": {
    "tags": []
   },
   "outputs": [],
   "source": [
    "import random\n",
    "random.seed(42)\n",
    "val_ids = random.sample(list(df['sentence_ids'].unique()), 3000)"
   ]
  },
  {
   "cell_type": "code",
   "execution_count": 38,
   "id": "2578feb1-4575-4fa9-accc-74e59353cab6",
   "metadata": {},
   "outputs": [],
   "source": [
    "df['split_own'] = 'train'"
   ]
  },
  {
   "cell_type": "code",
   "execution_count": 39,
   "id": "8bc695f4-050d-454f-b29d-6c22abeed507",
   "metadata": {},
   "outputs": [],
   "source": [
    "df.loc[df['sentence_ids'].isin(val_ids), 'split_own'] = 'val'"
   ]
  },
  {
   "cell_type": "code",
   "execution_count": 40,
   "id": "202761f0-bc12-4ca7-98b1-e88e0931466f",
   "metadata": {},
   "outputs": [],
   "source": [
    "crosscheck_list = list(set(df.loc[df['split_own'] == 'val']['sentence']))"
   ]
  },
  {
   "cell_type": "code",
   "execution_count": 41,
   "id": "8a0a9d88-f239-4373-aae9-aee80b2f940d",
   "metadata": {},
   "outputs": [
    {
     "data": {
      "text/plain": [
       "val    3781\n",
       "Name: split_own, dtype: int64"
      ]
     },
     "execution_count": 41,
     "metadata": {},
     "output_type": "execute_result"
    }
   ],
   "source": [
    "df.loc[df['sentence'].isin(crosscheck_list)]['split_own'].value_counts()"
   ]
  },
  {
   "cell_type": "code",
   "execution_count": 42,
   "id": "d9825a38-7ac2-44b5-9349-287c4220dbaa",
   "metadata": {},
   "outputs": [],
   "source": [
    "test = df.loc[df['split_own'] == 'val']\n",
    "train = df.loc[df['split_own'] == 'train']"
   ]
  },
  {
   "cell_type": "code",
   "execution_count": 43,
   "id": "cfe55cbd-3f2a-47a8-9787-4797dd343601",
   "metadata": {},
   "outputs": [
    {
     "name": "stdout",
     "output_type": "stream",
     "text": [
      "315009\n",
      "3781\n"
     ]
    }
   ],
   "source": [
    "train = train.reset_index(drop=True)\n",
    "test = test.reset_index(drop=True)\n",
    "print(len(train))\n",
    "print(len(test))"
   ]
  },
  {
   "cell_type": "code",
   "execution_count": 44,
   "id": "5370ec8e-2d30-4f13-9d7a-1e291ff232af",
   "metadata": {},
   "outputs": [
    {
     "data": {
      "text/plain": [
       "318790"
      ]
     },
     "execution_count": 44,
     "metadata": {},
     "output_type": "execute_result"
    }
   ],
   "source": [
    "len(df)"
   ]
  },
  {
   "cell_type": "code",
   "execution_count": 45,
   "id": "b31dac25-f036-4c33-b886-c3c18b10f843",
   "metadata": {},
   "outputs": [],
   "source": [
    "train['path'] = train['id'] + \".mp3\"\n",
    "test['path'] = test['id'] + \".mp3\""
   ]
  },
  {
   "cell_type": "code",
   "execution_count": 46,
   "id": "f36af2fb-e7cd-4356-90c5-12cf523d1fbb",
   "metadata": {},
   "outputs": [],
   "source": [
    "test.to_csv(\"../data/val_v20.csv\",index=False)\n",
    "train.to_csv(\"../data/train_v20.csv\",index=False)"
   ]
  }
 ],
 "metadata": {
  "kernelspec": {
   "display_name": "Python 3 (ipykernel)",
   "language": "python",
   "name": "python3"
  },
  "language_info": {
   "codemirror_mode": {
    "name": "ipython",
    "version": 3
   },
   "file_extension": ".py",
   "mimetype": "text/x-python",
   "name": "python",
   "nbconvert_exporter": "python",
   "pygments_lexer": "ipython3",
   "version": "3.10.12"
  }
 },
 "nbformat": 4,
 "nbformat_minor": 5
}
