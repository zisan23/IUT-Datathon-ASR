{
 "cells": [
  {
   "cell_type": "code",
   "execution_count": 1,
   "id": "379d084b-785f-4fb3-bfbc-07e63e4e7481",
   "metadata": {},
   "outputs": [],
   "source": [
    "import pandas as pd\n",
    "import resource\n",
    "import os\n",
    "import pandas as pd\n",
    "from bnunicodenormalizer import Normalizer\n",
    "\n",
    "import pyctcdecode\n",
    "\n",
    "from transformers import pipeline\n",
    "from transformers import Wav2Vec2CTCTokenizer, Wav2Vec2FeatureExtractor, Wav2Vec2Processor,Wav2Vec2ProcessorWithLM\n",
    "from transformers import Wav2Vec2ForCTC\n",
    "\n",
    "import librosa\n",
    "\n",
    "from torch.utils.data import DataLoader\n",
    "from tqdm import tqdm\n",
    "from transformers import Wav2Vec2Processor, Wav2Vec2ForCTC\n",
    "import torch\n",
    "\n",
    "import pytorch_lightning\n",
    "import random\n",
    "random.seed(42)\n",
    "\n",
    "bnorm = Normalizer()\n",
    "def normalize(sen):\n",
    "    _words = [bnorm(word)['normalized']  for word in sen.split()]\n",
    "    return \" \".join([word for word in _words if word is not None])"
   ]
  },
  {
   "cell_type": "code",
   "execution_count": 2,
   "id": "c0634013-e064-453e-9ecd-a617c39f31b3",
   "metadata": {},
   "outputs": [],
   "source": [
    "def dari(sentence):\n",
    "    try:\n",
    "        if sentence[-1]!=\"।\":\n",
    "            sentence+=\"।\"\n",
    "    except:\n",
    "        pass\n",
    "    return sentence"
   ]
  },
  {
   "cell_type": "code",
   "execution_count": 3,
   "id": "7da51953-ce1d-4494-8298-2b7dc5a21fd4",
   "metadata": {},
   "outputs": [],
   "source": [
    "class W2v2Dataset(torch.utils.data.Dataset):\n",
    "    def __init__(self, paths):\n",
    "        self.paths = paths\n",
    "\n",
    "    def __getitem__(self, idx):\n",
    "        apath = self.paths[idx]\n",
    "        #print(apath)\n",
    "        waveform, sample_rate = librosa.load(f\"../data/train_mp3s/{apath}.mp3\", sr=16000)\n",
    "        audio = processor(waveform, sampling_rate=sample_rate).input_values[0]   \n",
    "        \n",
    "        id_name = self.paths[idx]#.replace('.mp3','')\n",
    "        \n",
    "        return audio, id_name\n",
    "\n",
    "    def __len__(self):\n",
    "        return len(self.paths)"
   ]
  },
  {
   "cell_type": "code",
   "execution_count": 4,
   "id": "37ea2fcb-8f33-48f5-9d58-05d1d550a945",
   "metadata": {
    "tags": []
   },
   "outputs": [
    {
     "name": "stdout",
     "output_type": "stream",
     "text": [
      "\n"
     ]
    }
   ],
   "source": [
    "processor = Wav2Vec2Processor.from_pretrained(\"../experiments/v7_5_3_2/processor\")\n",
    "model = Wav2Vec2ForCTC.from_pretrained(\"../experiments/v7_5_3_2/checkpoint-1000\")\n",
    "model.to('cuda:0')\n",
    "print(\"\")"
   ]
  },
  {
   "cell_type": "code",
   "execution_count": 5,
   "id": "439f0587-130d-407c-bebc-864a9f02884c",
   "metadata": {},
   "outputs": [],
   "source": [
    "train_df = pd.read_csv(\"../data/train.csv\")"
   ]
  },
  {
   "cell_type": "code",
   "execution_count": 6,
   "id": "32726040-d192-49c1-82e4-b6e68e8cb9d7",
   "metadata": {},
   "outputs": [],
   "source": [
    "all_train_files = train_df['id'].tolist()"
   ]
  },
  {
   "cell_type": "code",
   "execution_count": 7,
   "id": "d440db77-2d73-4b0b-801f-e7e959d9e7cf",
   "metadata": {},
   "outputs": [],
   "source": [
    "train_dataset = W2v2Dataset(all_train_files)"
   ]
  },
  {
   "cell_type": "code",
   "execution_count": 8,
   "id": "327a9353-1bdf-4202-8d1c-ca733de59297",
   "metadata": {},
   "outputs": [],
   "source": [
    "test_loader = DataLoader(train_dataset,\n",
    "                             batch_size=1,\n",
    "                             shuffle=False,\n",
    "                             num_workers=os.cpu_count())"
   ]
  },
  {
   "cell_type": "code",
   "execution_count": null,
   "id": "7c058f17-2497-4d06-bb46-4709b5b6316a",
   "metadata": {},
   "outputs": [
    {
     "name": "stderr",
     "output_type": "stream",
     "text": [
      "  0%|                                                | 0/963636 [00:00<?, ?it/s]/home/benedikt/.local/lib/python3.10/site-packages/torch/nn/modules/conv.py:309: UserWarning: Applied workaround for CuDNN issue, install nvrtc.so (Triggered internally at ../aten/src/ATen/native/cudnn/Conv_v8.cpp:80.)\n",
      "  return F.conv1d(input, weight, bias, self.stride,\n",
      "  0%|                                     | 61/963636 [00:03<7:23:24, 36.22it/s]"
     ]
    }
   ],
   "source": [
    "device = 'cuda:0'\n",
    "ids = []\n",
    "predictions = []\n",
    "for i, (aud, id_n) in enumerate(tqdm(test_loader)):\n",
    "    aud = aud.to(device)\n",
    "    logits = model(aud).logits\n",
    "    predicted_ids = torch.argmax(logits, dim=-1)\n",
    "    transcription = processor.decode(predicted_ids[0])\n",
    "    \n",
    "    transcription = transcription.replace('[UNK]', '').replace('[PAD]', '')\n",
    "    transcription = dari(normalize(transcription))\n",
    "    \n",
    "    ids.append(id_n[0])\n",
    "    predictions.append(transcription)\n",
    "    \n",
    "    #if i == 10000:\n",
    "    #    print(f\"{i} samples are processed\")"
   ]
  },
  {
   "cell_type": "code",
   "execution_count": null,
   "id": "f977469d-1247-49e2-a1be-469fb11c6cde",
   "metadata": {},
   "outputs": [],
   "source": [
    "pred_df = pd.DataFrame({\"id\":ids,\"sentence\":predictions})\n",
    "pred_df[\"sentence\"] = [x if len(x) > 0 else \"।\" for x in pred_df[\"sentence\"]]\n",
    "pred_df = pred_df.sort_values(by='id')\n",
    "pred_df.to_csv(\"../data/pseudo_label_v1.csv\", index=False)"
   ]
  },
  {
   "cell_type": "code",
   "execution_count": null,
   "id": "aefbc0ce-760c-4a51-8934-8df3757ca21f",
   "metadata": {},
   "outputs": [],
   "source": [
    "del model, processor"
   ]
  },
  {
   "cell_type": "code",
   "execution_count": null,
   "id": "e5dc481f-c719-4eba-9147-3519e5a0596a",
   "metadata": {},
   "outputs": [],
   "source": [
    "device = 'cuda:0'\n",
    "ids = []\n",
    "predictions = []\n",
    "for i, (aud, id_n) in enumerate(tqdm(test_loader)):\n",
    "    aud = aud.to(device)\n",
    "    logits = model(aud).logits\n",
    "    predicted_ids = torch.argmax(logits, dim=-1)\n",
    "    transcription = processor.decode(predicted_ids[0])\n",
    "    \n",
    "    transcription = transcription.replace('[UNK]', '').replace('[PAD]', '')\n",
    "    transcription = dari(normalize(transcription))\n",
    "    \n",
    "    ids.append(id_n[0])\n",
    "    predictions.append(transcription)\n",
    "    \n",
    "    #if i == 10000:\n",
    "    #    print(f\"{i} samples are processed\")"
   ]
  },
  {
   "cell_type": "code",
   "execution_count": null,
   "id": "102fa718-f430-4525-b62d-1ec9e135024c",
   "metadata": {},
   "outputs": [],
   "source": [
    "pred_df = pd.DataFrame({\"id\":ids,\"sentence\":predictions})\n",
    "pred_df[\"sentence\"] = [x if len(x) > 0 else \"।\" for x in pred_df[\"sentence\"]]\n",
    "pred_df = pred_df.sort_values(by='id')\n",
    "pred_df.to_csv(\"../data/pseudo_label_base.csv\", index=False)"
   ]
  },
  {
   "cell_type": "markdown",
   "id": "6aedfc98-c4e0-488c-8dbd-dc061561e8fd",
   "metadata": {
    "tags": []
   },
   "source": [
    "# Analyses"
   ]
  },
  {
   "cell_type": "code",
   "execution_count": 3,
   "id": "ac8dbeee-8e06-47d2-a406-5aa846e5f1ce",
   "metadata": {},
   "outputs": [],
   "source": [
    "import evaluate\n",
    "wer_metric = evaluate.load(\"wer\")"
   ]
  },
  {
   "cell_type": "code",
   "execution_count": null,
   "id": "a0b752eb-6a7b-47e8-8de9-b6a8e81c0ce8",
   "metadata": {},
   "outputs": [],
   "source": [
    "nisqa = pd.read_csv(\"../data/NISQA_wavfiles.csv\")"
   ]
  },
  {
   "cell_type": "code",
   "execution_count": null,
   "id": "050d9410-cc79-4474-8bce-7d60c5e1251c",
   "metadata": {},
   "outputs": [],
   "source": [
    "nisqa['id'] = nisqa['deg'].str[:-4]"
   ]
  },
  {
   "cell_type": "code",
   "execution_count": null,
   "id": "49a84992-182e-49bd-adc8-1e6f893fc1d8",
   "metadata": {},
   "outputs": [],
   "source": [
    "indic_base = pd.read_csv(\"../data/pseudo_label_base.csv\")\n",
    "indic_base = indic_base.rename(columns={'sentence':'pred_indic'})\n",
    "best_own = pd.read_csv(\"../data/pseudo_label_v1.csv\")\n",
    "best_own = best_own.rename(columns={'sentence':'pred_best'})"
   ]
  },
  {
   "cell_type": "code",
   "execution_count": null,
   "id": "cbad9050-b795-4b05-92f8-71cceb41fbb6",
   "metadata": {},
   "outputs": [],
   "source": [
    "train_df = train_df.merge(indic_base)\n",
    "train_df = train_df.merge(best_own)\n",
    "train_df = train_df.merge(nisqa)"
   ]
  },
  {
   "cell_type": "code",
   "execution_count": null,
   "id": "61cc555e-3da6-4bd8-a57c-38416317190c",
   "metadata": {},
   "outputs": [],
   "source": [
    "train_df['indic_wer'] = train_df.apply(lambda x: wer_metric.compute(predictions=[x['pred_indic']], references=[x['sentence']]),axis=1)"
   ]
  },
  {
   "cell_type": "code",
   "execution_count": null,
   "id": "6e47e943-3cbd-492f-8f17-aea3e7ebf121",
   "metadata": {},
   "outputs": [],
   "source": [
    "train_df['best_wer'] = train_df.apply(lambda x: wer_metric.compute(predictions=[x['pred_best']], references=[x['sentence']]),axis=1)"
   ]
  },
  {
   "cell_type": "code",
   "execution_count": null,
   "id": "4a69aac1-f0db-45d5-bcc3-c016520911c8",
   "metadata": {},
   "outputs": [],
   "source": [
    "train_df.to_pickle(\"../data/analyses_df\")"
   ]
  },
  {
   "cell_type": "markdown",
   "id": "79c4cabd-1737-4fad-8bf5-21d1a5593294",
   "metadata": {},
   "source": [
    "# Breakpoint"
   ]
  },
  {
   "cell_type": "code",
   "execution_count": 30,
   "id": "9830bba5-652e-4085-a2e9-e6f783b06c8c",
   "metadata": {},
   "outputs": [],
   "source": [
    "train_df = pd.read_pickle(\"../data/analyses_df\")"
   ]
  },
  {
   "cell_type": "code",
   "execution_count": 31,
   "id": "350a85d8-2819-4b7e-8654-59bed61f8753",
   "metadata": {},
   "outputs": [
    {
     "data": {
      "text/html": [
       "<div>\n",
       "<style scoped>\n",
       "    .dataframe tbody tr th:only-of-type {\n",
       "        vertical-align: middle;\n",
       "    }\n",
       "\n",
       "    .dataframe tbody tr th {\n",
       "        vertical-align: top;\n",
       "    }\n",
       "\n",
       "    .dataframe thead th {\n",
       "        text-align: right;\n",
       "    }\n",
       "</style>\n",
       "<table border=\"1\" class=\"dataframe\">\n",
       "  <thead>\n",
       "    <tr style=\"text-align: right;\">\n",
       "      <th></th>\n",
       "      <th>indic_wer</th>\n",
       "      <th>best_wer</th>\n",
       "      <th>mos_pred</th>\n",
       "    </tr>\n",
       "  </thead>\n",
       "  <tbody>\n",
       "    <tr>\n",
       "      <th>indic_wer</th>\n",
       "      <td>1.000000</td>\n",
       "      <td>0.879217</td>\n",
       "      <td>-0.376659</td>\n",
       "    </tr>\n",
       "    <tr>\n",
       "      <th>best_wer</th>\n",
       "      <td>0.879217</td>\n",
       "      <td>1.000000</td>\n",
       "      <td>-0.361251</td>\n",
       "    </tr>\n",
       "    <tr>\n",
       "      <th>mos_pred</th>\n",
       "      <td>-0.376659</td>\n",
       "      <td>-0.361251</td>\n",
       "      <td>1.000000</td>\n",
       "    </tr>\n",
       "  </tbody>\n",
       "</table>\n",
       "</div>"
      ],
      "text/plain": [
       "           indic_wer  best_wer  mos_pred\n",
       "indic_wer   1.000000  0.879217 -0.376659\n",
       "best_wer    0.879217  1.000000 -0.361251\n",
       "mos_pred   -0.376659 -0.361251  1.000000"
      ]
     },
     "execution_count": 31,
     "metadata": {},
     "output_type": "execute_result"
    }
   ],
   "source": [
    "train_df[['indic_wer','best_wer','mos_pred']].corr()"
   ]
  },
  {
   "cell_type": "code",
   "execution_count": 35,
   "id": "671a7528-aed0-403b-9652-2d95570e2f81",
   "metadata": {},
   "outputs": [
    {
     "data": {
      "text/plain": [
       "507208"
      ]
     },
     "execution_count": 35,
     "metadata": {},
     "output_type": "execute_result"
    }
   ],
   "source": [
    "len( train_df.loc[(train_df['indic_wer'] < 0.8) & (train_df['best_wer'] < 0.5)])"
   ]
  },
  {
   "cell_type": "code",
   "execution_count": 26,
   "id": "8bb070f5-06c2-4cda-ae6d-c0f5d1d31d59",
   "metadata": {},
   "outputs": [],
   "source": [
    "quality_df = train_df.loc[(train_df['indic_wer'] < 0.5) & (train_df['best_wer'] < 0.5)]"
   ]
  },
  {
   "cell_type": "code",
   "execution_count": 34,
   "id": "c7c0e9ae-3baa-45b5-8dc4-a9074e290ff9",
   "metadata": {},
   "outputs": [
    {
     "data": {
      "text/html": [
       "<div>\n",
       "<style scoped>\n",
       "    .dataframe tbody tr th:only-of-type {\n",
       "        vertical-align: middle;\n",
       "    }\n",
       "\n",
       "    .dataframe tbody tr th {\n",
       "        vertical-align: top;\n",
       "    }\n",
       "\n",
       "    .dataframe thead th {\n",
       "        text-align: right;\n",
       "    }\n",
       "</style>\n",
       "<table border=\"1\" class=\"dataframe\">\n",
       "  <thead>\n",
       "    <tr style=\"text-align: right;\">\n",
       "      <th></th>\n",
       "      <th>id</th>\n",
       "      <th>sentence</th>\n",
       "      <th>split</th>\n",
       "      <th>pred_indic</th>\n",
       "      <th>pred_best</th>\n",
       "      <th>deg</th>\n",
       "      <th>mos_pred</th>\n",
       "      <th>noi_pred</th>\n",
       "      <th>dis_pred</th>\n",
       "      <th>col_pred</th>\n",
       "      <th>loud_pred</th>\n",
       "      <th>model</th>\n",
       "      <th>indic_wer</th>\n",
       "      <th>best_wer</th>\n",
       "    </tr>\n",
       "  </thead>\n",
       "  <tbody>\n",
       "    <tr>\n",
       "      <th>2</th>\n",
       "      <td>00001e0bc131</td>\n",
       "      <td>আমি তোমার কষ্টটা বুঝছি, কিন্তু এটা সঠিক পথ না।</td>\n",
       "      <td>train</td>\n",
       "      <td>আমি তোমার কষ্টটা বুঝছি কিন্তু এটার সঠিক পথনা।</td>\n",
       "      <td>আমি তোমার কষ্টটা বুঝছি কিন্তু এটা সঠিক পথ না।</td>\n",
       "      <td>00001e0bc131.wav</td>\n",
       "      <td>3.454123</td>\n",
       "      <td>4.071897</td>\n",
       "      <td>3.892286</td>\n",
       "      <td>3.357083</td>\n",
       "      <td>3.859698</td>\n",
       "      <td>NISQAv2</td>\n",
       "      <td>0.444444</td>\n",
       "      <td>0.111111</td>\n",
       "    </tr>\n",
       "    <tr>\n",
       "      <th>3</th>\n",
       "      <td>000024b3d810</td>\n",
       "      <td>নাচ শেষ হওয়ার পর সকলে শরীর ধুয়ে একসঙ্গে ভোজন...</td>\n",
       "      <td>train</td>\n",
       "      <td>নাচ শেষ হওয়ার পর সকলে শরীর ধুয়ে একসঙ্গে ভোজন ক...</td>\n",
       "      <td>নাচ শেষ হওয়ার পর সকলে শরীর ধুয়ে একসঙ্গে ভোজন ক...</td>\n",
       "      <td>000024b3d810.wav</td>\n",
       "      <td>4.646200</td>\n",
       "      <td>4.264368</td>\n",
       "      <td>4.742208</td>\n",
       "      <td>4.627210</td>\n",
       "      <td>4.681022</td>\n",
       "      <td>NISQAv2</td>\n",
       "      <td>0.200000</td>\n",
       "      <td>0.200000</td>\n",
       "    </tr>\n",
       "    <tr>\n",
       "      <th>5</th>\n",
       "      <td>00002b0c8953</td>\n",
       "      <td>ক্যাপ্টেন, আমরা ব্লাস্টারটাকে ঠিক ধরে ফেলবো।</td>\n",
       "      <td>train</td>\n",
       "      <td>ক্যাপ্টেন আমরা ব্লাস্টারটাকে ঠিক ধরে ফেলব।</td>\n",
       "      <td>ক্যাপ্টেন আমরা ব্লাস্টারটাকে ঠিক ধরে ফেলব।</td>\n",
       "      <td>00002b0c8953.wav</td>\n",
       "      <td>1.483304</td>\n",
       "      <td>2.751273</td>\n",
       "      <td>2.497939</td>\n",
       "      <td>2.490128</td>\n",
       "      <td>2.955866</td>\n",
       "      <td>NISQAv2</td>\n",
       "      <td>0.333333</td>\n",
       "      <td>0.333333</td>\n",
       "    </tr>\n",
       "    <tr>\n",
       "      <th>7</th>\n",
       "      <td>000043f5b62d</td>\n",
       "      <td>গুলিবিদ্ধ ইমাম শাহিনুর রহমানের সঙ্গে কথা বলে এ...</td>\n",
       "      <td>train</td>\n",
       "      <td>গুলিবিদ্ধ ইমাম শাহীনুর রহমানের সঙ্গে কথা নেবলে...</td>\n",
       "      <td>গুলিবিদ্যয় ইমাম শাহিনুর রহমানের সঙ্গে কথা বলে ...</td>\n",
       "      <td>000043f5b62d.wav</td>\n",
       "      <td>2.947263</td>\n",
       "      <td>4.134612</td>\n",
       "      <td>2.913531</td>\n",
       "      <td>3.486499</td>\n",
       "      <td>4.031406</td>\n",
       "      <td>NISQAv2</td>\n",
       "      <td>0.272727</td>\n",
       "      <td>0.181818</td>\n",
       "    </tr>\n",
       "    <tr>\n",
       "      <th>8</th>\n",
       "      <td>00004ed6485a</td>\n",
       "      <td>এরপর তাঁদের প্রত্যেককে তিন হাজার টাকা করে জরিম...</td>\n",
       "      <td>train</td>\n",
       "      <td>এরপর তাদের প্রত্যেককে তিন হাজর টাকা করে জরিমান...</td>\n",
       "      <td>এরপর তাদের প্রত্যেককে তিন হাজার টাকা করে জরিমা...</td>\n",
       "      <td>00004ed6485a.wav</td>\n",
       "      <td>2.317547</td>\n",
       "      <td>3.504243</td>\n",
       "      <td>2.931920</td>\n",
       "      <td>2.685482</td>\n",
       "      <td>2.846039</td>\n",
       "      <td>NISQAv2</td>\n",
       "      <td>0.181818</td>\n",
       "      <td>0.090909</td>\n",
       "    </tr>\n",
       "    <tr>\n",
       "      <th>...</th>\n",
       "      <td>...</td>\n",
       "      <td>...</td>\n",
       "      <td>...</td>\n",
       "      <td>...</td>\n",
       "      <td>...</td>\n",
       "      <td>...</td>\n",
       "      <td>...</td>\n",
       "      <td>...</td>\n",
       "      <td>...</td>\n",
       "      <td>...</td>\n",
       "      <td>...</td>\n",
       "      <td>...</td>\n",
       "      <td>...</td>\n",
       "      <td>...</td>\n",
       "    </tr>\n",
       "    <tr>\n",
       "      <th>903335</th>\n",
       "      <td>efff1de5a5ff</td>\n",
       "      <td>এটি উত্তম নৈতিকতার সমতুল্য, যা হল সর্বদা এমন স...</td>\n",
       "      <td>train</td>\n",
       "      <td>এটি উত্তম নৈতিকতার সমতূল্য যা হলো সর্বদা এমন স...</td>\n",
       "      <td>এটি উত্তম নৈতিকতার সমতুল্য যা হল সর্বদা এমন সব...</td>\n",
       "      <td>efff1de5a5ff.wav</td>\n",
       "      <td>1.775549</td>\n",
       "      <td>3.335527</td>\n",
       "      <td>3.334291</td>\n",
       "      <td>2.753551</td>\n",
       "      <td>3.323293</td>\n",
       "      <td>NISQAv2</td>\n",
       "      <td>0.375000</td>\n",
       "      <td>0.187500</td>\n",
       "    </tr>\n",
       "    <tr>\n",
       "      <th>903337</th>\n",
       "      <td>efff29accc06</td>\n",
       "      <td>রাষ্ট্রপতি একাধারে রাষ্ট্রপ্রধান ও সরকার প্রধান।</td>\n",
       "      <td>train</td>\n",
       "      <td>রাষ্ট্রপতি একাভাগে রাষ্ট্রপ্রধান ও সরকার প্রধান।</td>\n",
       "      <td>রাষ্ট্রপতি একাধানী রাষ্ট্রপ্রধান ও সরকার প্রধান।</td>\n",
       "      <td>efff29accc06.wav</td>\n",
       "      <td>2.444808</td>\n",
       "      <td>3.825283</td>\n",
       "      <td>2.606772</td>\n",
       "      <td>2.467585</td>\n",
       "      <td>3.881501</td>\n",
       "      <td>NISQAv2</td>\n",
       "      <td>0.166667</td>\n",
       "      <td>0.166667</td>\n",
       "    </tr>\n",
       "    <tr>\n",
       "      <th>903340</th>\n",
       "      <td>efff4f9255ef</td>\n",
       "      <td>এদিকে সময় হয়ে এল যাবার।</td>\n",
       "      <td>train</td>\n",
       "      <td>এদিকে সময় হয়ে এলো যাবার।</td>\n",
       "      <td>এদিকে সময় হয়ে এলো যাবার।</td>\n",
       "      <td>efff4f9255ef.wav</td>\n",
       "      <td>2.771634</td>\n",
       "      <td>3.705065</td>\n",
       "      <td>2.506675</td>\n",
       "      <td>3.178957</td>\n",
       "      <td>3.644016</td>\n",
       "      <td>NISQAv2</td>\n",
       "      <td>0.200000</td>\n",
       "      <td>0.200000</td>\n",
       "    </tr>\n",
       "    <tr>\n",
       "      <th>903344</th>\n",
       "      <td>efff9dc31af3</td>\n",
       "      <td>সুলেমানই আমাকে জোর করে খাইয়েছে, মামা।</td>\n",
       "      <td>train</td>\n",
       "      <td>সুলেমানি আমাকে জোর করে খাইয়েছে মামা।</td>\n",
       "      <td>সুলেমানি আমাকে জোর করে খাইয়াছে মামা।</td>\n",
       "      <td>efff9dc31af3.wav</td>\n",
       "      <td>4.942819</td>\n",
       "      <td>4.453026</td>\n",
       "      <td>4.823753</td>\n",
       "      <td>4.463984</td>\n",
       "      <td>4.517902</td>\n",
       "      <td>NISQAv2</td>\n",
       "      <td>0.333333</td>\n",
       "      <td>0.333333</td>\n",
       "    </tr>\n",
       "    <tr>\n",
       "      <th>903345</th>\n",
       "      <td>efffb42d08da</td>\n",
       "      <td>তিনি সংসদ সদস্য থেকে ধীরে ধীরে মন্ত্রী পর্যন্ত...</td>\n",
       "      <td>train</td>\n",
       "      <td>তিনি সংসদ সদস্য থেকে ধীরে ধীরে মন্ত্রী পর্যন্ত...</td>\n",
       "      <td>তিনি সংসদ সদস্য থেকে ধীরে ধীরে মন্ত্রী পর্যন্ত...</td>\n",
       "      <td>efffb42d08da.wav</td>\n",
       "      <td>4.177519</td>\n",
       "      <td>3.330846</td>\n",
       "      <td>4.492510</td>\n",
       "      <td>4.056495</td>\n",
       "      <td>4.295333</td>\n",
       "      <td>NISQAv2</td>\n",
       "      <td>0.111111</td>\n",
       "      <td>0.111111</td>\n",
       "    </tr>\n",
       "  </tbody>\n",
       "</table>\n",
       "<p>417964 rows × 14 columns</p>\n",
       "</div>"
      ],
      "text/plain": [
       "                  id                                           sentence  \\\n",
       "2       00001e0bc131     আমি তোমার কষ্টটা বুঝছি, কিন্তু এটা সঠিক পথ না।   \n",
       "3       000024b3d810  নাচ শেষ হওয়ার পর সকলে শরীর ধুয়ে একসঙ্গে ভোজন...   \n",
       "5       00002b0c8953       ক্যাপ্টেন, আমরা ব্লাস্টারটাকে ঠিক ধরে ফেলবো।   \n",
       "7       000043f5b62d  গুলিবিদ্ধ ইমাম শাহিনুর রহমানের সঙ্গে কথা বলে এ...   \n",
       "8       00004ed6485a  এরপর তাঁদের প্রত্যেককে তিন হাজার টাকা করে জরিম...   \n",
       "...              ...                                                ...   \n",
       "903335  efff1de5a5ff  এটি উত্তম নৈতিকতার সমতুল্য, যা হল সর্বদা এমন স...   \n",
       "903337  efff29accc06   রাষ্ট্রপতি একাধারে রাষ্ট্রপ্রধান ও সরকার প্রধান।   \n",
       "903340  efff4f9255ef                            এদিকে সময় হয়ে এল যাবার।   \n",
       "903344  efff9dc31af3              সুলেমানই আমাকে জোর করে খাইয়েছে, মামা।   \n",
       "903345  efffb42d08da  তিনি সংসদ সদস্য থেকে ধীরে ধীরে মন্ত্রী পর্যন্ত...   \n",
       "\n",
       "        split                                         pred_indic  \\\n",
       "2       train      আমি তোমার কষ্টটা বুঝছি কিন্তু এটার সঠিক পথনা।   \n",
       "3       train  নাচ শেষ হওয়ার পর সকলে শরীর ধুয়ে একসঙ্গে ভোজন ক...   \n",
       "5       train         ক্যাপ্টেন আমরা ব্লাস্টারটাকে ঠিক ধরে ফেলব।   \n",
       "7       train  গুলিবিদ্ধ ইমাম শাহীনুর রহমানের সঙ্গে কথা নেবলে...   \n",
       "8       train  এরপর তাদের প্রত্যেককে তিন হাজর টাকা করে জরিমান...   \n",
       "...       ...                                                ...   \n",
       "903335  train  এটি উত্তম নৈতিকতার সমতূল্য যা হলো সর্বদা এমন স...   \n",
       "903337  train   রাষ্ট্রপতি একাভাগে রাষ্ট্রপ্রধান ও সরকার প্রধান।   \n",
       "903340  train                           এদিকে সময় হয়ে এলো যাবার।   \n",
       "903344  train               সুলেমানি আমাকে জোর করে খাইয়েছে মামা।   \n",
       "903345  train  তিনি সংসদ সদস্য থেকে ধীরে ধীরে মন্ত্রী পর্যন্ত...   \n",
       "\n",
       "                                                pred_best               deg  \\\n",
       "2           আমি তোমার কষ্টটা বুঝছি কিন্তু এটা সঠিক পথ না।  00001e0bc131.wav   \n",
       "3       নাচ শেষ হওয়ার পর সকলে শরীর ধুয়ে একসঙ্গে ভোজন ক...  000024b3d810.wav   \n",
       "5              ক্যাপ্টেন আমরা ব্লাস্টারটাকে ঠিক ধরে ফেলব।  00002b0c8953.wav   \n",
       "7       গুলিবিদ্যয় ইমাম শাহিনুর রহমানের সঙ্গে কথা বলে ...  000043f5b62d.wav   \n",
       "8       এরপর তাদের প্রত্যেককে তিন হাজার টাকা করে জরিমা...  00004ed6485a.wav   \n",
       "...                                                   ...               ...   \n",
       "903335  এটি উত্তম নৈতিকতার সমতুল্য যা হল সর্বদা এমন সব...  efff1de5a5ff.wav   \n",
       "903337   রাষ্ট্রপতি একাধানী রাষ্ট্রপ্রধান ও সরকার প্রধান।  efff29accc06.wav   \n",
       "903340                           এদিকে সময় হয়ে এলো যাবার।  efff4f9255ef.wav   \n",
       "903344               সুলেমানি আমাকে জোর করে খাইয়াছে মামা।  efff9dc31af3.wav   \n",
       "903345  তিনি সংসদ সদস্য থেকে ধীরে ধীরে মন্ত্রী পর্যন্ত...  efffb42d08da.wav   \n",
       "\n",
       "        mos_pred  noi_pred  dis_pred  col_pred  loud_pred    model  indic_wer  \\\n",
       "2       3.454123  4.071897  3.892286  3.357083   3.859698  NISQAv2   0.444444   \n",
       "3       4.646200  4.264368  4.742208  4.627210   4.681022  NISQAv2   0.200000   \n",
       "5       1.483304  2.751273  2.497939  2.490128   2.955866  NISQAv2   0.333333   \n",
       "7       2.947263  4.134612  2.913531  3.486499   4.031406  NISQAv2   0.272727   \n",
       "8       2.317547  3.504243  2.931920  2.685482   2.846039  NISQAv2   0.181818   \n",
       "...          ...       ...       ...       ...        ...      ...        ...   \n",
       "903335  1.775549  3.335527  3.334291  2.753551   3.323293  NISQAv2   0.375000   \n",
       "903337  2.444808  3.825283  2.606772  2.467585   3.881501  NISQAv2   0.166667   \n",
       "903340  2.771634  3.705065  2.506675  3.178957   3.644016  NISQAv2   0.200000   \n",
       "903344  4.942819  4.453026  4.823753  4.463984   4.517902  NISQAv2   0.333333   \n",
       "903345  4.177519  3.330846  4.492510  4.056495   4.295333  NISQAv2   0.111111   \n",
       "\n",
       "        best_wer  \n",
       "2       0.111111  \n",
       "3       0.200000  \n",
       "5       0.333333  \n",
       "7       0.181818  \n",
       "8       0.090909  \n",
       "...          ...  \n",
       "903335  0.187500  \n",
       "903337  0.166667  \n",
       "903340  0.200000  \n",
       "903344  0.333333  \n",
       "903345  0.111111  \n",
       "\n",
       "[417964 rows x 14 columns]"
      ]
     },
     "execution_count": 34,
     "metadata": {},
     "output_type": "execute_result"
    }
   ],
   "source": [
    "quality_df"
   ]
  },
  {
   "cell_type": "code",
   "execution_count": 27,
   "id": "18146861-8f64-4e9a-aebb-e730d14fdbb9",
   "metadata": {},
   "outputs": [
    {
     "data": {
      "text/plain": [
       "<AxesSubplot:>"
      ]
     },
     "execution_count": 27,
     "metadata": {},
     "output_type": "execute_result"
    },
    {
     "data": {
      "image/png": "[encoded data removed]",
      "text/plain": [
       "<Figure size 432x288 with 1 Axes>"
      ]
     },
     "metadata": {
      "needs_background": "light"
     },
     "output_type": "display_data"
    }
   ],
   "source": [
    "quality_df['indic_wer'].hist(bins=20)"
   ]
  },
  {
   "cell_type": "code",
   "execution_count": 10,
   "id": "97831bce-9b12-4d58-97c1-1c083b2de774",
   "metadata": {},
   "outputs": [
    {
     "data": {
      "text/plain": [
       "<AxesSubplot:>"
      ]
     },
     "execution_count": 10,
     "metadata": {},
     "output_type": "execute_result"
    },
    {
     "data": {
      "image/png": "[encoded data removed]",
      "text/plain": [
       "<Figure size 432x288 with 1 Axes>"
      ]
     },
     "metadata": {
      "needs_background": "light"
     },
     "output_type": "display_data"
    }
   ],
   "source": [
    "quality_df['best_wer'].hist(bins=20)"
   ]
  },
  {
   "cell_type": "code",
   "execution_count": 11,
   "id": "43d250bf-ff01-4339-9456-394e1adaab79",
   "metadata": {},
   "outputs": [
    {
     "data": {
      "text/plain": [
       "<AxesSubplot:>"
      ]
     },
     "execution_count": 11,
     "metadata": {},
     "output_type": "execute_result"
    },
    {
     "data": {
      "image/png": "[encoded data removed]",
      "text/plain": [
       "<Figure size 432x288 with 1 Axes>"
      ]
     },
     "metadata": {
      "needs_background": "light"
     },
     "output_type": "display_data"
    }
   ],
   "source": [
    "quality_df['mos_pred'].hist()"
   ]
  },
  {
   "cell_type": "code",
   "execution_count": 15,
   "id": "f8dd715f-749b-409c-9319-ee3898c7e81e",
   "metadata": {},
   "outputs": [
    {
     "data": {
      "text/plain": [
       "0.20024724782606063"
      ]
     },
     "execution_count": 15,
     "metadata": {},
     "output_type": "execute_result"
    }
   ],
   "source": [
    "quality_df.loc[quality_df['mos_pred'] > 4.]['best_wer'].mean()"
   ]
  },
  {
   "cell_type": "code",
   "execution_count": 16,
   "id": "c75c4c1c-138f-4b9c-aa1a-c0d3a735ae28",
   "metadata": {},
   "outputs": [
    {
     "data": {
      "text/plain": [
       "0.25287878787878787"
      ]
     },
     "execution_count": 16,
     "metadata": {},
     "output_type": "execute_result"
    }
   ],
   "source": [
    "quality_df.loc[quality_df['mos_pred'] < 0.5]['best_wer'].mean()"
   ]
  },
  {
   "cell_type": "code",
   "execution_count": 17,
   "id": "d6e71a50-8d61-4667-afe6-e20eadf46efc",
   "metadata": {},
   "outputs": [],
   "source": [
    "steps = [x / 10.0 for x in range(5, 55, 5)]"
   ]
  },
  {
   "cell_type": "code",
   "execution_count": 18,
   "id": "e69e85e2-8bad-407e-b468-05310eafd4d3",
   "metadata": {},
   "outputs": [
    {
     "name": "stdout",
     "output_type": "stream",
     "text": [
      "Intervall 0.5 - 1.0: 0.23921354467125872\n",
      "Intervall 1.0 - 1.5: 0.2334566164070504\n",
      "Intervall 1.5 - 2.0: 0.21972255298928497\n",
      "Intervall 2.0 - 2.5: 0.21618449362598624\n",
      "Intervall 2.5 - 3.0: 0.21267944773715222\n",
      "Intervall 3.0 - 3.5: 0.20918776699979497\n",
      "Intervall 3.5 - 4.0: 0.2062900116611493\n",
      "Intervall 4.0 - 4.5: 0.2019428802025038\n",
      "Intervall 4.5 - 5.0: 0.19625093384454148\n",
      "Intervall 5.0 - 5.5: 0.2050612047333359\n"
     ]
    }
   ],
   "source": [
    "for i in steps:\n",
    "    print(f\"Intervall {i} - {i+0.5}: {quality_df.loc[quality_df['mos_pred'].between(i,i+0.5)]['best_wer'].mean()}\")"
   ]
  },
  {
   "cell_type": "code",
   "execution_count": 21,
   "id": "9bcefe12-cada-468f-9229-cf098d55ddaf",
   "metadata": {},
   "outputs": [],
   "source": [
    "quality_df.to_pickle(\"../data/train_selection_v2.pkl\")"
   ]
  },
  {
   "cell_type": "code",
   "execution_count": 29,
   "id": "0bffa670-f53f-466b-9f75-a834972021fd",
   "metadata": {},
   "outputs": [
    {
     "data": {
      "text/html": [
       "<div>\n",
       "<style scoped>\n",
       "    .dataframe tbody tr th:only-of-type {\n",
       "        vertical-align: middle;\n",
       "    }\n",
       "\n",
       "    .dataframe tbody tr th {\n",
       "        vertical-align: top;\n",
       "    }\n",
       "\n",
       "    .dataframe thead th {\n",
       "        text-align: right;\n",
       "    }\n",
       "</style>\n",
       "<table border=\"1\" class=\"dataframe\">\n",
       "  <thead>\n",
       "    <tr style=\"text-align: right;\">\n",
       "      <th></th>\n",
       "      <th>id</th>\n",
       "      <th>sentence</th>\n",
       "      <th>split</th>\n",
       "      <th>pred_indic</th>\n",
       "      <th>pred_best</th>\n",
       "      <th>deg</th>\n",
       "      <th>mos_pred</th>\n",
       "      <th>noi_pred</th>\n",
       "      <th>dis_pred</th>\n",
       "      <th>col_pred</th>\n",
       "      <th>loud_pred</th>\n",
       "      <th>model</th>\n",
       "      <th>indic_wer</th>\n",
       "      <th>best_wer</th>\n",
       "    </tr>\n",
       "  </thead>\n",
       "  <tbody>\n",
       "    <tr>\n",
       "      <th>2</th>\n",
       "      <td>00001e0bc131</td>\n",
       "      <td>আমি তোমার কষ্টটা বুঝছি, কিন্তু এটা সঠিক পথ না।</td>\n",
       "      <td>train</td>\n",
       "      <td>আমি তোমার কষ্টটা বুঝছি কিন্তু এটার সঠিক পথনা।</td>\n",
       "      <td>আমি তোমার কষ্টটা বুঝছি কিন্তু এটা সঠিক পথ না।</td>\n",
       "      <td>00001e0bc131.wav</td>\n",
       "      <td>3.454123</td>\n",
       "      <td>4.071897</td>\n",
       "      <td>3.892286</td>\n",
       "      <td>3.357083</td>\n",
       "      <td>3.859698</td>\n",
       "      <td>NISQAv2</td>\n",
       "      <td>0.444444</td>\n",
       "      <td>0.111111</td>\n",
       "    </tr>\n",
       "    <tr>\n",
       "      <th>3</th>\n",
       "      <td>000024b3d810</td>\n",
       "      <td>নাচ শেষ হওয়ার পর সকলে শরীর ধুয়ে একসঙ্গে ভোজন...</td>\n",
       "      <td>train</td>\n",
       "      <td>নাচ শেষ হওয়ার পর সকলে শরীর ধুয়ে একসঙ্গে ভোজন ক...</td>\n",
       "      <td>নাচ শেষ হওয়ার পর সকলে শরীর ধুয়ে একসঙ্গে ভোজন ক...</td>\n",
       "      <td>000024b3d810.wav</td>\n",
       "      <td>4.646200</td>\n",
       "      <td>4.264368</td>\n",
       "      <td>4.742208</td>\n",
       "      <td>4.627210</td>\n",
       "      <td>4.681022</td>\n",
       "      <td>NISQAv2</td>\n",
       "      <td>0.200000</td>\n",
       "      <td>0.200000</td>\n",
       "    </tr>\n",
       "    <tr>\n",
       "      <th>5</th>\n",
       "      <td>00002b0c8953</td>\n",
       "      <td>ক্যাপ্টেন, আমরা ব্লাস্টারটাকে ঠিক ধরে ফেলবো।</td>\n",
       "      <td>train</td>\n",
       "      <td>ক্যাপ্টেন আমরা ব্লাস্টারটাকে ঠিক ধরে ফেলব।</td>\n",
       "      <td>ক্যাপ্টেন আমরা ব্লাস্টারটাকে ঠিক ধরে ফেলব।</td>\n",
       "      <td>00002b0c8953.wav</td>\n",
       "      <td>1.483304</td>\n",
       "      <td>2.751273</td>\n",
       "      <td>2.497939</td>\n",
       "      <td>2.490128</td>\n",
       "      <td>2.955866</td>\n",
       "      <td>NISQAv2</td>\n",
       "      <td>0.333333</td>\n",
       "      <td>0.333333</td>\n",
       "    </tr>\n",
       "    <tr>\n",
       "      <th>7</th>\n",
       "      <td>000043f5b62d</td>\n",
       "      <td>গুলিবিদ্ধ ইমাম শাহিনুর রহমানের সঙ্গে কথা বলে এ...</td>\n",
       "      <td>train</td>\n",
       "      <td>গুলিবিদ্ধ ইমাম শাহীনুর রহমানের সঙ্গে কথা নেবলে...</td>\n",
       "      <td>গুলিবিদ্যয় ইমাম শাহিনুর রহমানের সঙ্গে কথা বলে ...</td>\n",
       "      <td>000043f5b62d.wav</td>\n",
       "      <td>2.947263</td>\n",
       "      <td>4.134612</td>\n",
       "      <td>2.913531</td>\n",
       "      <td>3.486499</td>\n",
       "      <td>4.031406</td>\n",
       "      <td>NISQAv2</td>\n",
       "      <td>0.272727</td>\n",
       "      <td>0.181818</td>\n",
       "    </tr>\n",
       "    <tr>\n",
       "      <th>8</th>\n",
       "      <td>00004ed6485a</td>\n",
       "      <td>এরপর তাঁদের প্রত্যেককে তিন হাজার টাকা করে জরিম...</td>\n",
       "      <td>train</td>\n",
       "      <td>এরপর তাদের প্রত্যেককে তিন হাজর টাকা করে জরিমান...</td>\n",
       "      <td>এরপর তাদের প্রত্যেককে তিন হাজার টাকা করে জরিমা...</td>\n",
       "      <td>00004ed6485a.wav</td>\n",
       "      <td>2.317547</td>\n",
       "      <td>3.504243</td>\n",
       "      <td>2.931920</td>\n",
       "      <td>2.685482</td>\n",
       "      <td>2.846039</td>\n",
       "      <td>NISQAv2</td>\n",
       "      <td>0.181818</td>\n",
       "      <td>0.090909</td>\n",
       "    </tr>\n",
       "    <tr>\n",
       "      <th>...</th>\n",
       "      <td>...</td>\n",
       "      <td>...</td>\n",
       "      <td>...</td>\n",
       "      <td>...</td>\n",
       "      <td>...</td>\n",
       "      <td>...</td>\n",
       "      <td>...</td>\n",
       "      <td>...</td>\n",
       "      <td>...</td>\n",
       "      <td>...</td>\n",
       "      <td>...</td>\n",
       "      <td>...</td>\n",
       "      <td>...</td>\n",
       "      <td>...</td>\n",
       "    </tr>\n",
       "    <tr>\n",
       "      <th>903335</th>\n",
       "      <td>efff1de5a5ff</td>\n",
       "      <td>এটি উত্তম নৈতিকতার সমতুল্য, যা হল সর্বদা এমন স...</td>\n",
       "      <td>train</td>\n",
       "      <td>এটি উত্তম নৈতিকতার সমতূল্য যা হলো সর্বদা এমন স...</td>\n",
       "      <td>এটি উত্তম নৈতিকতার সমতুল্য যা হল সর্বদা এমন সব...</td>\n",
       "      <td>efff1de5a5ff.wav</td>\n",
       "      <td>1.775549</td>\n",
       "      <td>3.335527</td>\n",
       "      <td>3.334291</td>\n",
       "      <td>2.753551</td>\n",
       "      <td>3.323293</td>\n",
       "      <td>NISQAv2</td>\n",
       "      <td>0.375000</td>\n",
       "      <td>0.187500</td>\n",
       "    </tr>\n",
       "    <tr>\n",
       "      <th>903337</th>\n",
       "      <td>efff29accc06</td>\n",
       "      <td>রাষ্ট্রপতি একাধারে রাষ্ট্রপ্রধান ও সরকার প্রধান।</td>\n",
       "      <td>train</td>\n",
       "      <td>রাষ্ট্রপতি একাভাগে রাষ্ট্রপ্রধান ও সরকার প্রধান।</td>\n",
       "      <td>রাষ্ট্রপতি একাধানী রাষ্ট্রপ্রধান ও সরকার প্রধান।</td>\n",
       "      <td>efff29accc06.wav</td>\n",
       "      <td>2.444808</td>\n",
       "      <td>3.825283</td>\n",
       "      <td>2.606772</td>\n",
       "      <td>2.467585</td>\n",
       "      <td>3.881501</td>\n",
       "      <td>NISQAv2</td>\n",
       "      <td>0.166667</td>\n",
       "      <td>0.166667</td>\n",
       "    </tr>\n",
       "    <tr>\n",
       "      <th>903340</th>\n",
       "      <td>efff4f9255ef</td>\n",
       "      <td>এদিকে সময় হয়ে এল যাবার।</td>\n",
       "      <td>train</td>\n",
       "      <td>এদিকে সময় হয়ে এলো যাবার।</td>\n",
       "      <td>এদিকে সময় হয়ে এলো যাবার।</td>\n",
       "      <td>efff4f9255ef.wav</td>\n",
       "      <td>2.771634</td>\n",
       "      <td>3.705065</td>\n",
       "      <td>2.506675</td>\n",
       "      <td>3.178957</td>\n",
       "      <td>3.644016</td>\n",
       "      <td>NISQAv2</td>\n",
       "      <td>0.200000</td>\n",
       "      <td>0.200000</td>\n",
       "    </tr>\n",
       "    <tr>\n",
       "      <th>903344</th>\n",
       "      <td>efff9dc31af3</td>\n",
       "      <td>সুলেমানই আমাকে জোর করে খাইয়েছে, মামা।</td>\n",
       "      <td>train</td>\n",
       "      <td>সুলেমানি আমাকে জোর করে খাইয়েছে মামা।</td>\n",
       "      <td>সুলেমানি আমাকে জোর করে খাইয়াছে মামা।</td>\n",
       "      <td>efff9dc31af3.wav</td>\n",
       "      <td>4.942819</td>\n",
       "      <td>4.453026</td>\n",
       "      <td>4.823753</td>\n",
       "      <td>4.463984</td>\n",
       "      <td>4.517902</td>\n",
       "      <td>NISQAv2</td>\n",
       "      <td>0.333333</td>\n",
       "      <td>0.333333</td>\n",
       "    </tr>\n",
       "    <tr>\n",
       "      <th>903345</th>\n",
       "      <td>efffb42d08da</td>\n",
       "      <td>তিনি সংসদ সদস্য থেকে ধীরে ধীরে মন্ত্রী পর্যন্ত...</td>\n",
       "      <td>train</td>\n",
       "      <td>তিনি সংসদ সদস্য থেকে ধীরে ধীরে মন্ত্রী পর্যন্ত...</td>\n",
       "      <td>তিনি সংসদ সদস্য থেকে ধীরে ধীরে মন্ত্রী পর্যন্ত...</td>\n",
       "      <td>efffb42d08da.wav</td>\n",
       "      <td>4.177519</td>\n",
       "      <td>3.330846</td>\n",
       "      <td>4.492510</td>\n",
       "      <td>4.056495</td>\n",
       "      <td>4.295333</td>\n",
       "      <td>NISQAv2</td>\n",
       "      <td>0.111111</td>\n",
       "      <td>0.111111</td>\n",
       "    </tr>\n",
       "  </tbody>\n",
       "</table>\n",
       "<p>417964 rows × 14 columns</p>\n",
       "</div>"
      ],
      "text/plain": [
       "                  id                                           sentence  \\\n",
       "2       00001e0bc131     আমি তোমার কষ্টটা বুঝছি, কিন্তু এটা সঠিক পথ না।   \n",
       "3       000024b3d810  নাচ শেষ হওয়ার পর সকলে শরীর ধুয়ে একসঙ্গে ভোজন...   \n",
       "5       00002b0c8953       ক্যাপ্টেন, আমরা ব্লাস্টারটাকে ঠিক ধরে ফেলবো।   \n",
       "7       000043f5b62d  গুলিবিদ্ধ ইমাম শাহিনুর রহমানের সঙ্গে কথা বলে এ...   \n",
       "8       00004ed6485a  এরপর তাঁদের প্রত্যেককে তিন হাজার টাকা করে জরিম...   \n",
       "...              ...                                                ...   \n",
       "903335  efff1de5a5ff  এটি উত্তম নৈতিকতার সমতুল্য, যা হল সর্বদা এমন স...   \n",
       "903337  efff29accc06   রাষ্ট্রপতি একাধারে রাষ্ট্রপ্রধান ও সরকার প্রধান।   \n",
       "903340  efff4f9255ef                            এদিকে সময় হয়ে এল যাবার।   \n",
       "903344  efff9dc31af3              সুলেমানই আমাকে জোর করে খাইয়েছে, মামা।   \n",
       "903345  efffb42d08da  তিনি সংসদ সদস্য থেকে ধীরে ধীরে মন্ত্রী পর্যন্ত...   \n",
       "\n",
       "        split                                         pred_indic  \\\n",
       "2       train      আমি তোমার কষ্টটা বুঝছি কিন্তু এটার সঠিক পথনা।   \n",
       "3       train  নাচ শেষ হওয়ার পর সকলে শরীর ধুয়ে একসঙ্গে ভোজন ক...   \n",
       "5       train         ক্যাপ্টেন আমরা ব্লাস্টারটাকে ঠিক ধরে ফেলব।   \n",
       "7       train  গুলিবিদ্ধ ইমাম শাহীনুর রহমানের সঙ্গে কথা নেবলে...   \n",
       "8       train  এরপর তাদের প্রত্যেককে তিন হাজর টাকা করে জরিমান...   \n",
       "...       ...                                                ...   \n",
       "903335  train  এটি উত্তম নৈতিকতার সমতূল্য যা হলো সর্বদা এমন স...   \n",
       "903337  train   রাষ্ট্রপতি একাভাগে রাষ্ট্রপ্রধান ও সরকার প্রধান।   \n",
       "903340  train                           এদিকে সময় হয়ে এলো যাবার।   \n",
       "903344  train               সুলেমানি আমাকে জোর করে খাইয়েছে মামা।   \n",
       "903345  train  তিনি সংসদ সদস্য থেকে ধীরে ধীরে মন্ত্রী পর্যন্ত...   \n",
       "\n",
       "                                                pred_best               deg  \\\n",
       "2           আমি তোমার কষ্টটা বুঝছি কিন্তু এটা সঠিক পথ না।  00001e0bc131.wav   \n",
       "3       নাচ শেষ হওয়ার পর সকলে শরীর ধুয়ে একসঙ্গে ভোজন ক...  000024b3d810.wav   \n",
       "5              ক্যাপ্টেন আমরা ব্লাস্টারটাকে ঠিক ধরে ফেলব।  00002b0c8953.wav   \n",
       "7       গুলিবিদ্যয় ইমাম শাহিনুর রহমানের সঙ্গে কথা বলে ...  000043f5b62d.wav   \n",
       "8       এরপর তাদের প্রত্যেককে তিন হাজার টাকা করে জরিমা...  00004ed6485a.wav   \n",
       "...                                                   ...               ...   \n",
       "903335  এটি উত্তম নৈতিকতার সমতুল্য যা হল সর্বদা এমন সব...  efff1de5a5ff.wav   \n",
       "903337   রাষ্ট্রপতি একাধানী রাষ্ট্রপ্রধান ও সরকার প্রধান।  efff29accc06.wav   \n",
       "903340                           এদিকে সময় হয়ে এলো যাবার।  efff4f9255ef.wav   \n",
       "903344               সুলেমানি আমাকে জোর করে খাইয়াছে মামা।  efff9dc31af3.wav   \n",
       "903345  তিনি সংসদ সদস্য থেকে ধীরে ধীরে মন্ত্রী পর্যন্ত...  efffb42d08da.wav   \n",
       "\n",
       "        mos_pred  noi_pred  dis_pred  col_pred  loud_pred    model  indic_wer  \\\n",
       "2       3.454123  4.071897  3.892286  3.357083   3.859698  NISQAv2   0.444444   \n",
       "3       4.646200  4.264368  4.742208  4.627210   4.681022  NISQAv2   0.200000   \n",
       "5       1.483304  2.751273  2.497939  2.490128   2.955866  NISQAv2   0.333333   \n",
       "7       2.947263  4.134612  2.913531  3.486499   4.031406  NISQAv2   0.272727   \n",
       "8       2.317547  3.504243  2.931920  2.685482   2.846039  NISQAv2   0.181818   \n",
       "...          ...       ...       ...       ...        ...      ...        ...   \n",
       "903335  1.775549  3.335527  3.334291  2.753551   3.323293  NISQAv2   0.375000   \n",
       "903337  2.444808  3.825283  2.606772  2.467585   3.881501  NISQAv2   0.166667   \n",
       "903340  2.771634  3.705065  2.506675  3.178957   3.644016  NISQAv2   0.200000   \n",
       "903344  4.942819  4.453026  4.823753  4.463984   4.517902  NISQAv2   0.333333   \n",
       "903345  4.177519  3.330846  4.492510  4.056495   4.295333  NISQAv2   0.111111   \n",
       "\n",
       "        best_wer  \n",
       "2       0.111111  \n",
       "3       0.200000  \n",
       "5       0.333333  \n",
       "7       0.181818  \n",
       "8       0.090909  \n",
       "...          ...  \n",
       "903335  0.187500  \n",
       "903337  0.166667  \n",
       "903340  0.200000  \n",
       "903344  0.333333  \n",
       "903345  0.111111  \n",
       "\n",
       "[417964 rows x 14 columns]"
      ]
     },
     "execution_count": 29,
     "metadata": {},
     "output_type": "execute_result"
    }
   ],
   "source": [
    "quality_df"
   ]
  }
 ],
 "metadata": {
  "kernelspec": {
   "display_name": "Python 3 (ipykernel)",
   "language": "python",
   "name": "python3"
  },
  "language_info": {
   "codemirror_mode": {
    "name": "ipython",
    "version": 3
   },
   "file_extension": ".py",
   "mimetype": "text/x-python",
   "name": "python",
   "nbconvert_exporter": "python",
   "pygments_lexer": "ipython3",
   "version": "3.10.12"
  }
 },
 "nbformat": 4,
 "nbformat_minor": 5
}
