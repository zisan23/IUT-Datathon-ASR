{
 "cells": [
  {
   "cell_type": "code",
   "execution_count": 48,
   "id": "7d17b2b2-99c3-4d40-b4f5-74ef44f1125c",
   "metadata": {},
   "outputs": [],
   "source": [
    "import pandas as pd\n",
    "import os\n",
    "import numpy as np\n",
    "import random\n",
    "import sys\n",
    "from tqdm.auto import tqdm\n",
    "import librosa\n",
    "random.seed(42)"
   ]
  },
  {
   "cell_type": "code",
   "execution_count": 49,
   "id": "0e7a52de-c7ef-4202-9f71-19e5c44b1943",
   "metadata": {},
   "outputs": [],
   "source": [
    "from bnunicodenormalizer import Normalizer \n",
    "import unicodedata\n",
    "\n",
    "import re\n",
    "bnorm = Normalizer()"
   ]
  },
  {
   "cell_type": "code",
   "execution_count": null,
   "id": "8a2fa0a2-04c1-4a81-94b9-df20f9286555",
   "metadata": {},
   "outputs": [],
   "source": [
    "sys.path.append(\"../\")"
   ]
  },
  {
   "cell_type": "code",
   "execution_count": 50,
   "id": "7877b5c6-91c6-46ee-a700-b754223436b5",
   "metadata": {},
   "outputs": [],
   "source": [
    "from experiments.normalize import *"
   ]
  },
  {
   "cell_type": "code",
   "execution_count": 2,
   "id": "3c9154d9-7c8f-44b5-ae87-f7ce27344d86",
   "metadata": {},
   "outputs": [],
   "source": [
    "from pydub.utils import mediainfo\n",
    "import os\n",
    "from multiprocessing import Pool\n",
    "\n",
    "from pydub import AudioSegment\n",
    "\n",
    "def get_audio_duration(audio_file_path):\n",
    "    audio = AudioSegment.from_file(audio_file_path)\n",
    "    duration_seconds = len(audio) / 1000  # Convert milliseconds to seconds\n",
    "    return duration_seconds\n",
    "\n",
    "def process_audio_file(audio_file_path):\n",
    "    duration_seconds = get_audio_duration(audio_file_path)\n",
    "    return audio_file_path, duration_seconds"
   ]
  },
  {
   "cell_type": "code",
   "execution_count": 1,
   "id": "380f0328-489e-432e-9d98-2240e0c234a9",
   "metadata": {},
   "outputs": [],
   "source": [
    "import pandas as pd\n",
    "train = pd.read_pickle(\"../data/train_full_v2.pkl\")\n",
    "train['path'] = \"../data/\" + train['path']"
   ]
  },
  {
   "cell_type": "code",
   "execution_count": 15,
   "id": "294ed45d-8a60-4717-8128-cc23f5f16839",
   "metadata": {},
   "outputs": [
    {
     "data": {
      "text/html": [
       "<div>\n",
       "<style scoped>\n",
       "    .dataframe tbody tr th:only-of-type {\n",
       "        vertical-align: middle;\n",
       "    }\n",
       "\n",
       "    .dataframe tbody tr th {\n",
       "        vertical-align: top;\n",
       "    }\n",
       "\n",
       "    .dataframe thead th {\n",
       "        text-align: right;\n",
       "    }\n",
       "</style>\n",
       "<table border=\"1\" class=\"dataframe\">\n",
       "  <thead>\n",
       "    <tr style=\"text-align: right;\">\n",
       "      <th></th>\n",
       "      <th>id</th>\n",
       "      <th>sentence</th>\n",
       "      <th>split</th>\n",
       "      <th>path</th>\n",
       "      <th>use</th>\n",
       "    </tr>\n",
       "  </thead>\n",
       "  <tbody>\n",
       "    <tr>\n",
       "      <th>0</th>\n",
       "      <td>00001dddd002</td>\n",
       "      <td>কোন মহান রাষ্ট্রের নাগরিক হতে চাও</td>\n",
       "      <td>train</td>\n",
       "      <td>/home/benedikt/deeplearning/bengaliai-speech/d...</td>\n",
       "      <td>1.0</td>\n",
       "    </tr>\n",
       "    <tr>\n",
       "      <th>1</th>\n",
       "      <td>00001e0bc131</td>\n",
       "      <td>আমি তোমার কষ্টটা বুঝছি কিন্তু এটা সঠিক পথ না</td>\n",
       "      <td>train</td>\n",
       "      <td>/home/benedikt/deeplearning/bengaliai-speech/d...</td>\n",
       "      <td>1.0</td>\n",
       "    </tr>\n",
       "    <tr>\n",
       "      <th>2</th>\n",
       "      <td>000024b3d810</td>\n",
       "      <td>নাচ শেষ হওয়ার পর সকলে শরীর ধুয়ে একসঙ্গে ভোজন...</td>\n",
       "      <td>train</td>\n",
       "      <td>/home/benedikt/deeplearning/bengaliai-speech/d...</td>\n",
       "      <td>1.0</td>\n",
       "    </tr>\n",
       "    <tr>\n",
       "      <th>3</th>\n",
       "      <td>000028220ab3</td>\n",
       "      <td>হুমম ওহ হেই দেখো</td>\n",
       "      <td>train</td>\n",
       "      <td>/home/benedikt/deeplearning/bengaliai-speech/d...</td>\n",
       "      <td>1.0</td>\n",
       "    </tr>\n",
       "    <tr>\n",
       "      <th>4</th>\n",
       "      <td>00003147472f</td>\n",
       "      <td>নাটক সাংবাদিকতা শিক্ষার উপরে তার উচ্চতর প্রশিক...</td>\n",
       "      <td>train</td>\n",
       "      <td>/home/benedikt/deeplearning/bengaliai-speech/d...</td>\n",
       "      <td>1.0</td>\n",
       "    </tr>\n",
       "    <tr>\n",
       "      <th>...</th>\n",
       "      <td>...</td>\n",
       "      <td>...</td>\n",
       "      <td>...</td>\n",
       "      <td>...</td>\n",
       "      <td>...</td>\n",
       "    </tr>\n",
       "    <tr>\n",
       "      <th>653032</th>\n",
       "      <td>efff4f9255ef</td>\n",
       "      <td>এদিকে সময় হয়ে এল যাবার</td>\n",
       "      <td>train</td>\n",
       "      <td>/home/benedikt/deeplearning/bengaliai-speech/d...</td>\n",
       "      <td>1.0</td>\n",
       "    </tr>\n",
       "    <tr>\n",
       "      <th>653033</th>\n",
       "      <td>efff6b0db996</td>\n",
       "      <td>দ্বার খুলিয়াই দেখিল চন্দনগুঁড়া ও ধুনার গন্ধে...</td>\n",
       "      <td>train</td>\n",
       "      <td>/home/benedikt/deeplearning/bengaliai-speech/d...</td>\n",
       "      <td>1.0</td>\n",
       "    </tr>\n",
       "    <tr>\n",
       "      <th>653034</th>\n",
       "      <td>efff72a2e276</td>\n",
       "      <td>এই লউন তরবারি এই লউন উষ্ণীষ</td>\n",
       "      <td>train</td>\n",
       "      <td>/home/benedikt/deeplearning/bengaliai-speech/d...</td>\n",
       "      <td>1.0</td>\n",
       "    </tr>\n",
       "    <tr>\n",
       "      <th>653035</th>\n",
       "      <td>efff9dc31af3</td>\n",
       "      <td>সুলেমানই আমাকে জোর করে খাইয়েছে মামা</td>\n",
       "      <td>train</td>\n",
       "      <td>/home/benedikt/deeplearning/bengaliai-speech/d...</td>\n",
       "      <td>1.0</td>\n",
       "    </tr>\n",
       "    <tr>\n",
       "      <th>653036</th>\n",
       "      <td>efffb42d08da</td>\n",
       "      <td>তিনি সংসদ সদস্য থেকে ধীরে ধীরে মন্ত্রী পর্যন্ত...</td>\n",
       "      <td>train</td>\n",
       "      <td>/home/benedikt/deeplearning/bengaliai-speech/d...</td>\n",
       "      <td>1.0</td>\n",
       "    </tr>\n",
       "  </tbody>\n",
       "</table>\n",
       "<p>653037 rows × 5 columns</p>\n",
       "</div>"
      ],
      "text/plain": [
       "                  id                                           sentence  \\\n",
       "0       00001dddd002                  কোন মহান রাষ্ট্রের নাগরিক হতে চাও   \n",
       "1       00001e0bc131       আমি তোমার কষ্টটা বুঝছি কিন্তু এটা সঠিক পথ না   \n",
       "2       000024b3d810  নাচ শেষ হওয়ার পর সকলে শরীর ধুয়ে একসঙ্গে ভোজন...   \n",
       "3       000028220ab3                                   হুমম ওহ হেই দেখো   \n",
       "4       00003147472f  নাটক সাংবাদিকতা শিক্ষার উপরে তার উচ্চতর প্রশিক...   \n",
       "...              ...                                                ...   \n",
       "653032  efff4f9255ef                           এদিকে সময় হয়ে এল যাবার   \n",
       "653033  efff6b0db996  দ্বার খুলিয়াই দেখিল চন্দনগুঁড়া ও ধুনার গন্ধে...   \n",
       "653034  efff72a2e276                        এই লউন তরবারি এই লউন উষ্ণীষ   \n",
       "653035  efff9dc31af3               সুলেমানই আমাকে জোর করে খাইয়েছে মামা   \n",
       "653036  efffb42d08da  তিনি সংসদ সদস্য থেকে ধীরে ধীরে মন্ত্রী পর্যন্ত...   \n",
       "\n",
       "        split                                               path  use  \n",
       "0       train  /home/benedikt/deeplearning/bengaliai-speech/d...  1.0  \n",
       "1       train  /home/benedikt/deeplearning/bengaliai-speech/d...  1.0  \n",
       "2       train  /home/benedikt/deeplearning/bengaliai-speech/d...  1.0  \n",
       "3       train  /home/benedikt/deeplearning/bengaliai-speech/d...  1.0  \n",
       "4       train  /home/benedikt/deeplearning/bengaliai-speech/d...  1.0  \n",
       "...       ...                                                ...  ...  \n",
       "653032  train  /home/benedikt/deeplearning/bengaliai-speech/d...  1.0  \n",
       "653033  train  /home/benedikt/deeplearning/bengaliai-speech/d...  1.0  \n",
       "653034  train  /home/benedikt/deeplearning/bengaliai-speech/d...  1.0  \n",
       "653035  train  /home/benedikt/deeplearning/bengaliai-speech/d...  1.0  \n",
       "653036  train  /home/benedikt/deeplearning/bengaliai-speech/d...  1.0  \n",
       "\n",
       "[653037 rows x 5 columns]"
      ]
     },
     "execution_count": 15,
     "metadata": {},
     "output_type": "execute_result"
    }
   ],
   "source": [
    "train"
   ]
  },
  {
   "cell_type": "code",
   "execution_count": 3,
   "id": "179d964f-411f-4af0-a211-a4011c45eb31",
   "metadata": {},
   "outputs": [],
   "source": [
    "all_files = train['path'].tolist()"
   ]
  },
  {
   "cell_type": "code",
   "execution_count": 4,
   "id": "91acebfb-d5c9-4c54-b9d9-b140c0d39173",
   "metadata": {},
   "outputs": [
    {
     "name": "stdout",
     "output_type": "stream",
     "text": [
      "CPU times: user 512 ms, sys: 331 ms, total: 842 ms\n",
      "Wall time: 1h 2min 30s\n"
     ]
    }
   ],
   "source": [
    "%%time\n",
    "num_processes = 16\n",
    "\n",
    "with Pool(processes=num_processes) as pool:\n",
    "    results = pool.map(process_audio_file, all_files)"
   ]
  },
  {
   "cell_type": "code",
   "execution_count": 6,
   "id": "eadffca9-495b-4b9a-8f2d-7e4d8bb727f7",
   "metadata": {},
   "outputs": [],
   "source": [
    "time = [x[1] for x in results]"
   ]
  },
  {
   "cell_type": "code",
   "execution_count": 11,
   "id": "0d297343-9125-4eeb-a36e-e8f51a7c92b7",
   "metadata": {},
   "outputs": [
    {
     "data": {
      "text/plain": [
       "array([[<AxesSubplot:title={'center':'0'}>]], dtype=object)"
      ]
     },
     "execution_count": 11,
     "metadata": {},
     "output_type": "execute_result"
    },
    {
     "data": {
      "image/png": "[encoded data removed]",
      "text/plain": [
       "<Figure size 432x288 with 1 Axes>"
      ]
     },
     "metadata": {
      "needs_background": "light"
     },
     "output_type": "display_data"
    }
   ],
   "source": [
    "pd.DataFrame(time).hist()"
   ]
  },
  {
   "cell_type": "code",
   "execution_count": 13,
   "id": "e0467f62-fdd9-4369-bcb0-33b7236c62d2",
   "metadata": {},
   "outputs": [],
   "source": [
    "train['duration'] = time"
   ]
  },
  {
   "cell_type": "code",
   "execution_count": 14,
   "id": "7ce87955-c3c5-4c31-b1c3-72452aee80c6",
   "metadata": {},
   "outputs": [],
   "source": [
    "train.to_pickle(\"../data/train_with_duration.pkl\")"
   ]
  }
 ],
 "metadata": {
  "kernelspec": {
   "display_name": "Python 3 (ipykernel)",
   "language": "python",
   "name": "python3"
  },
  "language_info": {
   "codemirror_mode": {
    "name": "ipython",
    "version": 3
   },
   "file_extension": ".py",
   "mimetype": "text/x-python",
   "name": "python",
   "nbconvert_exporter": "python",
   "pygments_lexer": "ipython3",
   "version": "3.10.12"
  }
 },
 "nbformat": 4,
 "nbformat_minor": 5
}
